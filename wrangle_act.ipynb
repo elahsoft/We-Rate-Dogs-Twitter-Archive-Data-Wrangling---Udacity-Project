{
 "cells": [
  {
   "cell_type": "markdown",
   "id": "c4cd0a9b",
   "metadata": {},
   "source": [
    "# Project - Investigating the Twitter WeRateDogs Archive\n",
    "\n",
    "### Table of Contents\n",
    "\n",
    "<ul>\n",
    "    <li><a href=\"#intro\">Introduction - Data Gathering</a></li>\n",
    "    <li><a href=\"#assessing\">Data Assessing</a></li>\n",
    "    <li><a href=\"#cleaning\">Data Cleaning</a></li>\n",
    "    <li><a href=\"#da\">Data Analysis</a></li>\n",
    "    <li><a href=\"#insights\"> Insights</a></li>\n",
    "</ul>"
   ]
  },
  {
   "cell_type": "markdown",
   "id": "2806e84a",
   "metadata": {},
   "source": [
    "<a id='intro'></a>\n",
    "## Introduction - Data Gathering\n",
    "This project is investigating the tweet archive of Twitter user @dog_rates also known as WeRateDogs. They rate people's dogs with a humorous comment about the dog. The rating comes with a denominator of 10 and the numerator is always greater than 10.\n",
    "The project is investigating three datasets.\n",
    "1. The enhanced twitter archive\n",
    "2. Data gathered from twitter API (retweet count, favorite count)\n",
    "3. Image Predictions File: Which is the output gotten by running the dog's image through a neural network. Columns include:\n",
    "    1. tweet_id: The last part of the tweet url after \"status/\"-> https://twitter.com/dog-rates/status/88,,,,921\n",
    "    2. TP1: The algorithm's number 1 prediction for the image in the tweet.\n",
    "    3. TP1_conf: How confident the algorithm is in its number 1 prediction.\n",
    "    4. TP1_dog: Whether or not the number 1 prediction is a breed of dog.\n",
    "    5. TP2: The algorithm's second most likely prediction.\n",
    "    6. TP2_conf: How confident the algorithm is in its number 2 prediction.\n",
    "    7. TP2_dog: Whether or not the number 2 prediction is a breed of dog. e.t.c\n"
   ]
  },
  {
   "cell_type": "code",
   "execution_count": 2,
   "id": "c0f4e555",
   "metadata": {},
   "outputs": [],
   "source": [
    "#import libraries\n",
    "import pandas as pd\n",
    "import numpy as np\n",
    "import requests as r\n",
    "import tweepy as tw\n",
    "import seaborn as sb\n",
    "import matplotlib.pyplot as plt\n",
    "\n",
    "%matplotlib inline"
   ]
  },
  {
   "cell_type": "code",
   "execution_count": 14,
   "id": "00e9abdc",
   "metadata": {},
   "outputs": [],
   "source": [
    "# authenticating twitter api credentials\n",
    "consumer_key = ''\n",
    "consumer_secret = ''\n",
    "access_token = ''\n",
    "access_token_secret = ''"
   ]
  },
  {
   "cell_type": "code",
   "execution_count": 3,
   "id": "e0fc91c6",
   "metadata": {},
   "outputs": [],
   "source": [
    "#load twitter-archive-enhanced.csv\n",
    "df_twitter_archive = pd.read_csv('twitter-archive-enhanced.csv')"
   ]
  },
  {
   "cell_type": "code",
   "execution_count": 16,
   "id": "52e5c156",
   "metadata": {},
   "outputs": [],
   "source": [
    "#Get Neural Network Predictions\n",
    "response = r.get('https://d17h27t6h515a5.cloudfront.net/topher/2017/August/599fd2ad_image-predictions/image-predictions.tsv')"
   ]
  },
  {
   "cell_type": "code",
   "execution_count": 17,
   "id": "4029a6e0",
   "metadata": {},
   "outputs": [
    {
     "data": {
      "text/plain": [
       "'tweet_id\\tjpg_url\\timg_num\\tp1\\tp1_conf\\tp1_dog\\tp2\\tp2_conf\\tp2_dog\\tp3\\tp3_conf\\tp3_dog\\n666020888022790149\\thttps://pbs.twimg.com/media/CT4udn0WwAA0aMy.jpg\\t1\\tWelsh_springer_spaniel\\t0.465074\\tTrue\\tcollie\\t0.156665'"
      ]
     },
     "execution_count": 17,
     "metadata": {},
     "output_type": "execute_result"
    }
   ],
   "source": [
    "#check to see that we got a response from the url\n",
    "response.text[0:200]"
   ]
  },
  {
   "cell_type": "code",
   "execution_count": 18,
   "id": "fd470906",
   "metadata": {},
   "outputs": [
    {
     "data": {
      "text/plain": [
       "tweet_id                        int64\n",
       "in_reply_to_status_id         float64\n",
       "in_reply_to_user_id           float64\n",
       "timestamp                      object\n",
       "source                         object\n",
       "text                           object\n",
       "retweeted_status_id           float64\n",
       "retweeted_status_user_id      float64\n",
       "retweeted_status_timestamp     object\n",
       "expanded_urls                  object\n",
       "rating_numerator                int64\n",
       "rating_denominator              int64\n",
       "name                           object\n",
       "doggo                          object\n",
       "floofer                        object\n",
       "pupper                         object\n",
       "puppo                          object\n",
       "dtype: object"
      ]
     },
     "execution_count": 18,
     "metadata": {},
     "output_type": "execute_result"
    }
   ],
   "source": [
    "#Inspect df_twitter_archive to see the structure of the dataframe\n",
    "df_twitter_archive.dtypes"
   ]
  },
  {
   "cell_type": "code",
   "execution_count": 8,
   "id": "1b775705",
   "metadata": {},
   "outputs": [],
   "source": [
    "# instantiating the api\n",
    "auth = tw.OAuthHandler(consumer_key, consumer_secret)\n",
    "auth.set_access_token(access_token, access_token_secret)\n",
    "\n",
    "# creating API object\n",
    "api = tw.API(auth)"
   ]
  },
  {
   "cell_type": "code",
   "execution_count": 10,
   "id": "2a002b66",
   "metadata": {},
   "outputs": [
    {
     "name": "stdout",
     "output_type": "stream",
     "text": [
      "4737.157113075256\n",
      "[888202515573088257, 873697596434513921, 872668790621863937, 872261713294495745, 869988702071779329, 866816280283807744, 861769973181624320, 856602993587888130, 856330835276025856, 851953902622658560, 851861385021730816, 845459076796616705, 844704788403113984, 842892208864923648, 837366284874571778, 837012587749474308, 829374341691346946, 827228250799742977, 812747805718642688, 802247111496568832, 794332329137291264, 779123168116150273, 775096608509886464, 771004394259247104, 770743923962707968, 766864461642756096, 759923798737051648, 759566828574212096, 754011816964026368, 680055455951884288, 671744970634719232, 669753178989142016]\n"
     ]
    }
   ],
   "source": [
    "#Gather remaining data, separating the tweet_ids that failed\n",
    "import time\n",
    "fav = []\n",
    "retweet = []\n",
    "tweet_id_new = []\n",
    "fail_tweet_id = []\n",
    "start_time = time.time()\n",
    "for item in df_twitter_archive['tweet_id']:\n",
    "    try:\n",
    "        tweet_details = api.get_status(item)\n",
    "        tweet_id_new.append(item)\n",
    "        fav.append(tweet_details.favorite_count)\n",
    "        retweet.append(tweet_details.retweet_count)\n",
    "    except tw.errors.NotFound:\n",
    "        fail_tweet_id.append(item)\n",
    "        continue\n",
    "    except tw.errors.Forbidden:\n",
    "        fail_tweet_id.append(item)\n",
    "        continue\n",
    "    except tw.errors.Unauthorized:\n",
    "        fail_tweet_id.append(item)\n",
    "        continue\n",
    "    except tw.errors.HTTPException:\n",
    "        fail_tweet_id.append(item)\n",
    "        continue\n",
    "    except tw.errors.TweepyException:\n",
    "        fail_tweet_id.append(item)\n",
    "        continue\n",
    "           \n",
    "end_time = time.time()\n",
    "print(end_time - start_time)\n",
    "print(fail_tweet_id)"
   ]
  },
  {
   "cell_type": "code",
   "execution_count": 11,
   "id": "2c6fc317",
   "metadata": {},
   "outputs": [],
   "source": [
    "#Form a dataframe using the list\n",
    "data = {'tweet_id': tweet_id_new, 'favorite_count': fav, 'retweet_count':retweet}\n",
    "df_tweet_json = pd.DataFrame.from_dict(data)"
   ]
  },
  {
   "cell_type": "code",
   "execution_count": 12,
   "id": "1becb6fa",
   "metadata": {},
   "outputs": [],
   "source": [
    "#Save data downloaded from API to a text file\n",
    "#df_tweet_json.to_csv('tweet_json.txt', header=None, index=None, sep=' ', mode='a')\n",
    "df_tweet_json.to_json('tweet-json.txt', orient='columns')"
   ]
  },
  {
   "cell_type": "code",
   "execution_count": 13,
   "id": "f602d5f5",
   "metadata": {},
   "outputs": [],
   "source": [
    "#Save failed tweet ids to a text file\n",
    "df_failed_tweet_id = pd.DataFrame.from_dict({'tweet_id':fail_tweet_id}, orient='index')\n",
    "df_failed_tweet_id.to_csv('tweet-json_fail.txt', header=None, index=None, sep=' ', mode='a')\n"
   ]
  },
  {
   "cell_type": "code",
   "execution_count": 32,
   "id": "420c809a",
   "metadata": {},
   "outputs": [],
   "source": [
    "#Converting the tab separated values we read into a pandas dataframe\n",
    "responseList = response.content.decode('utf-8').split('\\n')\n",
    "responseList = responseList[1:len(responseList)-1]\n",
    "column_names = ['tweet_id','jpg_url','img_num','tp1','tp1_confidence','tp1_dog','tp2','tp2_confidence','tp2_dog','tp3','tp3_confidence','tp3_dog']\n",
    "df_prediction = pd.DataFrame(columns = column_names)\n",
    "\n",
    "for item in responseList:\n",
    "    ite = item.split('\\t')\n",
    "    df_prediction.loc[len(df_prediction)] = ite"
   ]
  },
  {
   "cell_type": "code",
   "execution_count": 33,
   "id": "c4e933d3",
   "metadata": {},
   "outputs": [],
   "source": [
    "#Writing the Tab Separated Values into a TSV File\n",
    "df_prediction.to_csv('predictions.tsv', sep=\"\\t\")"
   ]
  },
  {
   "cell_type": "code",
   "execution_count": 4,
   "id": "47bd5971",
   "metadata": {},
   "outputs": [
    {
     "data": {
      "text/html": [
       "<div>\n",
       "<style scoped>\n",
       "    .dataframe tbody tr th:only-of-type {\n",
       "        vertical-align: middle;\n",
       "    }\n",
       "\n",
       "    .dataframe tbody tr th {\n",
       "        vertical-align: top;\n",
       "    }\n",
       "\n",
       "    .dataframe thead th {\n",
       "        text-align: right;\n",
       "    }\n",
       "</style>\n",
       "<table border=\"1\" class=\"dataframe\">\n",
       "  <thead>\n",
       "    <tr style=\"text-align: right;\">\n",
       "      <th></th>\n",
       "      <th>tweet_id</th>\n",
       "      <th>favorite_count</th>\n",
       "      <th>retweet_count</th>\n",
       "    </tr>\n",
       "  </thead>\n",
       "  <tbody>\n",
       "    <tr>\n",
       "      <th>0</th>\n",
       "      <td>892420643555336193</td>\n",
       "      <td>33847</td>\n",
       "      <td>7024</td>\n",
       "    </tr>\n",
       "    <tr>\n",
       "      <th>1</th>\n",
       "      <td>892177421306343426</td>\n",
       "      <td>29364</td>\n",
       "      <td>5304</td>\n",
       "    </tr>\n",
       "    <tr>\n",
       "      <th>2</th>\n",
       "      <td>891815181378084864</td>\n",
       "      <td>22086</td>\n",
       "      <td>3488</td>\n",
       "    </tr>\n",
       "    <tr>\n",
       "      <th>3</th>\n",
       "      <td>891689557279858688</td>\n",
       "      <td>36987</td>\n",
       "      <td>7237</td>\n",
       "    </tr>\n",
       "    <tr>\n",
       "      <th>4</th>\n",
       "      <td>891327558926688256</td>\n",
       "      <td>35364</td>\n",
       "      <td>7775</td>\n",
       "    </tr>\n",
       "    <tr>\n",
       "      <th>...</th>\n",
       "      <td>...</td>\n",
       "      <td>...</td>\n",
       "      <td>...</td>\n",
       "    </tr>\n",
       "    <tr>\n",
       "      <th>2319</th>\n",
       "      <td>666049248165822465</td>\n",
       "      <td>89</td>\n",
       "      <td>37</td>\n",
       "    </tr>\n",
       "    <tr>\n",
       "      <th>2320</th>\n",
       "      <td>666044226329800704</td>\n",
       "      <td>247</td>\n",
       "      <td>115</td>\n",
       "    </tr>\n",
       "    <tr>\n",
       "      <th>2321</th>\n",
       "      <td>666033412701032449</td>\n",
       "      <td>100</td>\n",
       "      <td>36</td>\n",
       "    </tr>\n",
       "    <tr>\n",
       "      <th>2322</th>\n",
       "      <td>666029285002620928</td>\n",
       "      <td>112</td>\n",
       "      <td>39</td>\n",
       "    </tr>\n",
       "    <tr>\n",
       "      <th>2323</th>\n",
       "      <td>666020888022790149</td>\n",
       "      <td>2293</td>\n",
       "      <td>424</td>\n",
       "    </tr>\n",
       "  </tbody>\n",
       "</table>\n",
       "<p>2324 rows × 3 columns</p>\n",
       "</div>"
      ],
      "text/plain": [
       "                tweet_id  favorite_count  retweet_count\n",
       "0     892420643555336193           33847           7024\n",
       "1     892177421306343426           29364           5304\n",
       "2     891815181378084864           22086           3488\n",
       "3     891689557279858688           36987           7237\n",
       "4     891327558926688256           35364           7775\n",
       "...                  ...             ...            ...\n",
       "2319  666049248165822465              89             37\n",
       "2320  666044226329800704             247            115\n",
       "2321  666033412701032449             100             36\n",
       "2322  666029285002620928             112             39\n",
       "2323  666020888022790149            2293            424\n",
       "\n",
       "[2324 rows x 3 columns]"
      ]
     },
     "execution_count": 4,
     "metadata": {},
     "output_type": "execute_result"
    }
   ],
   "source": [
    "#Code to read tweet-json.txt\n",
    "df_new = pd.read_json('tweet-json.txt')\n",
    "df_new"
   ]
  },
  {
   "cell_type": "code",
   "execution_count": 5,
   "id": "e9f1d78d",
   "metadata": {},
   "outputs": [],
   "source": [
    "#Code to read prediction if no internet access\n",
    "df_prediction = pd.read_csv('predictions.tsv', sep=\"\\t\")"
   ]
  },
  {
   "cell_type": "markdown",
   "id": "62f30c2b",
   "metadata": {},
   "source": [
    "<a id='assessing'></a>\n",
    "## Data Assessing\n",
    "\n"
   ]
  },
  {
   "cell_type": "code",
   "execution_count": 36,
   "id": "7d6ae6df",
   "metadata": {},
   "outputs": [
    {
     "data": {
      "text/plain": [
       "(2324, 3)"
      ]
     },
     "execution_count": 36,
     "metadata": {},
     "output_type": "execute_result"
    }
   ],
   "source": [
    "df_new.shape"
   ]
  },
  {
   "cell_type": "code",
   "execution_count": 37,
   "id": "e7f92789",
   "metadata": {},
   "outputs": [
    {
     "data": {
      "text/plain": [
       "(2075, 13)"
      ]
     },
     "execution_count": 37,
     "metadata": {},
     "output_type": "execute_result"
    }
   ],
   "source": [
    "df_prediction.shape"
   ]
  },
  {
   "cell_type": "code",
   "execution_count": 38,
   "id": "289f8111",
   "metadata": {},
   "outputs": [
    {
     "data": {
      "text/plain": [
       "(2356, 17)"
      ]
     },
     "execution_count": 38,
     "metadata": {},
     "output_type": "execute_result"
    }
   ],
   "source": [
    "df_twitter_archive.shape"
   ]
  },
  {
   "cell_type": "markdown",
   "id": "782789b0",
   "metadata": {},
   "source": [
    "### Structure Issue 1\n",
    "\n",
    "*df_twitter_archive does not have the same number of rows as df_new*"
   ]
  },
  {
   "cell_type": "markdown",
   "id": "a6a7c344",
   "metadata": {},
   "source": [
    "### Structure Issue 2\n",
    "*Our df_twitter_archive dataframe has the column `timestamp` not descriptive enough*"
   ]
  },
  {
   "cell_type": "code",
   "execution_count": 39,
   "id": "983d1c40",
   "metadata": {},
   "outputs": [
    {
     "name": "stdout",
     "output_type": "stream",
     "text": [
      "<class 'pandas.core.frame.DataFrame'>\n",
      "Int64Index: 2324 entries, 0 to 2323\n",
      "Data columns (total 3 columns):\n",
      " #   Column          Non-Null Count  Dtype\n",
      "---  ------          --------------  -----\n",
      " 0   tweet_id        2324 non-null   int64\n",
      " 1   favorite_count  2324 non-null   int64\n",
      " 2   retweet_count   2324 non-null   int64\n",
      "dtypes: int64(3)\n",
      "memory usage: 72.6 KB\n"
     ]
    }
   ],
   "source": [
    "df_new.info()"
   ]
  },
  {
   "cell_type": "code",
   "execution_count": 40,
   "id": "af150e47",
   "metadata": {},
   "outputs": [
    {
     "name": "stdout",
     "output_type": "stream",
     "text": [
      "<class 'pandas.core.frame.DataFrame'>\n",
      "RangeIndex: 2075 entries, 0 to 2074\n",
      "Data columns (total 13 columns):\n",
      " #   Column          Non-Null Count  Dtype  \n",
      "---  ------          --------------  -----  \n",
      " 0   Unnamed: 0      2075 non-null   int64  \n",
      " 1   tweet_id        2075 non-null   int64  \n",
      " 2   jpg_url         2075 non-null   object \n",
      " 3   img_num         2075 non-null   int64  \n",
      " 4   tp1             2075 non-null   object \n",
      " 5   tp1_confidence  2075 non-null   float64\n",
      " 6   tp1_dog         2075 non-null   bool   \n",
      " 7   tp2             2075 non-null   object \n",
      " 8   tp2_confidence  2075 non-null   float64\n",
      " 9   tp2_dog         2075 non-null   bool   \n",
      " 10  tp3             2075 non-null   object \n",
      " 11  tp3_confidence  2075 non-null   float64\n",
      " 12  tp3_dog         2075 non-null   bool   \n",
      "dtypes: bool(3), float64(3), int64(3), object(4)\n",
      "memory usage: 168.3+ KB\n"
     ]
    }
   ],
   "source": [
    "df_prediction.info()"
   ]
  },
  {
   "cell_type": "code",
   "execution_count": 41,
   "id": "6a8f354e",
   "metadata": {},
   "outputs": [
    {
     "name": "stdout",
     "output_type": "stream",
     "text": [
      "<class 'pandas.core.frame.DataFrame'>\n",
      "RangeIndex: 2356 entries, 0 to 2355\n",
      "Data columns (total 17 columns):\n",
      " #   Column                      Non-Null Count  Dtype  \n",
      "---  ------                      --------------  -----  \n",
      " 0   tweet_id                    2356 non-null   int64  \n",
      " 1   in_reply_to_status_id       78 non-null     float64\n",
      " 2   in_reply_to_user_id         78 non-null     float64\n",
      " 3   timestamp                   2356 non-null   object \n",
      " 4   source                      2356 non-null   object \n",
      " 5   text                        2356 non-null   object \n",
      " 6   retweeted_status_id         181 non-null    float64\n",
      " 7   retweeted_status_user_id    181 non-null    float64\n",
      " 8   retweeted_status_timestamp  181 non-null    object \n",
      " 9   expanded_urls               2297 non-null   object \n",
      " 10  rating_numerator            2356 non-null   int64  \n",
      " 11  rating_denominator          2356 non-null   int64  \n",
      " 12  name                        2356 non-null   object \n",
      " 13  doggo                       2356 non-null   object \n",
      " 14  floofer                     2356 non-null   object \n",
      " 15  pupper                      2356 non-null   object \n",
      " 16  puppo                       2356 non-null   object \n",
      "dtypes: float64(4), int64(3), object(10)\n",
      "memory usage: 313.0+ KB\n"
     ]
    }
   ],
   "source": [
    "df_twitter_archive.info()"
   ]
  },
  {
   "cell_type": "markdown",
   "id": "57defd50",
   "metadata": {},
   "source": [
    "### Quality Issue 1\n",
    "*`in_reply_to_status_id,in_reply_to_user_id, retweeted_status_id,retweeted_status_user_id` are of float type instead of int.*"
   ]
  },
  {
   "cell_type": "markdown",
   "id": "cfa027ad",
   "metadata": {},
   "source": [
    "### Quality Issue 2\n",
    "*`retweeted_status_timestamp and timestamp` should be of type datetime but it is a string.*"
   ]
  },
  {
   "cell_type": "code",
   "execution_count": 42,
   "id": "b8f52013",
   "metadata": {},
   "outputs": [
    {
     "data": {
      "text/html": [
       "<div>\n",
       "<style scoped>\n",
       "    .dataframe tbody tr th:only-of-type {\n",
       "        vertical-align: middle;\n",
       "    }\n",
       "\n",
       "    .dataframe tbody tr th {\n",
       "        vertical-align: top;\n",
       "    }\n",
       "\n",
       "    .dataframe thead th {\n",
       "        text-align: right;\n",
       "    }\n",
       "</style>\n",
       "<table border=\"1\" class=\"dataframe\">\n",
       "  <thead>\n",
       "    <tr style=\"text-align: right;\">\n",
       "      <th></th>\n",
       "      <th>tweet_id</th>\n",
       "      <th>favorite_count</th>\n",
       "      <th>retweet_count</th>\n",
       "    </tr>\n",
       "  </thead>\n",
       "  <tbody>\n",
       "    <tr>\n",
       "      <th>0</th>\n",
       "      <td>892420643555336193</td>\n",
       "      <td>33847</td>\n",
       "      <td>7024</td>\n",
       "    </tr>\n",
       "    <tr>\n",
       "      <th>1</th>\n",
       "      <td>892177421306343426</td>\n",
       "      <td>29364</td>\n",
       "      <td>5304</td>\n",
       "    </tr>\n",
       "    <tr>\n",
       "      <th>2</th>\n",
       "      <td>891815181378084864</td>\n",
       "      <td>22086</td>\n",
       "      <td>3488</td>\n",
       "    </tr>\n",
       "    <tr>\n",
       "      <th>3</th>\n",
       "      <td>891689557279858688</td>\n",
       "      <td>36987</td>\n",
       "      <td>7237</td>\n",
       "    </tr>\n",
       "    <tr>\n",
       "      <th>4</th>\n",
       "      <td>891327558926688256</td>\n",
       "      <td>35364</td>\n",
       "      <td>7775</td>\n",
       "    </tr>\n",
       "  </tbody>\n",
       "</table>\n",
       "</div>"
      ],
      "text/plain": [
       "             tweet_id  favorite_count  retweet_count\n",
       "0  892420643555336193           33847           7024\n",
       "1  892177421306343426           29364           5304\n",
       "2  891815181378084864           22086           3488\n",
       "3  891689557279858688           36987           7237\n",
       "4  891327558926688256           35364           7775"
      ]
     },
     "execution_count": 42,
     "metadata": {},
     "output_type": "execute_result"
    }
   ],
   "source": [
    "df_new.head()"
   ]
  },
  {
   "cell_type": "code",
   "execution_count": 43,
   "id": "472372bf",
   "metadata": {},
   "outputs": [
    {
     "data": {
      "text/html": [
       "<div>\n",
       "<style scoped>\n",
       "    .dataframe tbody tr th:only-of-type {\n",
       "        vertical-align: middle;\n",
       "    }\n",
       "\n",
       "    .dataframe tbody tr th {\n",
       "        vertical-align: top;\n",
       "    }\n",
       "\n",
       "    .dataframe thead th {\n",
       "        text-align: right;\n",
       "    }\n",
       "</style>\n",
       "<table border=\"1\" class=\"dataframe\">\n",
       "  <thead>\n",
       "    <tr style=\"text-align: right;\">\n",
       "      <th></th>\n",
       "      <th>Unnamed: 0</th>\n",
       "      <th>tweet_id</th>\n",
       "      <th>jpg_url</th>\n",
       "      <th>img_num</th>\n",
       "      <th>tp1</th>\n",
       "      <th>tp1_confidence</th>\n",
       "      <th>tp1_dog</th>\n",
       "      <th>tp2</th>\n",
       "      <th>tp2_confidence</th>\n",
       "      <th>tp2_dog</th>\n",
       "      <th>tp3</th>\n",
       "      <th>tp3_confidence</th>\n",
       "      <th>tp3_dog</th>\n",
       "    </tr>\n",
       "  </thead>\n",
       "  <tbody>\n",
       "    <tr>\n",
       "      <th>0</th>\n",
       "      <td>0</td>\n",
       "      <td>666020888022790149</td>\n",
       "      <td>https://pbs.twimg.com/media/CT4udn0WwAA0aMy.jpg</td>\n",
       "      <td>1</td>\n",
       "      <td>Welsh_springer_spaniel</td>\n",
       "      <td>0.465074</td>\n",
       "      <td>True</td>\n",
       "      <td>collie</td>\n",
       "      <td>0.156665</td>\n",
       "      <td>True</td>\n",
       "      <td>Shetland_sheepdog</td>\n",
       "      <td>0.061428</td>\n",
       "      <td>True</td>\n",
       "    </tr>\n",
       "    <tr>\n",
       "      <th>1</th>\n",
       "      <td>1</td>\n",
       "      <td>666029285002620928</td>\n",
       "      <td>https://pbs.twimg.com/media/CT42GRgUYAA5iDo.jpg</td>\n",
       "      <td>1</td>\n",
       "      <td>redbone</td>\n",
       "      <td>0.506826</td>\n",
       "      <td>True</td>\n",
       "      <td>miniature_pinscher</td>\n",
       "      <td>0.074192</td>\n",
       "      <td>True</td>\n",
       "      <td>Rhodesian_ridgeback</td>\n",
       "      <td>0.072010</td>\n",
       "      <td>True</td>\n",
       "    </tr>\n",
       "    <tr>\n",
       "      <th>2</th>\n",
       "      <td>2</td>\n",
       "      <td>666033412701032449</td>\n",
       "      <td>https://pbs.twimg.com/media/CT4521TWwAEvMyu.jpg</td>\n",
       "      <td>1</td>\n",
       "      <td>German_shepherd</td>\n",
       "      <td>0.596461</td>\n",
       "      <td>True</td>\n",
       "      <td>malinois</td>\n",
       "      <td>0.138584</td>\n",
       "      <td>True</td>\n",
       "      <td>bloodhound</td>\n",
       "      <td>0.116197</td>\n",
       "      <td>True</td>\n",
       "    </tr>\n",
       "    <tr>\n",
       "      <th>3</th>\n",
       "      <td>3</td>\n",
       "      <td>666044226329800704</td>\n",
       "      <td>https://pbs.twimg.com/media/CT5Dr8HUEAA-lEu.jpg</td>\n",
       "      <td>1</td>\n",
       "      <td>Rhodesian_ridgeback</td>\n",
       "      <td>0.408143</td>\n",
       "      <td>True</td>\n",
       "      <td>redbone</td>\n",
       "      <td>0.360687</td>\n",
       "      <td>True</td>\n",
       "      <td>miniature_pinscher</td>\n",
       "      <td>0.222752</td>\n",
       "      <td>True</td>\n",
       "    </tr>\n",
       "    <tr>\n",
       "      <th>4</th>\n",
       "      <td>4</td>\n",
       "      <td>666049248165822465</td>\n",
       "      <td>https://pbs.twimg.com/media/CT5IQmsXIAAKY4A.jpg</td>\n",
       "      <td>1</td>\n",
       "      <td>miniature_pinscher</td>\n",
       "      <td>0.560311</td>\n",
       "      <td>True</td>\n",
       "      <td>Rottweiler</td>\n",
       "      <td>0.243682</td>\n",
       "      <td>True</td>\n",
       "      <td>Doberman</td>\n",
       "      <td>0.154629</td>\n",
       "      <td>True</td>\n",
       "    </tr>\n",
       "  </tbody>\n",
       "</table>\n",
       "</div>"
      ],
      "text/plain": [
       "   Unnamed: 0            tweet_id  \\\n",
       "0           0  666020888022790149   \n",
       "1           1  666029285002620928   \n",
       "2           2  666033412701032449   \n",
       "3           3  666044226329800704   \n",
       "4           4  666049248165822465   \n",
       "\n",
       "                                           jpg_url  img_num  \\\n",
       "0  https://pbs.twimg.com/media/CT4udn0WwAA0aMy.jpg        1   \n",
       "1  https://pbs.twimg.com/media/CT42GRgUYAA5iDo.jpg        1   \n",
       "2  https://pbs.twimg.com/media/CT4521TWwAEvMyu.jpg        1   \n",
       "3  https://pbs.twimg.com/media/CT5Dr8HUEAA-lEu.jpg        1   \n",
       "4  https://pbs.twimg.com/media/CT5IQmsXIAAKY4A.jpg        1   \n",
       "\n",
       "                      tp1  tp1_confidence  tp1_dog                 tp2  \\\n",
       "0  Welsh_springer_spaniel        0.465074     True              collie   \n",
       "1                 redbone        0.506826     True  miniature_pinscher   \n",
       "2         German_shepherd        0.596461     True            malinois   \n",
       "3     Rhodesian_ridgeback        0.408143     True             redbone   \n",
       "4      miniature_pinscher        0.560311     True          Rottweiler   \n",
       "\n",
       "   tp2_confidence  tp2_dog                  tp3  tp3_confidence  tp3_dog  \n",
       "0        0.156665     True    Shetland_sheepdog        0.061428     True  \n",
       "1        0.074192     True  Rhodesian_ridgeback        0.072010     True  \n",
       "2        0.138584     True           bloodhound        0.116197     True  \n",
       "3        0.360687     True   miniature_pinscher        0.222752     True  \n",
       "4        0.243682     True             Doberman        0.154629     True  "
      ]
     },
     "execution_count": 43,
     "metadata": {},
     "output_type": "execute_result"
    }
   ],
   "source": [
    "df_prediction.head()"
   ]
  },
  {
   "cell_type": "code",
   "execution_count": 44,
   "id": "399132b8",
   "metadata": {},
   "outputs": [
    {
     "data": {
      "text/html": [
       "<div>\n",
       "<style scoped>\n",
       "    .dataframe tbody tr th:only-of-type {\n",
       "        vertical-align: middle;\n",
       "    }\n",
       "\n",
       "    .dataframe tbody tr th {\n",
       "        vertical-align: top;\n",
       "    }\n",
       "\n",
       "    .dataframe thead th {\n",
       "        text-align: right;\n",
       "    }\n",
       "</style>\n",
       "<table border=\"1\" class=\"dataframe\">\n",
       "  <thead>\n",
       "    <tr style=\"text-align: right;\">\n",
       "      <th></th>\n",
       "      <th>tweet_id</th>\n",
       "      <th>in_reply_to_status_id</th>\n",
       "      <th>in_reply_to_user_id</th>\n",
       "      <th>timestamp</th>\n",
       "      <th>source</th>\n",
       "      <th>text</th>\n",
       "      <th>retweeted_status_id</th>\n",
       "      <th>retweeted_status_user_id</th>\n",
       "      <th>retweeted_status_timestamp</th>\n",
       "      <th>expanded_urls</th>\n",
       "      <th>rating_numerator</th>\n",
       "      <th>rating_denominator</th>\n",
       "      <th>name</th>\n",
       "      <th>doggo</th>\n",
       "      <th>floofer</th>\n",
       "      <th>pupper</th>\n",
       "      <th>puppo</th>\n",
       "    </tr>\n",
       "  </thead>\n",
       "  <tbody>\n",
       "    <tr>\n",
       "      <th>0</th>\n",
       "      <td>892420643555336193</td>\n",
       "      <td>NaN</td>\n",
       "      <td>NaN</td>\n",
       "      <td>2017-08-01 16:23:56 +0000</td>\n",
       "      <td>&lt;a href=\"http://twitter.com/download/iphone\" r...</td>\n",
       "      <td>This is Phineas. He's a mystical boy. Only eve...</td>\n",
       "      <td>NaN</td>\n",
       "      <td>NaN</td>\n",
       "      <td>NaN</td>\n",
       "      <td>https://twitter.com/dog_rates/status/892420643...</td>\n",
       "      <td>13</td>\n",
       "      <td>10</td>\n",
       "      <td>Phineas</td>\n",
       "      <td>None</td>\n",
       "      <td>None</td>\n",
       "      <td>None</td>\n",
       "      <td>None</td>\n",
       "    </tr>\n",
       "    <tr>\n",
       "      <th>1</th>\n",
       "      <td>892177421306343426</td>\n",
       "      <td>NaN</td>\n",
       "      <td>NaN</td>\n",
       "      <td>2017-08-01 00:17:27 +0000</td>\n",
       "      <td>&lt;a href=\"http://twitter.com/download/iphone\" r...</td>\n",
       "      <td>This is Tilly. She's just checking pup on you....</td>\n",
       "      <td>NaN</td>\n",
       "      <td>NaN</td>\n",
       "      <td>NaN</td>\n",
       "      <td>https://twitter.com/dog_rates/status/892177421...</td>\n",
       "      <td>13</td>\n",
       "      <td>10</td>\n",
       "      <td>Tilly</td>\n",
       "      <td>None</td>\n",
       "      <td>None</td>\n",
       "      <td>None</td>\n",
       "      <td>None</td>\n",
       "    </tr>\n",
       "    <tr>\n",
       "      <th>2</th>\n",
       "      <td>891815181378084864</td>\n",
       "      <td>NaN</td>\n",
       "      <td>NaN</td>\n",
       "      <td>2017-07-31 00:18:03 +0000</td>\n",
       "      <td>&lt;a href=\"http://twitter.com/download/iphone\" r...</td>\n",
       "      <td>This is Archie. He is a rare Norwegian Pouncin...</td>\n",
       "      <td>NaN</td>\n",
       "      <td>NaN</td>\n",
       "      <td>NaN</td>\n",
       "      <td>https://twitter.com/dog_rates/status/891815181...</td>\n",
       "      <td>12</td>\n",
       "      <td>10</td>\n",
       "      <td>Archie</td>\n",
       "      <td>None</td>\n",
       "      <td>None</td>\n",
       "      <td>None</td>\n",
       "      <td>None</td>\n",
       "    </tr>\n",
       "    <tr>\n",
       "      <th>3</th>\n",
       "      <td>891689557279858688</td>\n",
       "      <td>NaN</td>\n",
       "      <td>NaN</td>\n",
       "      <td>2017-07-30 15:58:51 +0000</td>\n",
       "      <td>&lt;a href=\"http://twitter.com/download/iphone\" r...</td>\n",
       "      <td>This is Darla. She commenced a snooze mid meal...</td>\n",
       "      <td>NaN</td>\n",
       "      <td>NaN</td>\n",
       "      <td>NaN</td>\n",
       "      <td>https://twitter.com/dog_rates/status/891689557...</td>\n",
       "      <td>13</td>\n",
       "      <td>10</td>\n",
       "      <td>Darla</td>\n",
       "      <td>None</td>\n",
       "      <td>None</td>\n",
       "      <td>None</td>\n",
       "      <td>None</td>\n",
       "    </tr>\n",
       "    <tr>\n",
       "      <th>4</th>\n",
       "      <td>891327558926688256</td>\n",
       "      <td>NaN</td>\n",
       "      <td>NaN</td>\n",
       "      <td>2017-07-29 16:00:24 +0000</td>\n",
       "      <td>&lt;a href=\"http://twitter.com/download/iphone\" r...</td>\n",
       "      <td>This is Franklin. He would like you to stop ca...</td>\n",
       "      <td>NaN</td>\n",
       "      <td>NaN</td>\n",
       "      <td>NaN</td>\n",
       "      <td>https://twitter.com/dog_rates/status/891327558...</td>\n",
       "      <td>12</td>\n",
       "      <td>10</td>\n",
       "      <td>Franklin</td>\n",
       "      <td>None</td>\n",
       "      <td>None</td>\n",
       "      <td>None</td>\n",
       "      <td>None</td>\n",
       "    </tr>\n",
       "  </tbody>\n",
       "</table>\n",
       "</div>"
      ],
      "text/plain": [
       "             tweet_id  in_reply_to_status_id  in_reply_to_user_id  \\\n",
       "0  892420643555336193                    NaN                  NaN   \n",
       "1  892177421306343426                    NaN                  NaN   \n",
       "2  891815181378084864                    NaN                  NaN   \n",
       "3  891689557279858688                    NaN                  NaN   \n",
       "4  891327558926688256                    NaN                  NaN   \n",
       "\n",
       "                   timestamp  \\\n",
       "0  2017-08-01 16:23:56 +0000   \n",
       "1  2017-08-01 00:17:27 +0000   \n",
       "2  2017-07-31 00:18:03 +0000   \n",
       "3  2017-07-30 15:58:51 +0000   \n",
       "4  2017-07-29 16:00:24 +0000   \n",
       "\n",
       "                                              source  \\\n",
       "0  <a href=\"http://twitter.com/download/iphone\" r...   \n",
       "1  <a href=\"http://twitter.com/download/iphone\" r...   \n",
       "2  <a href=\"http://twitter.com/download/iphone\" r...   \n",
       "3  <a href=\"http://twitter.com/download/iphone\" r...   \n",
       "4  <a href=\"http://twitter.com/download/iphone\" r...   \n",
       "\n",
       "                                                text  retweeted_status_id  \\\n",
       "0  This is Phineas. He's a mystical boy. Only eve...                  NaN   \n",
       "1  This is Tilly. She's just checking pup on you....                  NaN   \n",
       "2  This is Archie. He is a rare Norwegian Pouncin...                  NaN   \n",
       "3  This is Darla. She commenced a snooze mid meal...                  NaN   \n",
       "4  This is Franklin. He would like you to stop ca...                  NaN   \n",
       "\n",
       "   retweeted_status_user_id retweeted_status_timestamp  \\\n",
       "0                       NaN                        NaN   \n",
       "1                       NaN                        NaN   \n",
       "2                       NaN                        NaN   \n",
       "3                       NaN                        NaN   \n",
       "4                       NaN                        NaN   \n",
       "\n",
       "                                       expanded_urls  rating_numerator  \\\n",
       "0  https://twitter.com/dog_rates/status/892420643...                13   \n",
       "1  https://twitter.com/dog_rates/status/892177421...                13   \n",
       "2  https://twitter.com/dog_rates/status/891815181...                12   \n",
       "3  https://twitter.com/dog_rates/status/891689557...                13   \n",
       "4  https://twitter.com/dog_rates/status/891327558...                12   \n",
       "\n",
       "   rating_denominator      name doggo floofer pupper puppo  \n",
       "0                  10   Phineas  None    None   None  None  \n",
       "1                  10     Tilly  None    None   None  None  \n",
       "2                  10    Archie  None    None   None  None  \n",
       "3                  10     Darla  None    None   None  None  \n",
       "4                  10  Franklin  None    None   None  None  "
      ]
     },
     "execution_count": 44,
     "metadata": {},
     "output_type": "execute_result"
    }
   ],
   "source": [
    "df_twitter_archive.head()"
   ]
  },
  {
   "cell_type": "code",
   "execution_count": 45,
   "id": "1b096c41",
   "metadata": {},
   "outputs": [
    {
     "data": {
      "text/html": [
       "<div>\n",
       "<style scoped>\n",
       "    .dataframe tbody tr th:only-of-type {\n",
       "        vertical-align: middle;\n",
       "    }\n",
       "\n",
       "    .dataframe tbody tr th {\n",
       "        vertical-align: top;\n",
       "    }\n",
       "\n",
       "    .dataframe thead th {\n",
       "        text-align: right;\n",
       "    }\n",
       "</style>\n",
       "<table border=\"1\" class=\"dataframe\">\n",
       "  <thead>\n",
       "    <tr style=\"text-align: right;\">\n",
       "      <th></th>\n",
       "      <th>tweet_id</th>\n",
       "      <th>favorite_count</th>\n",
       "      <th>retweet_count</th>\n",
       "    </tr>\n",
       "  </thead>\n",
       "  <tbody>\n",
       "    <tr>\n",
       "      <th>2319</th>\n",
       "      <td>666049248165822465</td>\n",
       "      <td>89</td>\n",
       "      <td>37</td>\n",
       "    </tr>\n",
       "    <tr>\n",
       "      <th>2320</th>\n",
       "      <td>666044226329800704</td>\n",
       "      <td>247</td>\n",
       "      <td>115</td>\n",
       "    </tr>\n",
       "    <tr>\n",
       "      <th>2321</th>\n",
       "      <td>666033412701032449</td>\n",
       "      <td>100</td>\n",
       "      <td>36</td>\n",
       "    </tr>\n",
       "    <tr>\n",
       "      <th>2322</th>\n",
       "      <td>666029285002620928</td>\n",
       "      <td>112</td>\n",
       "      <td>39</td>\n",
       "    </tr>\n",
       "    <tr>\n",
       "      <th>2323</th>\n",
       "      <td>666020888022790149</td>\n",
       "      <td>2293</td>\n",
       "      <td>424</td>\n",
       "    </tr>\n",
       "  </tbody>\n",
       "</table>\n",
       "</div>"
      ],
      "text/plain": [
       "                tweet_id  favorite_count  retweet_count\n",
       "2319  666049248165822465              89             37\n",
       "2320  666044226329800704             247            115\n",
       "2321  666033412701032449             100             36\n",
       "2322  666029285002620928             112             39\n",
       "2323  666020888022790149            2293            424"
      ]
     },
     "execution_count": 45,
     "metadata": {},
     "output_type": "execute_result"
    }
   ],
   "source": [
    "df_new.tail()"
   ]
  },
  {
   "cell_type": "code",
   "execution_count": 57,
   "id": "8042e956",
   "metadata": {},
   "outputs": [
    {
     "data": {
      "text/html": [
       "<div>\n",
       "<style scoped>\n",
       "    .dataframe tbody tr th:only-of-type {\n",
       "        vertical-align: middle;\n",
       "    }\n",
       "\n",
       "    .dataframe tbody tr th {\n",
       "        vertical-align: top;\n",
       "    }\n",
       "\n",
       "    .dataframe thead th {\n",
       "        text-align: right;\n",
       "    }\n",
       "</style>\n",
       "<table border=\"1\" class=\"dataframe\">\n",
       "  <thead>\n",
       "    <tr style=\"text-align: right;\">\n",
       "      <th></th>\n",
       "      <th>Unnamed: 0</th>\n",
       "      <th>tweet_id</th>\n",
       "      <th>jpg_url</th>\n",
       "      <th>img_num</th>\n",
       "      <th>tp1</th>\n",
       "      <th>tp1_confidence</th>\n",
       "      <th>tp1_dog</th>\n",
       "      <th>tp2</th>\n",
       "      <th>tp2_confidence</th>\n",
       "      <th>tp2_dog</th>\n",
       "      <th>tp3</th>\n",
       "      <th>tp3_confidence</th>\n",
       "      <th>tp3_dog</th>\n",
       "    </tr>\n",
       "  </thead>\n",
       "  <tbody>\n",
       "    <tr>\n",
       "      <th>2070</th>\n",
       "      <td>2070</td>\n",
       "      <td>891327558926688256</td>\n",
       "      <td>https://pbs.twimg.com/media/DF6hr6BUMAAzZgT.jpg</td>\n",
       "      <td>2</td>\n",
       "      <td>basset</td>\n",
       "      <td>0.555712</td>\n",
       "      <td>True</td>\n",
       "      <td>English_springer</td>\n",
       "      <td>0.225770</td>\n",
       "      <td>True</td>\n",
       "      <td>German_short-haired_pointer</td>\n",
       "      <td>0.175219</td>\n",
       "      <td>True</td>\n",
       "    </tr>\n",
       "    <tr>\n",
       "      <th>2071</th>\n",
       "      <td>2071</td>\n",
       "      <td>891689557279858688</td>\n",
       "      <td>https://pbs.twimg.com/media/DF_q7IAWsAEuuN8.jpg</td>\n",
       "      <td>1</td>\n",
       "      <td>paper_towel</td>\n",
       "      <td>0.170278</td>\n",
       "      <td>False</td>\n",
       "      <td>Labrador_retriever</td>\n",
       "      <td>0.168086</td>\n",
       "      <td>True</td>\n",
       "      <td>spatula</td>\n",
       "      <td>0.040836</td>\n",
       "      <td>False</td>\n",
       "    </tr>\n",
       "    <tr>\n",
       "      <th>2072</th>\n",
       "      <td>2072</td>\n",
       "      <td>891815181378084864</td>\n",
       "      <td>https://pbs.twimg.com/media/DGBdLU1WsAANxJ9.jpg</td>\n",
       "      <td>1</td>\n",
       "      <td>Chihuahua</td>\n",
       "      <td>0.716012</td>\n",
       "      <td>True</td>\n",
       "      <td>malamute</td>\n",
       "      <td>0.078253</td>\n",
       "      <td>True</td>\n",
       "      <td>kelpie</td>\n",
       "      <td>0.031379</td>\n",
       "      <td>True</td>\n",
       "    </tr>\n",
       "    <tr>\n",
       "      <th>2073</th>\n",
       "      <td>2073</td>\n",
       "      <td>892177421306343426</td>\n",
       "      <td>https://pbs.twimg.com/media/DGGmoV4XsAAUL6n.jpg</td>\n",
       "      <td>1</td>\n",
       "      <td>Chihuahua</td>\n",
       "      <td>0.323581</td>\n",
       "      <td>True</td>\n",
       "      <td>Pekinese</td>\n",
       "      <td>0.090647</td>\n",
       "      <td>True</td>\n",
       "      <td>papillon</td>\n",
       "      <td>0.068957</td>\n",
       "      <td>True</td>\n",
       "    </tr>\n",
       "    <tr>\n",
       "      <th>2074</th>\n",
       "      <td>2074</td>\n",
       "      <td>892420643555336193</td>\n",
       "      <td>https://pbs.twimg.com/media/DGKD1-bXoAAIAUK.jpg</td>\n",
       "      <td>1</td>\n",
       "      <td>orange</td>\n",
       "      <td>0.097049</td>\n",
       "      <td>False</td>\n",
       "      <td>bagel</td>\n",
       "      <td>0.085851</td>\n",
       "      <td>False</td>\n",
       "      <td>banana</td>\n",
       "      <td>0.076110</td>\n",
       "      <td>False</td>\n",
       "    </tr>\n",
       "  </tbody>\n",
       "</table>\n",
       "</div>"
      ],
      "text/plain": [
       "      Unnamed: 0            tweet_id  \\\n",
       "2070        2070  891327558926688256   \n",
       "2071        2071  891689557279858688   \n",
       "2072        2072  891815181378084864   \n",
       "2073        2073  892177421306343426   \n",
       "2074        2074  892420643555336193   \n",
       "\n",
       "                                              jpg_url  img_num          tp1  \\\n",
       "2070  https://pbs.twimg.com/media/DF6hr6BUMAAzZgT.jpg        2       basset   \n",
       "2071  https://pbs.twimg.com/media/DF_q7IAWsAEuuN8.jpg        1  paper_towel   \n",
       "2072  https://pbs.twimg.com/media/DGBdLU1WsAANxJ9.jpg        1    Chihuahua   \n",
       "2073  https://pbs.twimg.com/media/DGGmoV4XsAAUL6n.jpg        1    Chihuahua   \n",
       "2074  https://pbs.twimg.com/media/DGKD1-bXoAAIAUK.jpg        1       orange   \n",
       "\n",
       "      tp1_confidence  tp1_dog                 tp2  tp2_confidence  tp2_dog  \\\n",
       "2070        0.555712     True    English_springer        0.225770     True   \n",
       "2071        0.170278    False  Labrador_retriever        0.168086     True   \n",
       "2072        0.716012     True            malamute        0.078253     True   \n",
       "2073        0.323581     True            Pekinese        0.090647     True   \n",
       "2074        0.097049    False               bagel        0.085851    False   \n",
       "\n",
       "                              tp3  tp3_confidence  tp3_dog  \n",
       "2070  German_short-haired_pointer        0.175219     True  \n",
       "2071                      spatula        0.040836    False  \n",
       "2072                       kelpie        0.031379     True  \n",
       "2073                     papillon        0.068957     True  \n",
       "2074                       banana        0.076110    False  "
      ]
     },
     "execution_count": 57,
     "metadata": {},
     "output_type": "execute_result"
    }
   ],
   "source": [
    "df_prediction.tail()"
   ]
  },
  {
   "cell_type": "code",
   "execution_count": 58,
   "id": "93ad03e2",
   "metadata": {},
   "outputs": [
    {
     "data": {
      "text/html": [
       "<div>\n",
       "<style scoped>\n",
       "    .dataframe tbody tr th:only-of-type {\n",
       "        vertical-align: middle;\n",
       "    }\n",
       "\n",
       "    .dataframe tbody tr th {\n",
       "        vertical-align: top;\n",
       "    }\n",
       "\n",
       "    .dataframe thead th {\n",
       "        text-align: right;\n",
       "    }\n",
       "</style>\n",
       "<table border=\"1\" class=\"dataframe\">\n",
       "  <thead>\n",
       "    <tr style=\"text-align: right;\">\n",
       "      <th></th>\n",
       "      <th>tweet_id</th>\n",
       "      <th>in_reply_to_status_id</th>\n",
       "      <th>in_reply_to_user_id</th>\n",
       "      <th>timestamp</th>\n",
       "      <th>source</th>\n",
       "      <th>text</th>\n",
       "      <th>retweeted_status_id</th>\n",
       "      <th>retweeted_status_user_id</th>\n",
       "      <th>retweeted_status_timestamp</th>\n",
       "      <th>expanded_urls</th>\n",
       "      <th>rating_numerator</th>\n",
       "      <th>rating_denominator</th>\n",
       "      <th>name</th>\n",
       "      <th>doggo</th>\n",
       "      <th>floofer</th>\n",
       "      <th>pupper</th>\n",
       "      <th>puppo</th>\n",
       "    </tr>\n",
       "  </thead>\n",
       "  <tbody>\n",
       "    <tr>\n",
       "      <th>2351</th>\n",
       "      <td>666049248165822465</td>\n",
       "      <td>NaN</td>\n",
       "      <td>NaN</td>\n",
       "      <td>2015-11-16 00:24:50 +0000</td>\n",
       "      <td>&lt;a href=\"http://twitter.com/download/iphone\" r...</td>\n",
       "      <td>Here we have a 1949 1st generation vulpix. Enj...</td>\n",
       "      <td>NaN</td>\n",
       "      <td>NaN</td>\n",
       "      <td>NaN</td>\n",
       "      <td>https://twitter.com/dog_rates/status/666049248...</td>\n",
       "      <td>5</td>\n",
       "      <td>10</td>\n",
       "      <td>None</td>\n",
       "      <td>None</td>\n",
       "      <td>None</td>\n",
       "      <td>None</td>\n",
       "      <td>None</td>\n",
       "    </tr>\n",
       "    <tr>\n",
       "      <th>2352</th>\n",
       "      <td>666044226329800704</td>\n",
       "      <td>NaN</td>\n",
       "      <td>NaN</td>\n",
       "      <td>2015-11-16 00:04:52 +0000</td>\n",
       "      <td>&lt;a href=\"http://twitter.com/download/iphone\" r...</td>\n",
       "      <td>This is a purebred Piers Morgan. Loves to Netf...</td>\n",
       "      <td>NaN</td>\n",
       "      <td>NaN</td>\n",
       "      <td>NaN</td>\n",
       "      <td>https://twitter.com/dog_rates/status/666044226...</td>\n",
       "      <td>6</td>\n",
       "      <td>10</td>\n",
       "      <td>a</td>\n",
       "      <td>None</td>\n",
       "      <td>None</td>\n",
       "      <td>None</td>\n",
       "      <td>None</td>\n",
       "    </tr>\n",
       "    <tr>\n",
       "      <th>2353</th>\n",
       "      <td>666033412701032449</td>\n",
       "      <td>NaN</td>\n",
       "      <td>NaN</td>\n",
       "      <td>2015-11-15 23:21:54 +0000</td>\n",
       "      <td>&lt;a href=\"http://twitter.com/download/iphone\" r...</td>\n",
       "      <td>Here is a very happy pup. Big fan of well-main...</td>\n",
       "      <td>NaN</td>\n",
       "      <td>NaN</td>\n",
       "      <td>NaN</td>\n",
       "      <td>https://twitter.com/dog_rates/status/666033412...</td>\n",
       "      <td>9</td>\n",
       "      <td>10</td>\n",
       "      <td>a</td>\n",
       "      <td>None</td>\n",
       "      <td>None</td>\n",
       "      <td>None</td>\n",
       "      <td>None</td>\n",
       "    </tr>\n",
       "    <tr>\n",
       "      <th>2354</th>\n",
       "      <td>666029285002620928</td>\n",
       "      <td>NaN</td>\n",
       "      <td>NaN</td>\n",
       "      <td>2015-11-15 23:05:30 +0000</td>\n",
       "      <td>&lt;a href=\"http://twitter.com/download/iphone\" r...</td>\n",
       "      <td>This is a western brown Mitsubishi terrier. Up...</td>\n",
       "      <td>NaN</td>\n",
       "      <td>NaN</td>\n",
       "      <td>NaN</td>\n",
       "      <td>https://twitter.com/dog_rates/status/666029285...</td>\n",
       "      <td>7</td>\n",
       "      <td>10</td>\n",
       "      <td>a</td>\n",
       "      <td>None</td>\n",
       "      <td>None</td>\n",
       "      <td>None</td>\n",
       "      <td>None</td>\n",
       "    </tr>\n",
       "    <tr>\n",
       "      <th>2355</th>\n",
       "      <td>666020888022790149</td>\n",
       "      <td>NaN</td>\n",
       "      <td>NaN</td>\n",
       "      <td>2015-11-15 22:32:08 +0000</td>\n",
       "      <td>&lt;a href=\"http://twitter.com/download/iphone\" r...</td>\n",
       "      <td>Here we have a Japanese Irish Setter. Lost eye...</td>\n",
       "      <td>NaN</td>\n",
       "      <td>NaN</td>\n",
       "      <td>NaN</td>\n",
       "      <td>https://twitter.com/dog_rates/status/666020888...</td>\n",
       "      <td>8</td>\n",
       "      <td>10</td>\n",
       "      <td>None</td>\n",
       "      <td>None</td>\n",
       "      <td>None</td>\n",
       "      <td>None</td>\n",
       "      <td>None</td>\n",
       "    </tr>\n",
       "  </tbody>\n",
       "</table>\n",
       "</div>"
      ],
      "text/plain": [
       "                tweet_id  in_reply_to_status_id  in_reply_to_user_id  \\\n",
       "2351  666049248165822465                    NaN                  NaN   \n",
       "2352  666044226329800704                    NaN                  NaN   \n",
       "2353  666033412701032449                    NaN                  NaN   \n",
       "2354  666029285002620928                    NaN                  NaN   \n",
       "2355  666020888022790149                    NaN                  NaN   \n",
       "\n",
       "                      timestamp  \\\n",
       "2351  2015-11-16 00:24:50 +0000   \n",
       "2352  2015-11-16 00:04:52 +0000   \n",
       "2353  2015-11-15 23:21:54 +0000   \n",
       "2354  2015-11-15 23:05:30 +0000   \n",
       "2355  2015-11-15 22:32:08 +0000   \n",
       "\n",
       "                                                 source  \\\n",
       "2351  <a href=\"http://twitter.com/download/iphone\" r...   \n",
       "2352  <a href=\"http://twitter.com/download/iphone\" r...   \n",
       "2353  <a href=\"http://twitter.com/download/iphone\" r...   \n",
       "2354  <a href=\"http://twitter.com/download/iphone\" r...   \n",
       "2355  <a href=\"http://twitter.com/download/iphone\" r...   \n",
       "\n",
       "                                                   text  retweeted_status_id  \\\n",
       "2351  Here we have a 1949 1st generation vulpix. Enj...                  NaN   \n",
       "2352  This is a purebred Piers Morgan. Loves to Netf...                  NaN   \n",
       "2353  Here is a very happy pup. Big fan of well-main...                  NaN   \n",
       "2354  This is a western brown Mitsubishi terrier. Up...                  NaN   \n",
       "2355  Here we have a Japanese Irish Setter. Lost eye...                  NaN   \n",
       "\n",
       "      retweeted_status_user_id retweeted_status_timestamp  \\\n",
       "2351                       NaN                        NaN   \n",
       "2352                       NaN                        NaN   \n",
       "2353                       NaN                        NaN   \n",
       "2354                       NaN                        NaN   \n",
       "2355                       NaN                        NaN   \n",
       "\n",
       "                                          expanded_urls  rating_numerator  \\\n",
       "2351  https://twitter.com/dog_rates/status/666049248...                 5   \n",
       "2352  https://twitter.com/dog_rates/status/666044226...                 6   \n",
       "2353  https://twitter.com/dog_rates/status/666033412...                 9   \n",
       "2354  https://twitter.com/dog_rates/status/666029285...                 7   \n",
       "2355  https://twitter.com/dog_rates/status/666020888...                 8   \n",
       "\n",
       "      rating_denominator  name doggo floofer pupper puppo  \n",
       "2351                  10  None  None    None   None  None  \n",
       "2352                  10     a  None    None   None  None  \n",
       "2353                  10     a  None    None   None  None  \n",
       "2354                  10     a  None    None   None  None  \n",
       "2355                  10  None  None    None   None  None  "
      ]
     },
     "execution_count": 58,
     "metadata": {},
     "output_type": "execute_result"
    }
   ],
   "source": [
    "df_twitter_archive.tail()"
   ]
  },
  {
   "cell_type": "code",
   "execution_count": 64,
   "id": "54f31af3",
   "metadata": {},
   "outputs": [
    {
     "data": {
      "text/plain": [
       "0        160\n",
       "2248       4\n",
       "2794       3\n",
       "651        3\n",
       "372        3\n",
       "        ... \n",
       "8789       1\n",
       "19030      1\n",
       "4697       1\n",
       "6746       1\n",
       "2082       1\n",
       "Name: favorite_count, Length: 1987, dtype: int64"
      ]
     },
     "execution_count": 64,
     "metadata": {},
     "output_type": "execute_result"
    }
   ],
   "source": [
    "df_new['favorite_count'].value_counts()"
   ]
  },
  {
   "cell_type": "code",
   "execution_count": 65,
   "id": "d327aa77",
   "metadata": {},
   "outputs": [
    {
     "data": {
      "text/plain": [
       "328     7\n",
       "50      5\n",
       "288     5\n",
       "441     5\n",
       "182     5\n",
       "       ..\n",
       "1834    1\n",
       "5942    1\n",
       "3899    1\n",
       "1852    1\n",
       "4092    1\n",
       "Name: retweet_count, Length: 1646, dtype: int64"
      ]
     },
     "execution_count": 65,
     "metadata": {},
     "output_type": "execute_result"
    }
   ],
   "source": [
    "df_new['retweet_count'].value_counts()"
   ]
  },
  {
   "cell_type": "code",
   "execution_count": 66,
   "id": "4d7bbd1a",
   "metadata": {},
   "outputs": [
    {
     "data": {
      "text/plain": [
       "0.366248    2\n",
       "0.713293    2\n",
       "0.375098    2\n",
       "0.636169    2\n",
       "0.611525    2\n",
       "           ..\n",
       "0.713102    1\n",
       "0.765266    1\n",
       "0.491022    1\n",
       "0.905334    1\n",
       "1.000000    1\n",
       "Name: tp1_confidence, Length: 2006, dtype: int64"
      ]
     },
     "execution_count": 66,
     "metadata": {},
     "output_type": "execute_result"
    }
   ],
   "source": [
    "df_prediction['tp1_confidence'].value_counts()"
   ]
  },
  {
   "cell_type": "code",
   "execution_count": 67,
   "id": "45536d77",
   "metadata": {},
   "outputs": [
    {
     "data": {
      "text/plain": [
       "0.069362    3\n",
       "0.027907    2\n",
       "0.193654    2\n",
       "0.271929    2\n",
       "0.003143    2\n",
       "           ..\n",
       "0.138331    1\n",
       "0.254884    1\n",
       "0.090644    1\n",
       "0.219323    1\n",
       "0.016301    1\n",
       "Name: tp2_confidence, Length: 2004, dtype: int64"
      ]
     },
     "execution_count": 67,
     "metadata": {},
     "output_type": "execute_result"
    }
   ],
   "source": [
    "df_prediction['tp2_confidence'].value_counts()"
   ]
  },
  {
   "cell_type": "code",
   "execution_count": 68,
   "id": "d33a3f3a",
   "metadata": {},
   "outputs": [
    {
     "data": {
      "text/plain": [
       "0.094759    2\n",
       "0.035711    2\n",
       "0.000428    2\n",
       "0.044660    2\n",
       "0.162084    2\n",
       "           ..\n",
       "0.024007    1\n",
       "0.132820    1\n",
       "0.002099    1\n",
       "0.083643    1\n",
       "0.033835    1\n",
       "Name: tp3_confidence, Length: 2006, dtype: int64"
      ]
     },
     "execution_count": 68,
     "metadata": {},
     "output_type": "execute_result"
    }
   ],
   "source": [
    "df_prediction['tp3_confidence'].value_counts()"
   ]
  },
  {
   "cell_type": "code",
   "execution_count": 69,
   "id": "996bc28b",
   "metadata": {},
   "outputs": [
    {
     "data": {
      "text/plain": [
       "golden_retriever      150\n",
       "Labrador_retriever    100\n",
       "Pembroke               89\n",
       "Chihuahua              83\n",
       "pug                    57\n",
       "                     ... \n",
       "boathouse               1\n",
       "ice_lolly               1\n",
       "lion                    1\n",
       "stove                   1\n",
       "dhole                   1\n",
       "Name: tp1, Length: 378, dtype: int64"
      ]
     },
     "execution_count": 69,
     "metadata": {},
     "output_type": "execute_result"
    }
   ],
   "source": [
    "df_prediction['tp1'].value_counts()"
   ]
  },
  {
   "cell_type": "code",
   "execution_count": 70,
   "id": "69b08dab",
   "metadata": {},
   "outputs": [
    {
     "data": {
      "text/plain": [
       "Labrador_retriever    104\n",
       "golden_retriever       92\n",
       "Cardigan               73\n",
       "Chihuahua              44\n",
       "Pomeranian             42\n",
       "                     ... \n",
       "water_buffalo           1\n",
       "cardigan                1\n",
       "crutch                  1\n",
       "shower_curtain          1\n",
       "dumbbell                1\n",
       "Name: tp2, Length: 405, dtype: int64"
      ]
     },
     "execution_count": 70,
     "metadata": {},
     "output_type": "execute_result"
    }
   ],
   "source": [
    "df_prediction['tp2'].value_counts()"
   ]
  },
  {
   "cell_type": "code",
   "execution_count": 71,
   "id": "266b3f9d",
   "metadata": {},
   "outputs": [
    {
     "data": {
      "text/plain": [
       "Labrador_retriever    79\n",
       "Chihuahua             58\n",
       "golden_retriever      48\n",
       "Eskimo_dog            38\n",
       "kelpie                35\n",
       "                      ..\n",
       "pot                    1\n",
       "jaguar                 1\n",
       "shovel                 1\n",
       "binder                 1\n",
       "dugong                 1\n",
       "Name: tp3, Length: 408, dtype: int64"
      ]
     },
     "execution_count": 71,
     "metadata": {},
     "output_type": "execute_result"
    }
   ],
   "source": [
    "df_prediction['tp3'].value_counts()"
   ]
  },
  {
   "cell_type": "code",
   "execution_count": 72,
   "id": "35ad0f54",
   "metadata": {},
   "outputs": [
    {
     "data": {
      "text/plain": [
       "True     1532\n",
       "False     543\n",
       "Name: tp1_dog, dtype: int64"
      ]
     },
     "execution_count": 72,
     "metadata": {},
     "output_type": "execute_result"
    }
   ],
   "source": [
    "df_prediction['tp1_dog'].value_counts()"
   ]
  },
  {
   "cell_type": "code",
   "execution_count": 73,
   "id": "e7bae034",
   "metadata": {},
   "outputs": [
    {
     "data": {
      "text/plain": [
       "True     1553\n",
       "False     522\n",
       "Name: tp2_dog, dtype: int64"
      ]
     },
     "execution_count": 73,
     "metadata": {},
     "output_type": "execute_result"
    }
   ],
   "source": [
    "df_prediction['tp2_dog'].value_counts()"
   ]
  },
  {
   "cell_type": "code",
   "execution_count": 74,
   "id": "ed627757",
   "metadata": {},
   "outputs": [
    {
     "data": {
      "text/plain": [
       "True     1499\n",
       "False     576\n",
       "Name: tp3_dog, dtype: int64"
      ]
     },
     "execution_count": 74,
     "metadata": {},
     "output_type": "execute_result"
    }
   ],
   "source": [
    "df_prediction['tp3_dog'].value_counts()"
   ]
  },
  {
   "cell_type": "code",
   "execution_count": 75,
   "id": "12f35b71",
   "metadata": {},
   "outputs": [
    {
     "data": {
      "text/plain": [
       "12      558\n",
       "11      464\n",
       "10      461\n",
       "13      351\n",
       "9       158\n",
       "8       102\n",
       "7        55\n",
       "14       54\n",
       "5        37\n",
       "6        32\n",
       "3        19\n",
       "4        17\n",
       "1         9\n",
       "2         9\n",
       "420       2\n",
       "0         2\n",
       "15        2\n",
       "75        2\n",
       "80        1\n",
       "20        1\n",
       "24        1\n",
       "26        1\n",
       "44        1\n",
       "50        1\n",
       "60        1\n",
       "165       1\n",
       "84        1\n",
       "88        1\n",
       "144       1\n",
       "182       1\n",
       "143       1\n",
       "666       1\n",
       "960       1\n",
       "1776      1\n",
       "17        1\n",
       "27        1\n",
       "45        1\n",
       "99        1\n",
       "121       1\n",
       "204       1\n",
       "Name: rating_numerator, dtype: int64"
      ]
     },
     "execution_count": 75,
     "metadata": {},
     "output_type": "execute_result"
    }
   ],
   "source": [
    "df_twitter_archive['rating_numerator'].value_counts()"
   ]
  },
  {
   "cell_type": "markdown",
   "id": "aa524fc0",
   "metadata": {},
   "source": [
    "### Quality Issue 3\n",
    "*`rating_numerator` has certain values not greater than 10*"
   ]
  },
  {
   "cell_type": "code",
   "execution_count": 76,
   "id": "341849bb",
   "metadata": {},
   "outputs": [
    {
     "data": {
      "text/plain": [
       "10     2333\n",
       "11        3\n",
       "50        3\n",
       "80        2\n",
       "20        2\n",
       "2         1\n",
       "16        1\n",
       "40        1\n",
       "70        1\n",
       "15        1\n",
       "90        1\n",
       "110       1\n",
       "120       1\n",
       "130       1\n",
       "150       1\n",
       "170       1\n",
       "7         1\n",
       "0         1\n",
       "Name: rating_denominator, dtype: int64"
      ]
     },
     "execution_count": 76,
     "metadata": {},
     "output_type": "execute_result"
    }
   ],
   "source": [
    "df_twitter_archive['rating_denominator'].value_counts()"
   ]
  },
  {
   "cell_type": "markdown",
   "id": "871f4469",
   "metadata": {},
   "source": [
    "### Quality Issue 4\n",
    "*`rating_denominator` has certain values not equal to 10*"
   ]
  },
  {
   "cell_type": "code",
   "execution_count": 77,
   "id": "ae0a578b",
   "metadata": {},
   "outputs": [
    {
     "data": {
      "text/plain": [
       "None     2259\n",
       "doggo      97\n",
       "Name: doggo, dtype: int64"
      ]
     },
     "execution_count": 77,
     "metadata": {},
     "output_type": "execute_result"
    }
   ],
   "source": [
    "df_twitter_archive['doggo'].value_counts()"
   ]
  },
  {
   "cell_type": "code",
   "execution_count": 78,
   "id": "8b0f9963",
   "metadata": {},
   "outputs": [
    {
     "data": {
      "text/plain": [
       "None       2346\n",
       "floofer      10\n",
       "Name: floofer, dtype: int64"
      ]
     },
     "execution_count": 78,
     "metadata": {},
     "output_type": "execute_result"
    }
   ],
   "source": [
    "df_twitter_archive['floofer'].value_counts()"
   ]
  },
  {
   "cell_type": "code",
   "execution_count": 79,
   "id": "dd492a29",
   "metadata": {},
   "outputs": [
    {
     "data": {
      "text/plain": [
       "None      2099\n",
       "pupper     257\n",
       "Name: pupper, dtype: int64"
      ]
     },
     "execution_count": 79,
     "metadata": {},
     "output_type": "execute_result"
    }
   ],
   "source": [
    "df_twitter_archive['pupper'].value_counts()"
   ]
  },
  {
   "cell_type": "code",
   "execution_count": 80,
   "id": "1427bd97",
   "metadata": {},
   "outputs": [
    {
     "data": {
      "text/plain": [
       "None     2326\n",
       "puppo      30\n",
       "Name: puppo, dtype: int64"
      ]
     },
     "execution_count": 80,
     "metadata": {},
     "output_type": "execute_result"
    }
   ],
   "source": [
    "df_twitter_archive['puppo'].value_counts()"
   ]
  },
  {
   "cell_type": "code",
   "execution_count": 81,
   "id": "25e6cd72",
   "metadata": {},
   "outputs": [
    {
     "data": {
      "text/plain": [
       "None       745\n",
       "a           55\n",
       "Charlie     12\n",
       "Lucy        11\n",
       "Oliver      11\n",
       "          ... \n",
       "Furzey       1\n",
       "Zeus         1\n",
       "Gin          1\n",
       "Zuzu         1\n",
       "Edmund       1\n",
       "Name: name, Length: 957, dtype: int64"
      ]
     },
     "execution_count": 81,
     "metadata": {},
     "output_type": "execute_result"
    }
   ],
   "source": [
    "df_twitter_archive['name'].value_counts()"
   ]
  },
  {
   "cell_type": "markdown",
   "id": "541cfbe7",
   "metadata": {},
   "source": [
    "### Quality Issue 5\n",
    "*`name` has some invalid names as name of dog*"
   ]
  },
  {
   "cell_type": "code",
   "execution_count": 82,
   "id": "341cd7ab",
   "metadata": {},
   "outputs": [
    {
     "data": {
      "text/plain": [
       "0"
      ]
     },
     "execution_count": 82,
     "metadata": {},
     "output_type": "execute_result"
    }
   ],
   "source": [
    "sum(df_new.duplicated())"
   ]
  },
  {
   "cell_type": "code",
   "execution_count": 83,
   "id": "e123c87f",
   "metadata": {},
   "outputs": [
    {
     "data": {
      "text/plain": [
       "0"
      ]
     },
     "execution_count": 83,
     "metadata": {},
     "output_type": "execute_result"
    }
   ],
   "source": [
    "sum(df_prediction.duplicated())"
   ]
  },
  {
   "cell_type": "code",
   "execution_count": 84,
   "id": "45ee9420",
   "metadata": {},
   "outputs": [
    {
     "data": {
      "text/plain": [
       "0"
      ]
     },
     "execution_count": 84,
     "metadata": {},
     "output_type": "execute_result"
    }
   ],
   "source": [
    "sum(df_twitter_archive.duplicated())"
   ]
  },
  {
   "cell_type": "markdown",
   "id": "fe9fde80",
   "metadata": {},
   "source": [
    "No duplicate data in our dataframes."
   ]
  },
  {
   "cell_type": "code",
   "execution_count": 89,
   "id": "f5a36978",
   "metadata": {},
   "outputs": [
    {
     "name": "stdout",
     "output_type": "stream",
     "text": [
      "109\n"
     ]
    }
   ],
   "source": [
    "#find our invalid names using islowercase since all valid dog names start with upper case letters\n",
    "islower = df_twitter_archive['name'].str.islower()\n",
    "true = 0\n",
    "false = 0\n",
    "for islow in islower:\n",
    "    if(islow==True):\n",
    "        true = true+1\n",
    "    else:\n",
    "        false = false+1\n",
    "print(true)\n",
    "assert true > 0\n",
    "    \n"
   ]
  },
  {
   "cell_type": "markdown",
   "id": "875e7888",
   "metadata": {},
   "source": [
    "We have 109 entries with invalid dog names."
   ]
  },
  {
   "cell_type": "code",
   "execution_count": 90,
   "id": "787d1669",
   "metadata": {},
   "outputs": [
    {
     "data": {
      "text/html": [
       "<div>\n",
       "<style scoped>\n",
       "    .dataframe tbody tr th:only-of-type {\n",
       "        vertical-align: middle;\n",
       "    }\n",
       "\n",
       "    .dataframe tbody tr th {\n",
       "        vertical-align: top;\n",
       "    }\n",
       "\n",
       "    .dataframe thead th {\n",
       "        text-align: right;\n",
       "    }\n",
       "</style>\n",
       "<table border=\"1\" class=\"dataframe\">\n",
       "  <thead>\n",
       "    <tr style=\"text-align: right;\">\n",
       "      <th></th>\n",
       "      <th>Unnamed: 0</th>\n",
       "      <th>tweet_id</th>\n",
       "      <th>jpg_url</th>\n",
       "      <th>img_num</th>\n",
       "      <th>tp1</th>\n",
       "      <th>tp1_confidence</th>\n",
       "      <th>tp1_dog</th>\n",
       "      <th>tp2</th>\n",
       "      <th>tp2_confidence</th>\n",
       "      <th>tp2_dog</th>\n",
       "      <th>tp3</th>\n",
       "      <th>tp3_confidence</th>\n",
       "      <th>tp3_dog</th>\n",
       "    </tr>\n",
       "  </thead>\n",
       "  <tbody>\n",
       "  </tbody>\n",
       "</table>\n",
       "</div>"
      ],
      "text/plain": [
       "Empty DataFrame\n",
       "Columns: [Unnamed: 0, tweet_id, jpg_url, img_num, tp1, tp1_confidence, tp1_dog, tp2, tp2_confidence, tp2_dog, tp3, tp3_confidence, tp3_dog]\n",
       "Index: []"
      ]
     },
     "execution_count": 90,
     "metadata": {},
     "output_type": "execute_result"
    }
   ],
   "source": [
    "#Test for negative certainty of predictions\n",
    "df_prediction.query('tp1_confidence < 0')"
   ]
  },
  {
   "cell_type": "code",
   "execution_count": 91,
   "id": "fb7d3de9",
   "metadata": {},
   "outputs": [
    {
     "data": {
      "text/html": [
       "<div>\n",
       "<style scoped>\n",
       "    .dataframe tbody tr th:only-of-type {\n",
       "        vertical-align: middle;\n",
       "    }\n",
       "\n",
       "    .dataframe tbody tr th {\n",
       "        vertical-align: top;\n",
       "    }\n",
       "\n",
       "    .dataframe thead th {\n",
       "        text-align: right;\n",
       "    }\n",
       "</style>\n",
       "<table border=\"1\" class=\"dataframe\">\n",
       "  <thead>\n",
       "    <tr style=\"text-align: right;\">\n",
       "      <th></th>\n",
       "      <th>Unnamed: 0</th>\n",
       "      <th>tweet_id</th>\n",
       "      <th>jpg_url</th>\n",
       "      <th>img_num</th>\n",
       "      <th>tp1</th>\n",
       "      <th>tp1_confidence</th>\n",
       "      <th>tp1_dog</th>\n",
       "      <th>tp2</th>\n",
       "      <th>tp2_confidence</th>\n",
       "      <th>tp2_dog</th>\n",
       "      <th>tp3</th>\n",
       "      <th>tp3_confidence</th>\n",
       "      <th>tp3_dog</th>\n",
       "    </tr>\n",
       "  </thead>\n",
       "  <tbody>\n",
       "  </tbody>\n",
       "</table>\n",
       "</div>"
      ],
      "text/plain": [
       "Empty DataFrame\n",
       "Columns: [Unnamed: 0, tweet_id, jpg_url, img_num, tp1, tp1_confidence, tp1_dog, tp2, tp2_confidence, tp2_dog, tp3, tp3_confidence, tp3_dog]\n",
       "Index: []"
      ]
     },
     "execution_count": 91,
     "metadata": {},
     "output_type": "execute_result"
    }
   ],
   "source": [
    "df_prediction.query('tp2_confidence < 0')"
   ]
  },
  {
   "cell_type": "code",
   "execution_count": 92,
   "id": "d1732ed5",
   "metadata": {},
   "outputs": [
    {
     "data": {
      "text/html": [
       "<div>\n",
       "<style scoped>\n",
       "    .dataframe tbody tr th:only-of-type {\n",
       "        vertical-align: middle;\n",
       "    }\n",
       "\n",
       "    .dataframe tbody tr th {\n",
       "        vertical-align: top;\n",
       "    }\n",
       "\n",
       "    .dataframe thead th {\n",
       "        text-align: right;\n",
       "    }\n",
       "</style>\n",
       "<table border=\"1\" class=\"dataframe\">\n",
       "  <thead>\n",
       "    <tr style=\"text-align: right;\">\n",
       "      <th></th>\n",
       "      <th>Unnamed: 0</th>\n",
       "      <th>tweet_id</th>\n",
       "      <th>jpg_url</th>\n",
       "      <th>img_num</th>\n",
       "      <th>tp1</th>\n",
       "      <th>tp1_confidence</th>\n",
       "      <th>tp1_dog</th>\n",
       "      <th>tp2</th>\n",
       "      <th>tp2_confidence</th>\n",
       "      <th>tp2_dog</th>\n",
       "      <th>tp3</th>\n",
       "      <th>tp3_confidence</th>\n",
       "      <th>tp3_dog</th>\n",
       "    </tr>\n",
       "  </thead>\n",
       "  <tbody>\n",
       "  </tbody>\n",
       "</table>\n",
       "</div>"
      ],
      "text/plain": [
       "Empty DataFrame\n",
       "Columns: [Unnamed: 0, tweet_id, jpg_url, img_num, tp1, tp1_confidence, tp1_dog, tp2, tp2_confidence, tp2_dog, tp3, tp3_confidence, tp3_dog]\n",
       "Index: []"
      ]
     },
     "execution_count": 92,
     "metadata": {},
     "output_type": "execute_result"
    }
   ],
   "source": [
    "df_prediction.query('tp3_confidence < 0')"
   ]
  },
  {
   "cell_type": "markdown",
   "id": "3c086090",
   "metadata": {},
   "source": [
    "*We do not certainty of predictions that are less than zero*"
   ]
  },
  {
   "cell_type": "code",
   "execution_count": 93,
   "id": "bebf45ef",
   "metadata": {},
   "outputs": [
    {
     "data": {
      "text/html": [
       "<div>\n",
       "<style scoped>\n",
       "    .dataframe tbody tr th:only-of-type {\n",
       "        vertical-align: middle;\n",
       "    }\n",
       "\n",
       "    .dataframe tbody tr th {\n",
       "        vertical-align: top;\n",
       "    }\n",
       "\n",
       "    .dataframe thead th {\n",
       "        text-align: right;\n",
       "    }\n",
       "</style>\n",
       "<table border=\"1\" class=\"dataframe\">\n",
       "  <thead>\n",
       "    <tr style=\"text-align: right;\">\n",
       "      <th></th>\n",
       "      <th>tweet_id</th>\n",
       "      <th>in_reply_to_status_id</th>\n",
       "      <th>in_reply_to_user_id</th>\n",
       "      <th>timestamp</th>\n",
       "      <th>source</th>\n",
       "      <th>text</th>\n",
       "      <th>retweeted_status_id</th>\n",
       "      <th>retweeted_status_user_id</th>\n",
       "      <th>retweeted_status_timestamp</th>\n",
       "      <th>expanded_urls</th>\n",
       "      <th>rating_numerator</th>\n",
       "      <th>rating_denominator</th>\n",
       "      <th>name</th>\n",
       "      <th>doggo</th>\n",
       "      <th>floofer</th>\n",
       "      <th>pupper</th>\n",
       "      <th>puppo</th>\n",
       "    </tr>\n",
       "  </thead>\n",
       "  <tbody>\n",
       "  </tbody>\n",
       "</table>\n",
       "</div>"
      ],
      "text/plain": [
       "Empty DataFrame\n",
       "Columns: [tweet_id, in_reply_to_status_id, in_reply_to_user_id, timestamp, source, text, retweeted_status_id, retweeted_status_user_id, retweeted_status_timestamp, expanded_urls, rating_numerator, rating_denominator, name, doggo, floofer, pupper, puppo]\n",
       "Index: []"
      ]
     },
     "execution_count": 93,
     "metadata": {},
     "output_type": "execute_result"
    }
   ],
   "source": [
    "df_twitter_archive[df_twitter_archive['timestamp'].isnull()]"
   ]
  },
  {
   "cell_type": "markdown",
   "id": "f6240a28",
   "metadata": {},
   "source": [
    "We do not have a null timestamp entry."
   ]
  },
  {
   "cell_type": "code",
   "execution_count": 94,
   "id": "fbad1409",
   "metadata": {},
   "outputs": [
    {
     "data": {
      "text/html": [
       "<div>\n",
       "<style scoped>\n",
       "    .dataframe tbody tr th:only-of-type {\n",
       "        vertical-align: middle;\n",
       "    }\n",
       "\n",
       "    .dataframe tbody tr th {\n",
       "        vertical-align: top;\n",
       "    }\n",
       "\n",
       "    .dataframe thead th {\n",
       "        text-align: right;\n",
       "    }\n",
       "</style>\n",
       "<table border=\"1\" class=\"dataframe\">\n",
       "  <thead>\n",
       "    <tr style=\"text-align: right;\">\n",
       "      <th></th>\n",
       "      <th>tweet_id</th>\n",
       "      <th>in_reply_to_status_id</th>\n",
       "      <th>in_reply_to_user_id</th>\n",
       "      <th>timestamp</th>\n",
       "      <th>source</th>\n",
       "      <th>text</th>\n",
       "      <th>retweeted_status_id</th>\n",
       "      <th>retweeted_status_user_id</th>\n",
       "      <th>retweeted_status_timestamp</th>\n",
       "      <th>expanded_urls</th>\n",
       "      <th>rating_numerator</th>\n",
       "      <th>rating_denominator</th>\n",
       "      <th>name</th>\n",
       "      <th>doggo</th>\n",
       "      <th>floofer</th>\n",
       "      <th>pupper</th>\n",
       "      <th>puppo</th>\n",
       "    </tr>\n",
       "  </thead>\n",
       "  <tbody>\n",
       "  </tbody>\n",
       "</table>\n",
       "</div>"
      ],
      "text/plain": [
       "Empty DataFrame\n",
       "Columns: [tweet_id, in_reply_to_status_id, in_reply_to_user_id, timestamp, source, text, retweeted_status_id, retweeted_status_user_id, retweeted_status_timestamp, expanded_urls, rating_numerator, rating_denominator, name, doggo, floofer, pupper, puppo]\n",
       "Index: []"
      ]
     },
     "execution_count": 94,
     "metadata": {},
     "output_type": "execute_result"
    }
   ],
   "source": [
    "df_twitter_archive[df_twitter_archive['name'].isnull()]"
   ]
  },
  {
   "cell_type": "markdown",
   "id": "6afd3734",
   "metadata": {},
   "source": [
    "We do not have null dog names."
   ]
  },
  {
   "cell_type": "code",
   "execution_count": 6,
   "id": "4227d062",
   "metadata": {},
   "outputs": [
    {
     "data": {
      "text/html": [
       "<div>\n",
       "<style scoped>\n",
       "    .dataframe tbody tr th:only-of-type {\n",
       "        vertical-align: middle;\n",
       "    }\n",
       "\n",
       "    .dataframe tbody tr th {\n",
       "        vertical-align: top;\n",
       "    }\n",
       "\n",
       "    .dataframe thead th {\n",
       "        text-align: right;\n",
       "    }\n",
       "</style>\n",
       "<table border=\"1\" class=\"dataframe\">\n",
       "  <thead>\n",
       "    <tr style=\"text-align: right;\">\n",
       "      <th></th>\n",
       "      <th>tweet_id</th>\n",
       "      <th>in_reply_to_status_id</th>\n",
       "      <th>in_reply_to_user_id</th>\n",
       "      <th>timestamp</th>\n",
       "      <th>source</th>\n",
       "      <th>text</th>\n",
       "      <th>retweeted_status_id</th>\n",
       "      <th>retweeted_status_user_id</th>\n",
       "      <th>retweeted_status_timestamp</th>\n",
       "      <th>expanded_urls</th>\n",
       "      <th>rating_numerator</th>\n",
       "      <th>rating_denominator</th>\n",
       "      <th>name</th>\n",
       "      <th>doggo</th>\n",
       "      <th>floofer</th>\n",
       "      <th>pupper</th>\n",
       "      <th>puppo</th>\n",
       "    </tr>\n",
       "  </thead>\n",
       "  <tbody>\n",
       "    <tr>\n",
       "      <th>1204</th>\n",
       "      <td>716080869887381504</td>\n",
       "      <td>NaN</td>\n",
       "      <td>NaN</td>\n",
       "      <td>2016-04-02 01:52:38 +0000</td>\n",
       "      <td>&lt;a href=\"http://twitter.com/download/iphone\" r...</td>\n",
       "      <td>Here's a super majestic doggo and a sunset 11/...</td>\n",
       "      <td>NaN</td>\n",
       "      <td>NaN</td>\n",
       "      <td>NaN</td>\n",
       "      <td>https://twitter.com/dog_rates/status/716080869...</td>\n",
       "      <td>11</td>\n",
       "      <td>10</td>\n",
       "      <td>None</td>\n",
       "      <td>doggo</td>\n",
       "      <td>None</td>\n",
       "      <td>None</td>\n",
       "      <td>None</td>\n",
       "    </tr>\n",
       "    <tr>\n",
       "      <th>581</th>\n",
       "      <td>800443802682937345</td>\n",
       "      <td>NaN</td>\n",
       "      <td>NaN</td>\n",
       "      <td>2016-11-20 21:00:48 +0000</td>\n",
       "      <td>&lt;a href=\"http://twitter.com/download/iphone\" r...</td>\n",
       "      <td>RT @dog_rates: This is Sampson. He's about to ...</td>\n",
       "      <td>7.761133e+17</td>\n",
       "      <td>4.196984e+09</td>\n",
       "      <td>2016-09-14 17:40:06 +0000</td>\n",
       "      <td>https://twitter.com/dog_rates/status/776113305...</td>\n",
       "      <td>11</td>\n",
       "      <td>10</td>\n",
       "      <td>Sampson</td>\n",
       "      <td>None</td>\n",
       "      <td>None</td>\n",
       "      <td>pupper</td>\n",
       "      <td>None</td>\n",
       "    </tr>\n",
       "    <tr>\n",
       "      <th>1322</th>\n",
       "      <td>706291001778950144</td>\n",
       "      <td>NaN</td>\n",
       "      <td>NaN</td>\n",
       "      <td>2016-03-06 01:31:11 +0000</td>\n",
       "      <td>&lt;a href=\"http://twitter.com/download/iphone\" r...</td>\n",
       "      <td>When you're just relaxin and having a swell ti...</td>\n",
       "      <td>NaN</td>\n",
       "      <td>NaN</td>\n",
       "      <td>NaN</td>\n",
       "      <td>https://twitter.com/dog_rates/status/706291001...</td>\n",
       "      <td>11</td>\n",
       "      <td>10</td>\n",
       "      <td>None</td>\n",
       "      <td>None</td>\n",
       "      <td>None</td>\n",
       "      <td>None</td>\n",
       "      <td>None</td>\n",
       "    </tr>\n",
       "    <tr>\n",
       "      <th>1523</th>\n",
       "      <td>690607260360429569</td>\n",
       "      <td>6.903413e+17</td>\n",
       "      <td>467036706.0</td>\n",
       "      <td>2016-01-22 18:49:36 +0000</td>\n",
       "      <td>&lt;a href=\"http://twitter.com/download/iphone\" r...</td>\n",
       "      <td>12/10 @LightningHoltt</td>\n",
       "      <td>NaN</td>\n",
       "      <td>NaN</td>\n",
       "      <td>NaN</td>\n",
       "      <td>NaN</td>\n",
       "      <td>12</td>\n",
       "      <td>10</td>\n",
       "      <td>None</td>\n",
       "      <td>None</td>\n",
       "      <td>None</td>\n",
       "      <td>None</td>\n",
       "      <td>None</td>\n",
       "    </tr>\n",
       "    <tr>\n",
       "      <th>215</th>\n",
       "      <td>851224888060895234</td>\n",
       "      <td>NaN</td>\n",
       "      <td>NaN</td>\n",
       "      <td>2017-04-10 00:06:42 +0000</td>\n",
       "      <td>&lt;a href=\"http://twitter.com/download/iphone\" r...</td>\n",
       "      <td>Meet Snoop. His number one passion is sticking...</td>\n",
       "      <td>NaN</td>\n",
       "      <td>NaN</td>\n",
       "      <td>NaN</td>\n",
       "      <td>https://twitter.com/dog_rates/status/851224888...</td>\n",
       "      <td>13</td>\n",
       "      <td>10</td>\n",
       "      <td>Snoop</td>\n",
       "      <td>None</td>\n",
       "      <td>None</td>\n",
       "      <td>None</td>\n",
       "      <td>None</td>\n",
       "    </tr>\n",
       "  </tbody>\n",
       "</table>\n",
       "</div>"
      ],
      "text/plain": [
       "                tweet_id  in_reply_to_status_id  in_reply_to_user_id  \\\n",
       "1204  716080869887381504                    NaN                  NaN   \n",
       "581   800443802682937345                    NaN                  NaN   \n",
       "1322  706291001778950144                    NaN                  NaN   \n",
       "1523  690607260360429569           6.903413e+17          467036706.0   \n",
       "215   851224888060895234                    NaN                  NaN   \n",
       "\n",
       "                      timestamp  \\\n",
       "1204  2016-04-02 01:52:38 +0000   \n",
       "581   2016-11-20 21:00:48 +0000   \n",
       "1322  2016-03-06 01:31:11 +0000   \n",
       "1523  2016-01-22 18:49:36 +0000   \n",
       "215   2017-04-10 00:06:42 +0000   \n",
       "\n",
       "                                                 source  \\\n",
       "1204  <a href=\"http://twitter.com/download/iphone\" r...   \n",
       "581   <a href=\"http://twitter.com/download/iphone\" r...   \n",
       "1322  <a href=\"http://twitter.com/download/iphone\" r...   \n",
       "1523  <a href=\"http://twitter.com/download/iphone\" r...   \n",
       "215   <a href=\"http://twitter.com/download/iphone\" r...   \n",
       "\n",
       "                                                   text  retweeted_status_id  \\\n",
       "1204  Here's a super majestic doggo and a sunset 11/...                  NaN   \n",
       "581   RT @dog_rates: This is Sampson. He's about to ...         7.761133e+17   \n",
       "1322  When you're just relaxin and having a swell ti...                  NaN   \n",
       "1523                              12/10 @LightningHoltt                  NaN   \n",
       "215   Meet Snoop. His number one passion is sticking...                  NaN   \n",
       "\n",
       "      retweeted_status_user_id retweeted_status_timestamp  \\\n",
       "1204                       NaN                        NaN   \n",
       "581               4.196984e+09  2016-09-14 17:40:06 +0000   \n",
       "1322                       NaN                        NaN   \n",
       "1523                       NaN                        NaN   \n",
       "215                        NaN                        NaN   \n",
       "\n",
       "                                          expanded_urls  rating_numerator  \\\n",
       "1204  https://twitter.com/dog_rates/status/716080869...                11   \n",
       "581   https://twitter.com/dog_rates/status/776113305...                11   \n",
       "1322  https://twitter.com/dog_rates/status/706291001...                11   \n",
       "1523                                                NaN                12   \n",
       "215   https://twitter.com/dog_rates/status/851224888...                13   \n",
       "\n",
       "      rating_denominator     name  doggo floofer  pupper puppo  \n",
       "1204                  10     None  doggo    None    None  None  \n",
       "581                   10  Sampson   None    None  pupper  None  \n",
       "1322                  10     None   None    None    None  None  \n",
       "1523                  10     None   None    None    None  None  \n",
       "215                   10    Snoop   None    None    None  None  "
      ]
     },
     "execution_count": 6,
     "metadata": {},
     "output_type": "execute_result"
    }
   ],
   "source": [
    "df_twitter_archive.sample(5)"
   ]
  },
  {
   "cell_type": "markdown",
   "id": "ace878fb",
   "metadata": {},
   "source": [
    "### Structural Issue 3\n",
    "A tidy  data is one in which every variable forms a column, every observational unit forms a row and each type of observational unit forms a table. `df_twitter_archive` have a structural issue. Certain rows should form a different table (retweets) and certain columns should become rows\n"
   ]
  },
  {
   "cell_type": "markdown",
   "id": "48f8c996",
   "metadata": {},
   "source": [
    "### Structural Issue 4\n",
    "\n",
    "The three dataframes are of the same observational unit but they are not in one dataframe."
   ]
  },
  {
   "cell_type": "markdown",
   "id": "2d175576",
   "metadata": {},
   "source": [
    "### Quality Issue 6\n",
    "\n",
    "Drop rows from df_twitter_archive that threw HTTP and Tweepy Error"
   ]
  },
  {
   "cell_type": "code",
   "execution_count": 97,
   "id": "c53d0c50",
   "metadata": {},
   "outputs": [
    {
     "data": {
      "text/plain": [
       "0.00180397"
      ]
     },
     "execution_count": 97,
     "metadata": {},
     "output_type": "execute_result"
    }
   ],
   "source": [
    "df_prediction.at[60,'tp3_confidence']"
   ]
  },
  {
   "cell_type": "code",
   "execution_count": 98,
   "id": "a3778734",
   "metadata": {},
   "outputs": [
    {
     "data": {
      "text/plain": [
       "0.140703"
      ]
     },
     "execution_count": 98,
     "metadata": {},
     "output_type": "execute_result"
    }
   ],
   "source": [
    "df_prediction.at[69,'tp3_confidence']"
   ]
  },
  {
   "cell_type": "code",
   "execution_count": 99,
   "id": "0573c1a1",
   "metadata": {},
   "outputs": [
    {
     "data": {
      "text/plain": [
       "0.33583"
      ]
     },
     "execution_count": 99,
     "metadata": {},
     "output_type": "execute_result"
    }
   ],
   "source": [
    "df_prediction.at[69,'tp1_confidence']"
   ]
  },
  {
   "cell_type": "code",
   "execution_count": 100,
   "id": "fb5772ae",
   "metadata": {},
   "outputs": [
    {
     "data": {
      "text/plain": [
       "0.949892"
      ]
     },
     "execution_count": 100,
     "metadata": {},
     "output_type": "execute_result"
    }
   ],
   "source": [
    "df_prediction.at[68,'tp1_confidence']"
   ]
  },
  {
   "cell_type": "code",
   "execution_count": 101,
   "id": "bd016653",
   "metadata": {},
   "outputs": [
    {
     "data": {
      "text/plain": [
       "0.265278"
      ]
     },
     "execution_count": 101,
     "metadata": {},
     "output_type": "execute_result"
    }
   ],
   "source": [
    "df_prediction.at[69,'tp2_confidence']"
   ]
  },
  {
   "cell_type": "code",
   "execution_count": 102,
   "id": "c09b59f9",
   "metadata": {},
   "outputs": [
    {
     "data": {
      "text/plain": [
       "0.00630049"
      ]
     },
     "execution_count": 102,
     "metadata": {},
     "output_type": "execute_result"
    }
   ],
   "source": [
    "df_prediction.at[77,'tp2_confidence']"
   ]
  },
  {
   "cell_type": "markdown",
   "id": "8882293a",
   "metadata": {},
   "source": [
    "### Quality Issue 7\n",
    "\n",
    "There are data duplicates after the melting of column doggo, pupper, puppo and floofer"
   ]
  },
  {
   "cell_type": "markdown",
   "id": "b22b391a",
   "metadata": {},
   "source": [
    "### Quality Issue 8\n",
    "\n",
    "`tp1, tp2, tp3` have their text separated by an underscore instead of spaces."
   ]
  },
  {
   "cell_type": "markdown",
   "id": "8c1af630",
   "metadata": {},
   "source": [
    "<a id='cleaning'></a>\n",
    "## Data Cleaning\n",
    "### Define\n",
    "#### Quality\n",
    "1. Make `in_reply_to_status_id,in_reply_to_user_id, retweeted_status_id,retweeted_status_user_id` to become int.\n",
    "2. Make `retweeted_status_timestamp and timestamp` to become datetime and not string. \n",
    "3. Make all `rating_numerator` not greater than 10 to become the mode of the rating numerator field.\n",
    "4. Make all `rating_denominator` to become exactly 10.\n",
    "5. Change all names of dogs bearing 'a' or 'an' or 'the' or more generally starting with lower case to be np.nan.\n",
    "6. Drop tweets that threw HTTP Error and Tweepy Error from df_twitter_archive.\n",
    "7. Remove data duplicates after the melting of columns `doggo, floofer, pupper, puppo`.\n",
    "8. Remove all underscores in `tp1, tp2, tp3` entry.\n",
    "9. Drop `in_reply_to_status_id,in_reply_to_user_id` since it all contains null values in  retweets table created from df_twitter_archive and drop all `in_reply_to_status_id,in_reply_to_user_id, retweeted_status_id,retweeted_status_user_id` in the twitter_archive.\n",
    "\n",
    "#### Structure\n",
    "1. Make df_twitter_archive to have equal number of rows with df_new.\n",
    "2. Make `timestamp` in df_twitter_archive to become `tweet_timestamp`.\n",
    "3. Create a retweeted table from df_twitter_archive.\n",
    "4. Merge the dataframes as they are of the same observational unit.\n",
    "5. Melt df_twitter_archive columns - doggo, floofer, pupper and puppo to form rows instead and remove resulting duplicates."
   ]
  },
  {
   "cell_type": "markdown",
   "id": "c738304c",
   "metadata": {},
   "source": [
    "### Coding"
   ]
  },
  {
   "cell_type": "markdown",
   "id": "5d8452c4",
   "metadata": {},
   "source": [
    "**Creating a copy of dataframes for cleaning purpose**"
   ]
  },
  {
   "cell_type": "code",
   "execution_count": 6,
   "id": "02032928",
   "metadata": {},
   "outputs": [],
   "source": [
    "df_twitter_archive_clean = df_twitter_archive.copy()\n",
    "df_prediction_clean = df_prediction.copy()\n",
    "df_new_clean = df_new.copy()\n"
   ]
  },
  {
   "cell_type": "markdown",
   "id": "2c38747b",
   "metadata": {},
   "source": [
    "**Reading the tweet id file that throwed the NOT FOUND HTTP error and dropping them from df_twitter_archive_clean**"
   ]
  },
  {
   "cell_type": "code",
   "execution_count": 7,
   "id": "b68fd8dc",
   "metadata": {},
   "outputs": [],
   "source": [
    "#Remove tweets from df_twitter_archive that raised a NOT FOUND Http error\n",
    "#read the invalid tweet ids\n",
    "with open('tweet-json_fail.txt', encoding='utf-8') as file:\n",
    "    lines = file.readlines()\n",
    "    data = lines[0][:-1].split(\" \")\n",
    "for d in data:\n",
    "    invalid_tweet = df_twitter_archive_clean.query('tweet_id == '+d)\n",
    "    df_twitter_archive_clean.drop(invalid_tweet.index, inplace=True)"
   ]
  },
  {
   "cell_type": "markdown",
   "id": "d8a3a157",
   "metadata": {},
   "source": [
    "#### Testing"
   ]
  },
  {
   "cell_type": "code",
   "execution_count": 8,
   "id": "6a4bfb67",
   "metadata": {},
   "outputs": [
    {
     "data": {
      "text/plain": [
       "(2324, 17)"
      ]
     },
     "execution_count": 8,
     "metadata": {},
     "output_type": "execute_result"
    }
   ],
   "source": [
    "df_twitter_archive_clean.shape"
   ]
  },
  {
   "cell_type": "code",
   "execution_count": 9,
   "id": "a7b5cdc9",
   "metadata": {},
   "outputs": [
    {
     "data": {
      "text/plain": [
       "(2075, 13)"
      ]
     },
     "execution_count": 9,
     "metadata": {},
     "output_type": "execute_result"
    }
   ],
   "source": [
    "df_prediction_clean.shape"
   ]
  },
  {
   "cell_type": "code",
   "execution_count": 10,
   "id": "849ea179",
   "metadata": {},
   "outputs": [
    {
     "data": {
      "text/plain": [
       "(2324, 3)"
      ]
     },
     "execution_count": 10,
     "metadata": {},
     "output_type": "execute_result"
    }
   ],
   "source": [
    "df_new_clean.shape"
   ]
  },
  {
   "cell_type": "code",
   "execution_count": 11,
   "id": "6ed6d162",
   "metadata": {},
   "outputs": [
    {
     "data": {
      "text/html": [
       "<div>\n",
       "<style scoped>\n",
       "    .dataframe tbody tr th:only-of-type {\n",
       "        vertical-align: middle;\n",
       "    }\n",
       "\n",
       "    .dataframe tbody tr th {\n",
       "        vertical-align: top;\n",
       "    }\n",
       "\n",
       "    .dataframe thead th {\n",
       "        text-align: right;\n",
       "    }\n",
       "</style>\n",
       "<table border=\"1\" class=\"dataframe\">\n",
       "  <thead>\n",
       "    <tr style=\"text-align: right;\">\n",
       "      <th></th>\n",
       "      <th>tweet_id</th>\n",
       "      <th>in_reply_to_status_id</th>\n",
       "      <th>in_reply_to_user_id</th>\n",
       "      <th>timestamp</th>\n",
       "      <th>source</th>\n",
       "      <th>text</th>\n",
       "      <th>retweeted_status_id</th>\n",
       "      <th>retweeted_status_user_id</th>\n",
       "      <th>retweeted_status_timestamp</th>\n",
       "      <th>expanded_urls</th>\n",
       "      <th>rating_numerator</th>\n",
       "      <th>rating_denominator</th>\n",
       "      <th>name</th>\n",
       "      <th>doggo</th>\n",
       "      <th>floofer</th>\n",
       "      <th>pupper</th>\n",
       "      <th>puppo</th>\n",
       "    </tr>\n",
       "  </thead>\n",
       "  <tbody>\n",
       "    <tr>\n",
       "      <th>1066</th>\n",
       "      <td>740699697422163968</td>\n",
       "      <td>NaN</td>\n",
       "      <td>NaN</td>\n",
       "      <td>2016-06-09 00:19:04 +0000</td>\n",
       "      <td>&lt;a href=\"http://twitter.com/download/iphone\" r...</td>\n",
       "      <td>This is Chip. He only mowed half the yard. 8/1...</td>\n",
       "      <td>NaN</td>\n",
       "      <td>NaN</td>\n",
       "      <td>NaN</td>\n",
       "      <td>https://twitter.com/dog_rates/status/740699697...</td>\n",
       "      <td>8</td>\n",
       "      <td>10</td>\n",
       "      <td>Chip</td>\n",
       "      <td>None</td>\n",
       "      <td>None</td>\n",
       "      <td>None</td>\n",
       "      <td>None</td>\n",
       "    </tr>\n",
       "    <tr>\n",
       "      <th>1959</th>\n",
       "      <td>673576835670777856</td>\n",
       "      <td>NaN</td>\n",
       "      <td>NaN</td>\n",
       "      <td>2015-12-06 18:56:46 +0000</td>\n",
       "      <td>&lt;a href=\"http://twitter.com/download/iphone\" r...</td>\n",
       "      <td>Sun burnt dog here. Quite large. Wants to prom...</td>\n",
       "      <td>NaN</td>\n",
       "      <td>NaN</td>\n",
       "      <td>NaN</td>\n",
       "      <td>https://twitter.com/dog_rates/status/673576835...</td>\n",
       "      <td>7</td>\n",
       "      <td>10</td>\n",
       "      <td>None</td>\n",
       "      <td>None</td>\n",
       "      <td>None</td>\n",
       "      <td>None</td>\n",
       "      <td>None</td>\n",
       "    </tr>\n",
       "    <tr>\n",
       "      <th>51</th>\n",
       "      <td>882268110199369728</td>\n",
       "      <td>NaN</td>\n",
       "      <td>NaN</td>\n",
       "      <td>2017-07-04 16:01:23 +0000</td>\n",
       "      <td>&lt;a href=\"http://twitter.com/download/iphone\" r...</td>\n",
       "      <td>This is Alfy. You're witnessing his first wate...</td>\n",
       "      <td>NaN</td>\n",
       "      <td>NaN</td>\n",
       "      <td>NaN</td>\n",
       "      <td>https://twitter.com/dog_rates/status/882268110...</td>\n",
       "      <td>13</td>\n",
       "      <td>10</td>\n",
       "      <td>Alfy</td>\n",
       "      <td>None</td>\n",
       "      <td>None</td>\n",
       "      <td>None</td>\n",
       "      <td>None</td>\n",
       "    </tr>\n",
       "    <tr>\n",
       "      <th>844</th>\n",
       "      <td>766693177336135680</td>\n",
       "      <td>NaN</td>\n",
       "      <td>NaN</td>\n",
       "      <td>2016-08-19 17:47:52 +0000</td>\n",
       "      <td>&lt;a href=\"http://twitter.com/download/iphone\" r...</td>\n",
       "      <td>This is Brudge. He's a Doberdog. Going to be h...</td>\n",
       "      <td>NaN</td>\n",
       "      <td>NaN</td>\n",
       "      <td>NaN</td>\n",
       "      <td>https://twitter.com/dog_rates/status/766693177...</td>\n",
       "      <td>11</td>\n",
       "      <td>10</td>\n",
       "      <td>Brudge</td>\n",
       "      <td>None</td>\n",
       "      <td>None</td>\n",
       "      <td>None</td>\n",
       "      <td>None</td>\n",
       "    </tr>\n",
       "    <tr>\n",
       "      <th>1181</th>\n",
       "      <td>719332531645071360</td>\n",
       "      <td>NaN</td>\n",
       "      <td>NaN</td>\n",
       "      <td>2016-04-11 01:13:34 +0000</td>\n",
       "      <td>&lt;a href=\"http://twitter.com/download/iphone\" r...</td>\n",
       "      <td>This is Pippa. She managed to start the car bu...</td>\n",
       "      <td>NaN</td>\n",
       "      <td>NaN</td>\n",
       "      <td>NaN</td>\n",
       "      <td>https://twitter.com/dog_rates/status/719332531...</td>\n",
       "      <td>11</td>\n",
       "      <td>10</td>\n",
       "      <td>Pippa</td>\n",
       "      <td>None</td>\n",
       "      <td>None</td>\n",
       "      <td>None</td>\n",
       "      <td>None</td>\n",
       "    </tr>\n",
       "  </tbody>\n",
       "</table>\n",
       "</div>"
      ],
      "text/plain": [
       "                tweet_id  in_reply_to_status_id  in_reply_to_user_id  \\\n",
       "1066  740699697422163968                    NaN                  NaN   \n",
       "1959  673576835670777856                    NaN                  NaN   \n",
       "51    882268110199369728                    NaN                  NaN   \n",
       "844   766693177336135680                    NaN                  NaN   \n",
       "1181  719332531645071360                    NaN                  NaN   \n",
       "\n",
       "                      timestamp  \\\n",
       "1066  2016-06-09 00:19:04 +0000   \n",
       "1959  2015-12-06 18:56:46 +0000   \n",
       "51    2017-07-04 16:01:23 +0000   \n",
       "844   2016-08-19 17:47:52 +0000   \n",
       "1181  2016-04-11 01:13:34 +0000   \n",
       "\n",
       "                                                 source  \\\n",
       "1066  <a href=\"http://twitter.com/download/iphone\" r...   \n",
       "1959  <a href=\"http://twitter.com/download/iphone\" r...   \n",
       "51    <a href=\"http://twitter.com/download/iphone\" r...   \n",
       "844   <a href=\"http://twitter.com/download/iphone\" r...   \n",
       "1181  <a href=\"http://twitter.com/download/iphone\" r...   \n",
       "\n",
       "                                                   text  retweeted_status_id  \\\n",
       "1066  This is Chip. He only mowed half the yard. 8/1...                  NaN   \n",
       "1959  Sun burnt dog here. Quite large. Wants to prom...                  NaN   \n",
       "51    This is Alfy. You're witnessing his first wate...                  NaN   \n",
       "844   This is Brudge. He's a Doberdog. Going to be h...                  NaN   \n",
       "1181  This is Pippa. She managed to start the car bu...                  NaN   \n",
       "\n",
       "      retweeted_status_user_id retweeted_status_timestamp  \\\n",
       "1066                       NaN                        NaN   \n",
       "1959                       NaN                        NaN   \n",
       "51                         NaN                        NaN   \n",
       "844                        NaN                        NaN   \n",
       "1181                       NaN                        NaN   \n",
       "\n",
       "                                          expanded_urls  rating_numerator  \\\n",
       "1066  https://twitter.com/dog_rates/status/740699697...                 8   \n",
       "1959  https://twitter.com/dog_rates/status/673576835...                 7   \n",
       "51    https://twitter.com/dog_rates/status/882268110...                13   \n",
       "844   https://twitter.com/dog_rates/status/766693177...                11   \n",
       "1181  https://twitter.com/dog_rates/status/719332531...                11   \n",
       "\n",
       "      rating_denominator    name doggo floofer pupper puppo  \n",
       "1066                  10    Chip  None    None   None  None  \n",
       "1959                  10    None  None    None   None  None  \n",
       "51                    10    Alfy  None    None   None  None  \n",
       "844                   10  Brudge  None    None   None  None  \n",
       "1181                  10   Pippa  None    None   None  None  "
      ]
     },
     "execution_count": 11,
     "metadata": {},
     "output_type": "execute_result"
    }
   ],
   "source": [
    "df_twitter_archive_clean.sample(5)"
   ]
  },
  {
   "cell_type": "markdown",
   "id": "42f665e2",
   "metadata": {},
   "source": [
    "**Create a retweet Dataframe and Drop tweets that are retweets from df_twitter_archive and create a new dataframe for retweets.**"
   ]
  },
  {
   "cell_type": "code",
   "execution_count": 12,
   "id": "08ab37d2",
   "metadata": {},
   "outputs": [],
   "source": [
    "#Sieve out all retweets\n",
    "retweets = df_twitter_archive_clean.loc[df_twitter_archive_clean['retweeted_status_id'].notnull()]"
   ]
  },
  {
   "cell_type": "code",
   "execution_count": 13,
   "id": "50918020",
   "metadata": {},
   "outputs": [],
   "source": [
    "#drop all retweets\n",
    "for index, row in retweets.iterrows():\n",
    "    df_twitter_archive_clean.drop(index, inplace=True)"
   ]
  },
  {
   "cell_type": "markdown",
   "id": "e172501e",
   "metadata": {},
   "source": [
    "#### Testing"
   ]
  },
  {
   "cell_type": "code",
   "execution_count": 14,
   "id": "abd119c4",
   "metadata": {},
   "outputs": [
    {
     "data": {
      "text/html": [
       "<div>\n",
       "<style scoped>\n",
       "    .dataframe tbody tr th:only-of-type {\n",
       "        vertical-align: middle;\n",
       "    }\n",
       "\n",
       "    .dataframe tbody tr th {\n",
       "        vertical-align: top;\n",
       "    }\n",
       "\n",
       "    .dataframe thead th {\n",
       "        text-align: right;\n",
       "    }\n",
       "</style>\n",
       "<table border=\"1\" class=\"dataframe\">\n",
       "  <thead>\n",
       "    <tr style=\"text-align: right;\">\n",
       "      <th></th>\n",
       "      <th>tweet_id</th>\n",
       "      <th>in_reply_to_status_id</th>\n",
       "      <th>in_reply_to_user_id</th>\n",
       "      <th>timestamp</th>\n",
       "      <th>source</th>\n",
       "      <th>text</th>\n",
       "      <th>retweeted_status_id</th>\n",
       "      <th>retweeted_status_user_id</th>\n",
       "      <th>retweeted_status_timestamp</th>\n",
       "      <th>expanded_urls</th>\n",
       "      <th>rating_numerator</th>\n",
       "      <th>rating_denominator</th>\n",
       "      <th>name</th>\n",
       "      <th>doggo</th>\n",
       "      <th>floofer</th>\n",
       "      <th>pupper</th>\n",
       "      <th>puppo</th>\n",
       "    </tr>\n",
       "  </thead>\n",
       "  <tbody>\n",
       "    <tr>\n",
       "      <th>32</th>\n",
       "      <td>886054160059072513</td>\n",
       "      <td>NaN</td>\n",
       "      <td>NaN</td>\n",
       "      <td>2017-07-15 02:45:48 +0000</td>\n",
       "      <td>&lt;a href=\"http://twitter.com/download/iphone\" r...</td>\n",
       "      <td>RT @Athletics: 12/10 #BATP https://t.co/WxwJmv...</td>\n",
       "      <td>8.860537e+17</td>\n",
       "      <td>1.960740e+07</td>\n",
       "      <td>2017-07-15 02:44:07 +0000</td>\n",
       "      <td>https://twitter.com/dog_rates/status/886053434...</td>\n",
       "      <td>12</td>\n",
       "      <td>10</td>\n",
       "      <td>None</td>\n",
       "      <td>None</td>\n",
       "      <td>None</td>\n",
       "      <td>None</td>\n",
       "      <td>None</td>\n",
       "    </tr>\n",
       "    <tr>\n",
       "      <th>36</th>\n",
       "      <td>885311592912609280</td>\n",
       "      <td>NaN</td>\n",
       "      <td>NaN</td>\n",
       "      <td>2017-07-13 01:35:06 +0000</td>\n",
       "      <td>&lt;a href=\"http://twitter.com/download/iphone\" r...</td>\n",
       "      <td>RT @dog_rates: This is Lilly. She just paralle...</td>\n",
       "      <td>8.305833e+17</td>\n",
       "      <td>4.196984e+09</td>\n",
       "      <td>2017-02-12 01:04:29 +0000</td>\n",
       "      <td>https://twitter.com/dog_rates/status/830583320...</td>\n",
       "      <td>13</td>\n",
       "      <td>10</td>\n",
       "      <td>Lilly</td>\n",
       "      <td>None</td>\n",
       "      <td>None</td>\n",
       "      <td>None</td>\n",
       "      <td>None</td>\n",
       "    </tr>\n",
       "  </tbody>\n",
       "</table>\n",
       "</div>"
      ],
      "text/plain": [
       "              tweet_id  in_reply_to_status_id  in_reply_to_user_id  \\\n",
       "32  886054160059072513                    NaN                  NaN   \n",
       "36  885311592912609280                    NaN                  NaN   \n",
       "\n",
       "                    timestamp  \\\n",
       "32  2017-07-15 02:45:48 +0000   \n",
       "36  2017-07-13 01:35:06 +0000   \n",
       "\n",
       "                                               source  \\\n",
       "32  <a href=\"http://twitter.com/download/iphone\" r...   \n",
       "36  <a href=\"http://twitter.com/download/iphone\" r...   \n",
       "\n",
       "                                                 text  retweeted_status_id  \\\n",
       "32  RT @Athletics: 12/10 #BATP https://t.co/WxwJmv...         8.860537e+17   \n",
       "36  RT @dog_rates: This is Lilly. She just paralle...         8.305833e+17   \n",
       "\n",
       "    retweeted_status_user_id retweeted_status_timestamp  \\\n",
       "32              1.960740e+07  2017-07-15 02:44:07 +0000   \n",
       "36              4.196984e+09  2017-02-12 01:04:29 +0000   \n",
       "\n",
       "                                        expanded_urls  rating_numerator  \\\n",
       "32  https://twitter.com/dog_rates/status/886053434...                12   \n",
       "36  https://twitter.com/dog_rates/status/830583320...                13   \n",
       "\n",
       "    rating_denominator   name doggo floofer pupper puppo  \n",
       "32                  10   None  None    None   None  None  \n",
       "36                  10  Lilly  None    None   None  None  "
      ]
     },
     "execution_count": 14,
     "metadata": {},
     "output_type": "execute_result"
    }
   ],
   "source": [
    "retweets.head(2)"
   ]
  },
  {
   "cell_type": "code",
   "execution_count": 15,
   "id": "b5a42823",
   "metadata": {},
   "outputs": [],
   "source": [
    "retweet_test = df_twitter_archive_clean.loc[df_twitter_archive_clean['retweeted_status_id'].notnull()]"
   ]
  },
  {
   "cell_type": "code",
   "execution_count": 16,
   "id": "cf0f93b3",
   "metadata": {},
   "outputs": [
    {
     "data": {
      "text/html": [
       "<div>\n",
       "<style scoped>\n",
       "    .dataframe tbody tr th:only-of-type {\n",
       "        vertical-align: middle;\n",
       "    }\n",
       "\n",
       "    .dataframe tbody tr th {\n",
       "        vertical-align: top;\n",
       "    }\n",
       "\n",
       "    .dataframe thead th {\n",
       "        text-align: right;\n",
       "    }\n",
       "</style>\n",
       "<table border=\"1\" class=\"dataframe\">\n",
       "  <thead>\n",
       "    <tr style=\"text-align: right;\">\n",
       "      <th></th>\n",
       "      <th>tweet_id</th>\n",
       "      <th>in_reply_to_status_id</th>\n",
       "      <th>in_reply_to_user_id</th>\n",
       "      <th>timestamp</th>\n",
       "      <th>source</th>\n",
       "      <th>text</th>\n",
       "      <th>retweeted_status_id</th>\n",
       "      <th>retweeted_status_user_id</th>\n",
       "      <th>retweeted_status_timestamp</th>\n",
       "      <th>expanded_urls</th>\n",
       "      <th>rating_numerator</th>\n",
       "      <th>rating_denominator</th>\n",
       "      <th>name</th>\n",
       "      <th>doggo</th>\n",
       "      <th>floofer</th>\n",
       "      <th>pupper</th>\n",
       "      <th>puppo</th>\n",
       "    </tr>\n",
       "  </thead>\n",
       "  <tbody>\n",
       "  </tbody>\n",
       "</table>\n",
       "</div>"
      ],
      "text/plain": [
       "Empty DataFrame\n",
       "Columns: [tweet_id, in_reply_to_status_id, in_reply_to_user_id, timestamp, source, text, retweeted_status_id, retweeted_status_user_id, retweeted_status_timestamp, expanded_urls, rating_numerator, rating_denominator, name, doggo, floofer, pupper, puppo]\n",
       "Index: []"
      ]
     },
     "execution_count": 16,
     "metadata": {},
     "output_type": "execute_result"
    }
   ],
   "source": [
    "retweet_test"
   ]
  },
  {
   "cell_type": "code",
   "execution_count": 17,
   "id": "6d2e61e6",
   "metadata": {},
   "outputs": [
    {
     "data": {
      "text/plain": [
       "(2324, 3)"
      ]
     },
     "execution_count": 17,
     "metadata": {},
     "output_type": "execute_result"
    }
   ],
   "source": [
    "df_new_clean.shape"
   ]
  },
  {
   "cell_type": "code",
   "execution_count": 18,
   "id": "93677fdf",
   "metadata": {},
   "outputs": [
    {
     "data": {
      "text/plain": [
       "(2164, 17)"
      ]
     },
     "execution_count": 18,
     "metadata": {},
     "output_type": "execute_result"
    }
   ],
   "source": [
    "df_twitter_archive_clean.shape"
   ]
  },
  {
   "cell_type": "code",
   "execution_count": 19,
   "id": "d5ea445c",
   "metadata": {},
   "outputs": [
    {
     "data": {
      "text/plain": [
       "(2075, 13)"
      ]
     },
     "execution_count": 19,
     "metadata": {},
     "output_type": "execute_result"
    }
   ],
   "source": [
    "df_prediction_clean.shape"
   ]
  },
  {
   "cell_type": "markdown",
   "id": "f096ddf5",
   "metadata": {},
   "source": [
    "**Drop retweets from df_new_clean Dataframe and add the favorite_count and retweet_count column for retweets Dataframe**\n",
    "\n",
    "We need to extract the favorite count and retweet count of the retweeted table items from `df_new_clean` in order to make df_new_clean to be of the same number of rows with `df_twitter_archive`"
   ]
  },
  {
   "cell_type": "code",
   "execution_count": 20,
   "id": "611e35fe",
   "metadata": {},
   "outputs": [],
   "source": [
    "retweet_fav_count = []\n",
    "retweet_retweet_count = []\n",
    "\n",
    "for item in retweets['tweet_id']:\n",
    "    tweet_id = str(item)\n",
    "    df_new_clean_query = df_new.query(\"tweet_id == @tweet_id\")\n",
    "    index = df_new_clean_query.index\n",
    "    retweet_fav_count.append(int(df_new_clean_query.at[index[0], 'favorite_count']))\n",
    "    retweet_retweet_count.append(int(df_new_clean_query.at[index[0], 'retweet_count']))\n",
    "    df_new_clean.drop(index, inplace=True)\n",
    "#insert the new columns to retweet table \n",
    "retweets.insert(17,'favorite_count',retweet_fav_count)\n",
    "retweets.insert(18,'retweet_count',retweet_retweet_count)"
   ]
  },
  {
   "cell_type": "markdown",
   "id": "0a386bb5",
   "metadata": {},
   "source": [
    "#### Testing"
   ]
  },
  {
   "cell_type": "code",
   "execution_count": 21,
   "id": "b9d0aa7f",
   "metadata": {},
   "outputs": [
    {
     "data": {
      "text/html": [
       "<div>\n",
       "<style scoped>\n",
       "    .dataframe tbody tr th:only-of-type {\n",
       "        vertical-align: middle;\n",
       "    }\n",
       "\n",
       "    .dataframe tbody tr th {\n",
       "        vertical-align: top;\n",
       "    }\n",
       "\n",
       "    .dataframe thead th {\n",
       "        text-align: right;\n",
       "    }\n",
       "</style>\n",
       "<table border=\"1\" class=\"dataframe\">\n",
       "  <thead>\n",
       "    <tr style=\"text-align: right;\">\n",
       "      <th></th>\n",
       "      <th>tweet_id</th>\n",
       "      <th>in_reply_to_status_id</th>\n",
       "      <th>in_reply_to_user_id</th>\n",
       "      <th>timestamp</th>\n",
       "      <th>source</th>\n",
       "      <th>text</th>\n",
       "      <th>retweeted_status_id</th>\n",
       "      <th>retweeted_status_user_id</th>\n",
       "      <th>retweeted_status_timestamp</th>\n",
       "      <th>expanded_urls</th>\n",
       "      <th>rating_numerator</th>\n",
       "      <th>rating_denominator</th>\n",
       "      <th>name</th>\n",
       "      <th>doggo</th>\n",
       "      <th>floofer</th>\n",
       "      <th>pupper</th>\n",
       "      <th>puppo</th>\n",
       "      <th>favorite_count</th>\n",
       "      <th>retweet_count</th>\n",
       "    </tr>\n",
       "  </thead>\n",
       "  <tbody>\n",
       "    <tr>\n",
       "      <th>32</th>\n",
       "      <td>886054160059072513</td>\n",
       "      <td>NaN</td>\n",
       "      <td>NaN</td>\n",
       "      <td>2017-07-15 02:45:48 +0000</td>\n",
       "      <td>&lt;a href=\"http://twitter.com/download/iphone\" r...</td>\n",
       "      <td>RT @Athletics: 12/10 #BATP https://t.co/WxwJmv...</td>\n",
       "      <td>8.860537e+17</td>\n",
       "      <td>1.960740e+07</td>\n",
       "      <td>2017-07-15 02:44:07 +0000</td>\n",
       "      <td>https://twitter.com/dog_rates/status/886053434...</td>\n",
       "      <td>12</td>\n",
       "      <td>10</td>\n",
       "      <td>None</td>\n",
       "      <td>None</td>\n",
       "      <td>None</td>\n",
       "      <td>None</td>\n",
       "      <td>None</td>\n",
       "      <td>0</td>\n",
       "      <td>93</td>\n",
       "    </tr>\n",
       "    <tr>\n",
       "      <th>36</th>\n",
       "      <td>885311592912609280</td>\n",
       "      <td>NaN</td>\n",
       "      <td>NaN</td>\n",
       "      <td>2017-07-13 01:35:06 +0000</td>\n",
       "      <td>&lt;a href=\"http://twitter.com/download/iphone\" r...</td>\n",
       "      <td>RT @dog_rates: This is Lilly. She just paralle...</td>\n",
       "      <td>8.305833e+17</td>\n",
       "      <td>4.196984e+09</td>\n",
       "      <td>2017-02-12 01:04:29 +0000</td>\n",
       "      <td>https://twitter.com/dog_rates/status/830583320...</td>\n",
       "      <td>13</td>\n",
       "      <td>10</td>\n",
       "      <td>Lilly</td>\n",
       "      <td>None</td>\n",
       "      <td>None</td>\n",
       "      <td>None</td>\n",
       "      <td>None</td>\n",
       "      <td>0</td>\n",
       "      <td>15460</td>\n",
       "    </tr>\n",
       "  </tbody>\n",
       "</table>\n",
       "</div>"
      ],
      "text/plain": [
       "              tweet_id  in_reply_to_status_id  in_reply_to_user_id  \\\n",
       "32  886054160059072513                    NaN                  NaN   \n",
       "36  885311592912609280                    NaN                  NaN   \n",
       "\n",
       "                    timestamp  \\\n",
       "32  2017-07-15 02:45:48 +0000   \n",
       "36  2017-07-13 01:35:06 +0000   \n",
       "\n",
       "                                               source  \\\n",
       "32  <a href=\"http://twitter.com/download/iphone\" r...   \n",
       "36  <a href=\"http://twitter.com/download/iphone\" r...   \n",
       "\n",
       "                                                 text  retweeted_status_id  \\\n",
       "32  RT @Athletics: 12/10 #BATP https://t.co/WxwJmv...         8.860537e+17   \n",
       "36  RT @dog_rates: This is Lilly. She just paralle...         8.305833e+17   \n",
       "\n",
       "    retweeted_status_user_id retweeted_status_timestamp  \\\n",
       "32              1.960740e+07  2017-07-15 02:44:07 +0000   \n",
       "36              4.196984e+09  2017-02-12 01:04:29 +0000   \n",
       "\n",
       "                                        expanded_urls  rating_numerator  \\\n",
       "32  https://twitter.com/dog_rates/status/886053434...                12   \n",
       "36  https://twitter.com/dog_rates/status/830583320...                13   \n",
       "\n",
       "    rating_denominator   name doggo floofer pupper puppo  favorite_count  \\\n",
       "32                  10   None  None    None   None  None               0   \n",
       "36                  10  Lilly  None    None   None  None               0   \n",
       "\n",
       "    retweet_count  \n",
       "32             93  \n",
       "36          15460  "
      ]
     },
     "execution_count": 21,
     "metadata": {},
     "output_type": "execute_result"
    }
   ],
   "source": [
    "retweets.head(2)"
   ]
  },
  {
   "cell_type": "code",
   "execution_count": 22,
   "id": "ec6b89fd",
   "metadata": {},
   "outputs": [
    {
     "data": {
      "text/plain": [
       "Index(['tweet_id', 'in_reply_to_status_id', 'in_reply_to_user_id', 'timestamp',\n",
       "       'source', 'text', 'retweeted_status_id', 'retweeted_status_user_id',\n",
       "       'retweeted_status_timestamp', 'expanded_urls', 'rating_numerator',\n",
       "       'rating_denominator', 'name', 'doggo', 'floofer', 'pupper', 'puppo',\n",
       "       'favorite_count', 'retweet_count'],\n",
       "      dtype='object')"
      ]
     },
     "execution_count": 22,
     "metadata": {},
     "output_type": "execute_result"
    }
   ],
   "source": [
    "retweets.columns"
   ]
  },
  {
   "cell_type": "markdown",
   "id": "fd3c61cb",
   "metadata": {},
   "source": [
    "**Make timestamp in df_twitter_archive to become tweet_timestamp**"
   ]
  },
  {
   "cell_type": "code",
   "execution_count": 23,
   "id": "49733836",
   "metadata": {},
   "outputs": [],
   "source": [
    "df_twitter_archive_clean.rename(columns={'timestamp':'tweet_timestamp'}, inplace=True)"
   ]
  },
  {
   "cell_type": "markdown",
   "id": "998038f6",
   "metadata": {},
   "source": [
    "#### Testing"
   ]
  },
  {
   "cell_type": "code",
   "execution_count": 24,
   "id": "35fe2385",
   "metadata": {},
   "outputs": [
    {
     "data": {
      "text/plain": [
       "Index(['tweet_id', 'in_reply_to_status_id', 'in_reply_to_user_id',\n",
       "       'tweet_timestamp', 'source', 'text', 'retweeted_status_id',\n",
       "       'retweeted_status_user_id', 'retweeted_status_timestamp',\n",
       "       'expanded_urls', 'rating_numerator', 'rating_denominator', 'name',\n",
       "       'doggo', 'floofer', 'pupper', 'puppo'],\n",
       "      dtype='object')"
      ]
     },
     "execution_count": 24,
     "metadata": {},
     "output_type": "execute_result"
    }
   ],
   "source": [
    "df_twitter_archive_clean.columns"
   ]
  },
  {
   "cell_type": "code",
   "execution_count": 26,
   "id": "a11a1e32",
   "metadata": {},
   "outputs": [
    {
     "data": {
      "text/html": [
       "<div>\n",
       "<style scoped>\n",
       "    .dataframe tbody tr th:only-of-type {\n",
       "        vertical-align: middle;\n",
       "    }\n",
       "\n",
       "    .dataframe tbody tr th {\n",
       "        vertical-align: top;\n",
       "    }\n",
       "\n",
       "    .dataframe thead th {\n",
       "        text-align: right;\n",
       "    }\n",
       "</style>\n",
       "<table border=\"1\" class=\"dataframe\">\n",
       "  <thead>\n",
       "    <tr style=\"text-align: right;\">\n",
       "      <th></th>\n",
       "      <th>tweet_id</th>\n",
       "      <th>in_reply_to_status_id</th>\n",
       "      <th>in_reply_to_user_id</th>\n",
       "      <th>tweet_timestamp</th>\n",
       "      <th>source</th>\n",
       "      <th>text</th>\n",
       "      <th>retweeted_status_id</th>\n",
       "      <th>retweeted_status_user_id</th>\n",
       "      <th>retweeted_status_timestamp</th>\n",
       "      <th>expanded_urls</th>\n",
       "      <th>rating_numerator</th>\n",
       "      <th>rating_denominator</th>\n",
       "      <th>name</th>\n",
       "      <th>doggo</th>\n",
       "      <th>floofer</th>\n",
       "      <th>pupper</th>\n",
       "      <th>puppo</th>\n",
       "    </tr>\n",
       "  </thead>\n",
       "  <tbody>\n",
       "    <tr>\n",
       "      <th>0</th>\n",
       "      <td>892420643555336193</td>\n",
       "      <td>NaN</td>\n",
       "      <td>NaN</td>\n",
       "      <td>2017-08-01 16:23:56 +0000</td>\n",
       "      <td>&lt;a href=\"http://twitter.com/download/iphone\" r...</td>\n",
       "      <td>This is Phineas. He's a mystical boy. Only eve...</td>\n",
       "      <td>NaN</td>\n",
       "      <td>NaN</td>\n",
       "      <td>NaN</td>\n",
       "      <td>https://twitter.com/dog_rates/status/892420643...</td>\n",
       "      <td>13</td>\n",
       "      <td>10</td>\n",
       "      <td>Phineas</td>\n",
       "      <td>None</td>\n",
       "      <td>None</td>\n",
       "      <td>None</td>\n",
       "      <td>None</td>\n",
       "    </tr>\n",
       "    <tr>\n",
       "      <th>1</th>\n",
       "      <td>892177421306343426</td>\n",
       "      <td>NaN</td>\n",
       "      <td>NaN</td>\n",
       "      <td>2017-08-01 00:17:27 +0000</td>\n",
       "      <td>&lt;a href=\"http://twitter.com/download/iphone\" r...</td>\n",
       "      <td>This is Tilly. She's just checking pup on you....</td>\n",
       "      <td>NaN</td>\n",
       "      <td>NaN</td>\n",
       "      <td>NaN</td>\n",
       "      <td>https://twitter.com/dog_rates/status/892177421...</td>\n",
       "      <td>13</td>\n",
       "      <td>10</td>\n",
       "      <td>Tilly</td>\n",
       "      <td>None</td>\n",
       "      <td>None</td>\n",
       "      <td>None</td>\n",
       "      <td>None</td>\n",
       "    </tr>\n",
       "    <tr>\n",
       "      <th>2</th>\n",
       "      <td>891815181378084864</td>\n",
       "      <td>NaN</td>\n",
       "      <td>NaN</td>\n",
       "      <td>2017-07-31 00:18:03 +0000</td>\n",
       "      <td>&lt;a href=\"http://twitter.com/download/iphone\" r...</td>\n",
       "      <td>This is Archie. He is a rare Norwegian Pouncin...</td>\n",
       "      <td>NaN</td>\n",
       "      <td>NaN</td>\n",
       "      <td>NaN</td>\n",
       "      <td>https://twitter.com/dog_rates/status/891815181...</td>\n",
       "      <td>12</td>\n",
       "      <td>10</td>\n",
       "      <td>Archie</td>\n",
       "      <td>None</td>\n",
       "      <td>None</td>\n",
       "      <td>None</td>\n",
       "      <td>None</td>\n",
       "    </tr>\n",
       "    <tr>\n",
       "      <th>3</th>\n",
       "      <td>891689557279858688</td>\n",
       "      <td>NaN</td>\n",
       "      <td>NaN</td>\n",
       "      <td>2017-07-30 15:58:51 +0000</td>\n",
       "      <td>&lt;a href=\"http://twitter.com/download/iphone\" r...</td>\n",
       "      <td>This is Darla. She commenced a snooze mid meal...</td>\n",
       "      <td>NaN</td>\n",
       "      <td>NaN</td>\n",
       "      <td>NaN</td>\n",
       "      <td>https://twitter.com/dog_rates/status/891689557...</td>\n",
       "      <td>13</td>\n",
       "      <td>10</td>\n",
       "      <td>Darla</td>\n",
       "      <td>None</td>\n",
       "      <td>None</td>\n",
       "      <td>None</td>\n",
       "      <td>None</td>\n",
       "    </tr>\n",
       "    <tr>\n",
       "      <th>4</th>\n",
       "      <td>891327558926688256</td>\n",
       "      <td>NaN</td>\n",
       "      <td>NaN</td>\n",
       "      <td>2017-07-29 16:00:24 +0000</td>\n",
       "      <td>&lt;a href=\"http://twitter.com/download/iphone\" r...</td>\n",
       "      <td>This is Franklin. He would like you to stop ca...</td>\n",
       "      <td>NaN</td>\n",
       "      <td>NaN</td>\n",
       "      <td>NaN</td>\n",
       "      <td>https://twitter.com/dog_rates/status/891327558...</td>\n",
       "      <td>12</td>\n",
       "      <td>10</td>\n",
       "      <td>Franklin</td>\n",
       "      <td>None</td>\n",
       "      <td>None</td>\n",
       "      <td>None</td>\n",
       "      <td>None</td>\n",
       "    </tr>\n",
       "    <tr>\n",
       "      <th>...</th>\n",
       "      <td>...</td>\n",
       "      <td>...</td>\n",
       "      <td>...</td>\n",
       "      <td>...</td>\n",
       "      <td>...</td>\n",
       "      <td>...</td>\n",
       "      <td>...</td>\n",
       "      <td>...</td>\n",
       "      <td>...</td>\n",
       "      <td>...</td>\n",
       "      <td>...</td>\n",
       "      <td>...</td>\n",
       "      <td>...</td>\n",
       "      <td>...</td>\n",
       "      <td>...</td>\n",
       "      <td>...</td>\n",
       "      <td>...</td>\n",
       "    </tr>\n",
       "    <tr>\n",
       "      <th>2351</th>\n",
       "      <td>666049248165822465</td>\n",
       "      <td>NaN</td>\n",
       "      <td>NaN</td>\n",
       "      <td>2015-11-16 00:24:50 +0000</td>\n",
       "      <td>&lt;a href=\"http://twitter.com/download/iphone\" r...</td>\n",
       "      <td>Here we have a 1949 1st generation vulpix. Enj...</td>\n",
       "      <td>NaN</td>\n",
       "      <td>NaN</td>\n",
       "      <td>NaN</td>\n",
       "      <td>https://twitter.com/dog_rates/status/666049248...</td>\n",
       "      <td>5</td>\n",
       "      <td>10</td>\n",
       "      <td>None</td>\n",
       "      <td>None</td>\n",
       "      <td>None</td>\n",
       "      <td>None</td>\n",
       "      <td>None</td>\n",
       "    </tr>\n",
       "    <tr>\n",
       "      <th>2352</th>\n",
       "      <td>666044226329800704</td>\n",
       "      <td>NaN</td>\n",
       "      <td>NaN</td>\n",
       "      <td>2015-11-16 00:04:52 +0000</td>\n",
       "      <td>&lt;a href=\"http://twitter.com/download/iphone\" r...</td>\n",
       "      <td>This is a purebred Piers Morgan. Loves to Netf...</td>\n",
       "      <td>NaN</td>\n",
       "      <td>NaN</td>\n",
       "      <td>NaN</td>\n",
       "      <td>https://twitter.com/dog_rates/status/666044226...</td>\n",
       "      <td>6</td>\n",
       "      <td>10</td>\n",
       "      <td>a</td>\n",
       "      <td>None</td>\n",
       "      <td>None</td>\n",
       "      <td>None</td>\n",
       "      <td>None</td>\n",
       "    </tr>\n",
       "    <tr>\n",
       "      <th>2353</th>\n",
       "      <td>666033412701032449</td>\n",
       "      <td>NaN</td>\n",
       "      <td>NaN</td>\n",
       "      <td>2015-11-15 23:21:54 +0000</td>\n",
       "      <td>&lt;a href=\"http://twitter.com/download/iphone\" r...</td>\n",
       "      <td>Here is a very happy pup. Big fan of well-main...</td>\n",
       "      <td>NaN</td>\n",
       "      <td>NaN</td>\n",
       "      <td>NaN</td>\n",
       "      <td>https://twitter.com/dog_rates/status/666033412...</td>\n",
       "      <td>9</td>\n",
       "      <td>10</td>\n",
       "      <td>a</td>\n",
       "      <td>None</td>\n",
       "      <td>None</td>\n",
       "      <td>None</td>\n",
       "      <td>None</td>\n",
       "    </tr>\n",
       "    <tr>\n",
       "      <th>2354</th>\n",
       "      <td>666029285002620928</td>\n",
       "      <td>NaN</td>\n",
       "      <td>NaN</td>\n",
       "      <td>2015-11-15 23:05:30 +0000</td>\n",
       "      <td>&lt;a href=\"http://twitter.com/download/iphone\" r...</td>\n",
       "      <td>This is a western brown Mitsubishi terrier. Up...</td>\n",
       "      <td>NaN</td>\n",
       "      <td>NaN</td>\n",
       "      <td>NaN</td>\n",
       "      <td>https://twitter.com/dog_rates/status/666029285...</td>\n",
       "      <td>7</td>\n",
       "      <td>10</td>\n",
       "      <td>a</td>\n",
       "      <td>None</td>\n",
       "      <td>None</td>\n",
       "      <td>None</td>\n",
       "      <td>None</td>\n",
       "    </tr>\n",
       "    <tr>\n",
       "      <th>2355</th>\n",
       "      <td>666020888022790149</td>\n",
       "      <td>NaN</td>\n",
       "      <td>NaN</td>\n",
       "      <td>2015-11-15 22:32:08 +0000</td>\n",
       "      <td>&lt;a href=\"http://twitter.com/download/iphone\" r...</td>\n",
       "      <td>Here we have a Japanese Irish Setter. Lost eye...</td>\n",
       "      <td>NaN</td>\n",
       "      <td>NaN</td>\n",
       "      <td>NaN</td>\n",
       "      <td>https://twitter.com/dog_rates/status/666020888...</td>\n",
       "      <td>8</td>\n",
       "      <td>10</td>\n",
       "      <td>None</td>\n",
       "      <td>None</td>\n",
       "      <td>None</td>\n",
       "      <td>None</td>\n",
       "      <td>None</td>\n",
       "    </tr>\n",
       "  </tbody>\n",
       "</table>\n",
       "<p>2164 rows × 17 columns</p>\n",
       "</div>"
      ],
      "text/plain": [
       "                tweet_id  in_reply_to_status_id  in_reply_to_user_id  \\\n",
       "0     892420643555336193                    NaN                  NaN   \n",
       "1     892177421306343426                    NaN                  NaN   \n",
       "2     891815181378084864                    NaN                  NaN   \n",
       "3     891689557279858688                    NaN                  NaN   \n",
       "4     891327558926688256                    NaN                  NaN   \n",
       "...                  ...                    ...                  ...   \n",
       "2351  666049248165822465                    NaN                  NaN   \n",
       "2352  666044226329800704                    NaN                  NaN   \n",
       "2353  666033412701032449                    NaN                  NaN   \n",
       "2354  666029285002620928                    NaN                  NaN   \n",
       "2355  666020888022790149                    NaN                  NaN   \n",
       "\n",
       "                tweet_timestamp  \\\n",
       "0     2017-08-01 16:23:56 +0000   \n",
       "1     2017-08-01 00:17:27 +0000   \n",
       "2     2017-07-31 00:18:03 +0000   \n",
       "3     2017-07-30 15:58:51 +0000   \n",
       "4     2017-07-29 16:00:24 +0000   \n",
       "...                         ...   \n",
       "2351  2015-11-16 00:24:50 +0000   \n",
       "2352  2015-11-16 00:04:52 +0000   \n",
       "2353  2015-11-15 23:21:54 +0000   \n",
       "2354  2015-11-15 23:05:30 +0000   \n",
       "2355  2015-11-15 22:32:08 +0000   \n",
       "\n",
       "                                                 source  \\\n",
       "0     <a href=\"http://twitter.com/download/iphone\" r...   \n",
       "1     <a href=\"http://twitter.com/download/iphone\" r...   \n",
       "2     <a href=\"http://twitter.com/download/iphone\" r...   \n",
       "3     <a href=\"http://twitter.com/download/iphone\" r...   \n",
       "4     <a href=\"http://twitter.com/download/iphone\" r...   \n",
       "...                                                 ...   \n",
       "2351  <a href=\"http://twitter.com/download/iphone\" r...   \n",
       "2352  <a href=\"http://twitter.com/download/iphone\" r...   \n",
       "2353  <a href=\"http://twitter.com/download/iphone\" r...   \n",
       "2354  <a href=\"http://twitter.com/download/iphone\" r...   \n",
       "2355  <a href=\"http://twitter.com/download/iphone\" r...   \n",
       "\n",
       "                                                   text  retweeted_status_id  \\\n",
       "0     This is Phineas. He's a mystical boy. Only eve...                  NaN   \n",
       "1     This is Tilly. She's just checking pup on you....                  NaN   \n",
       "2     This is Archie. He is a rare Norwegian Pouncin...                  NaN   \n",
       "3     This is Darla. She commenced a snooze mid meal...                  NaN   \n",
       "4     This is Franklin. He would like you to stop ca...                  NaN   \n",
       "...                                                 ...                  ...   \n",
       "2351  Here we have a 1949 1st generation vulpix. Enj...                  NaN   \n",
       "2352  This is a purebred Piers Morgan. Loves to Netf...                  NaN   \n",
       "2353  Here is a very happy pup. Big fan of well-main...                  NaN   \n",
       "2354  This is a western brown Mitsubishi terrier. Up...                  NaN   \n",
       "2355  Here we have a Japanese Irish Setter. Lost eye...                  NaN   \n",
       "\n",
       "      retweeted_status_user_id retweeted_status_timestamp  \\\n",
       "0                          NaN                        NaN   \n",
       "1                          NaN                        NaN   \n",
       "2                          NaN                        NaN   \n",
       "3                          NaN                        NaN   \n",
       "4                          NaN                        NaN   \n",
       "...                        ...                        ...   \n",
       "2351                       NaN                        NaN   \n",
       "2352                       NaN                        NaN   \n",
       "2353                       NaN                        NaN   \n",
       "2354                       NaN                        NaN   \n",
       "2355                       NaN                        NaN   \n",
       "\n",
       "                                          expanded_urls  rating_numerator  \\\n",
       "0     https://twitter.com/dog_rates/status/892420643...                13   \n",
       "1     https://twitter.com/dog_rates/status/892177421...                13   \n",
       "2     https://twitter.com/dog_rates/status/891815181...                12   \n",
       "3     https://twitter.com/dog_rates/status/891689557...                13   \n",
       "4     https://twitter.com/dog_rates/status/891327558...                12   \n",
       "...                                                 ...               ...   \n",
       "2351  https://twitter.com/dog_rates/status/666049248...                 5   \n",
       "2352  https://twitter.com/dog_rates/status/666044226...                 6   \n",
       "2353  https://twitter.com/dog_rates/status/666033412...                 9   \n",
       "2354  https://twitter.com/dog_rates/status/666029285...                 7   \n",
       "2355  https://twitter.com/dog_rates/status/666020888...                 8   \n",
       "\n",
       "      rating_denominator      name doggo floofer pupper puppo  \n",
       "0                     10   Phineas  None    None   None  None  \n",
       "1                     10     Tilly  None    None   None  None  \n",
       "2                     10    Archie  None    None   None  None  \n",
       "3                     10     Darla  None    None   None  None  \n",
       "4                     10  Franklin  None    None   None  None  \n",
       "...                  ...       ...   ...     ...    ...   ...  \n",
       "2351                  10      None  None    None   None  None  \n",
       "2352                  10         a  None    None   None  None  \n",
       "2353                  10         a  None    None   None  None  \n",
       "2354                  10         a  None    None   None  None  \n",
       "2355                  10      None  None    None   None  None  \n",
       "\n",
       "[2164 rows x 17 columns]"
      ]
     },
     "execution_count": 26,
     "metadata": {},
     "output_type": "execute_result"
    }
   ],
   "source": [
    "df_twitter_archive_clean[df_twitter_archive_clean['retweeted_status_user_id'].isnull()]"
   ]
  },
  {
   "cell_type": "markdown",
   "id": "9cbbb8cb",
   "metadata": {},
   "source": [
    "**Drop `in_reply_to_status_id,in_reply_to_user_id` since it all contains null values in  retweets table created from df_twitter_archive and drop all `in_reply_to_status_id,in_reply_to_user_id, retweeted_status_id,retweeted_status_user_id` in the twitter_archive**"
   ]
  },
  {
   "cell_type": "code",
   "execution_count": 27,
   "id": "74d102c8",
   "metadata": {},
   "outputs": [],
   "source": [
    "#drop in_reply_to_status_id,in_reply_to_user_id,retweeted_status_id,retweeted_status_user_id\n",
    "df_twitter_archive_clean = df_twitter_archive_clean.drop(['in_reply_to_status_id', 'in_reply_to_user_id','retweeted_status_id','retweeted_status_user_id'], axis=1)\n",
    "#drop in_reply_to_status_id,in_reply_to_user_id from retweets\n",
    "retweets = retweets.drop(['in_reply_to_status_id','in_reply_to_user_id'], axis=1)"
   ]
  },
  {
   "cell_type": "markdown",
   "id": "02bad8d0",
   "metadata": {},
   "source": [
    "### Testing"
   ]
  },
  {
   "cell_type": "code",
   "execution_count": 30,
   "id": "d66d6bd6",
   "metadata": {},
   "outputs": [
    {
     "data": {
      "text/plain": [
       "Index(['tweet_id', 'tweet_timestamp', 'source', 'text',\n",
       "       'retweeted_status_timestamp', 'expanded_urls', 'rating_numerator',\n",
       "       'rating_denominator', 'name', 'doggo', 'floofer', 'pupper', 'puppo'],\n",
       "      dtype='object')"
      ]
     },
     "execution_count": 30,
     "metadata": {},
     "output_type": "execute_result"
    }
   ],
   "source": [
    "df_twitter_archive_clean.columns"
   ]
  },
  {
   "cell_type": "code",
   "execution_count": 31,
   "id": "14281609",
   "metadata": {},
   "outputs": [
    {
     "data": {
      "text/plain": [
       "Index(['tweet_id', 'timestamp', 'source', 'text', 'retweeted_status_id',\n",
       "       'retweeted_status_user_id', 'retweeted_status_timestamp',\n",
       "       'expanded_urls', 'rating_numerator', 'rating_denominator', 'name',\n",
       "       'doggo', 'floofer', 'pupper', 'puppo', 'favorite_count',\n",
       "       'retweet_count'],\n",
       "      dtype='object')"
      ]
     },
     "execution_count": 31,
     "metadata": {},
     "output_type": "execute_result"
    }
   ],
   "source": [
    "retweets.columns"
   ]
  },
  {
   "cell_type": "markdown",
   "id": "aa05eedf",
   "metadata": {},
   "source": [
    "**All retweeted_status_timestamp field in df_twitter_archive_clean are null so drop the column as well**"
   ]
  },
  {
   "cell_type": "code",
   "execution_count": 32,
   "id": "fcdeffee",
   "metadata": {},
   "outputs": [],
   "source": [
    "df_twitter_archive_clean.drop(['retweeted_status_timestamp'], axis=1, inplace=True)\n"
   ]
  },
  {
   "cell_type": "markdown",
   "id": "e54d4338",
   "metadata": {},
   "source": [
    "#### Testing"
   ]
  },
  {
   "cell_type": "code",
   "execution_count": 33,
   "id": "f20bd3a4",
   "metadata": {},
   "outputs": [
    {
     "data": {
      "text/plain": [
       "Index(['tweet_id', 'tweet_timestamp', 'source', 'text', 'expanded_urls',\n",
       "       'rating_numerator', 'rating_denominator', 'name', 'doggo', 'floofer',\n",
       "       'pupper', 'puppo'],\n",
       "      dtype='object')"
      ]
     },
     "execution_count": 33,
     "metadata": {},
     "output_type": "execute_result"
    }
   ],
   "source": [
    "df_twitter_archive_clean.columns"
   ]
  },
  {
   "cell_type": "code",
   "execution_count": 34,
   "id": "fa76f9ec",
   "metadata": {},
   "outputs": [
    {
     "data": {
      "text/plain": [
       "Index(['tweet_id', 'timestamp', 'source', 'text', 'retweeted_status_id',\n",
       "       'retweeted_status_user_id', 'retweeted_status_timestamp',\n",
       "       'expanded_urls', 'rating_numerator', 'rating_denominator', 'name',\n",
       "       'doggo', 'floofer', 'pupper', 'puppo', 'favorite_count',\n",
       "       'retweet_count'],\n",
       "      dtype='object')"
      ]
     },
     "execution_count": 34,
     "metadata": {},
     "output_type": "execute_result"
    }
   ],
   "source": [
    "retweets.columns"
   ]
  },
  {
   "cell_type": "markdown",
   "id": "87d1d9a8",
   "metadata": {},
   "source": [
    "**Make retweeted_status_timestamp and timestamp to become datetime and not object.**\n",
    "\n",
    "This will be performed on the retweet dataframe and we set all entries in `df_twitter_archive_clean` to zero since we do not have retweeted tweets in it any more"
   ]
  },
  {
   "cell_type": "code",
   "execution_count": 35,
   "id": "f1dd42d7",
   "metadata": {},
   "outputs": [],
   "source": [
    "retweets['retweeted_status_timestamp'] = pd.to_datetime(retweets['retweeted_status_timestamp'])"
   ]
  },
  {
   "cell_type": "code",
   "execution_count": 36,
   "id": "4f88b0a5",
   "metadata": {},
   "outputs": [],
   "source": [
    "df_twitter_archive_clean['tweet_timestamp'] = pd.to_datetime(df_twitter_archive_clean['tweet_timestamp'])"
   ]
  },
  {
   "cell_type": "markdown",
   "id": "10c89774",
   "metadata": {},
   "source": [
    "#### Testing"
   ]
  },
  {
   "cell_type": "code",
   "execution_count": 37,
   "id": "a6bfc816",
   "metadata": {},
   "outputs": [
    {
     "data": {
      "text/plain": [
       "datetime64[ns, UTC]"
      ]
     },
     "execution_count": 37,
     "metadata": {},
     "output_type": "execute_result"
    }
   ],
   "source": [
    "df_twitter_archive_clean['tweet_timestamp'].dtypes"
   ]
  },
  {
   "cell_type": "code",
   "execution_count": 38,
   "id": "0e6b114c",
   "metadata": {},
   "outputs": [
    {
     "data": {
      "text/plain": [
       "datetime64[ns, UTC]"
      ]
     },
     "execution_count": 38,
     "metadata": {},
     "output_type": "execute_result"
    }
   ],
   "source": [
    "retweets['retweeted_status_timestamp'].dtypes"
   ]
  },
  {
   "cell_type": "code",
   "execution_count": 39,
   "id": "ea93ce0a",
   "metadata": {},
   "outputs": [
    {
     "data": {
      "text/plain": [
       "78    2017-06-19 17:14:49+00:00\n",
       "656   2016-06-25 17:31:25+00:00\n",
       "Name: retweeted_status_timestamp, dtype: datetime64[ns, UTC]"
      ]
     },
     "execution_count": 39,
     "metadata": {},
     "output_type": "execute_result"
    }
   ],
   "source": [
    "retweets['retweeted_status_timestamp'].sample(2)"
   ]
  },
  {
   "cell_type": "markdown",
   "id": "2a4c19a2",
   "metadata": {},
   "source": [
    "**Remove all underscores in `tp1, tp2, tp3` entry.**"
   ]
  },
  {
   "cell_type": "code",
   "execution_count": 92,
   "id": "d27aacad",
   "metadata": {},
   "outputs": [],
   "source": [
    "def removeUnderscore(text):\n",
    "    print(text)\n",
    "    tex = text.replace(\"_\",\" \")\n",
    "    return tex\n",
    "df_prediction_clean['tp1']= df_prediction_clean['tp1'].apply(lambda x: removeUnderscore(x))"
   ]
  },
  {
   "cell_type": "code",
   "execution_count": 41,
   "id": "34e40d2c",
   "metadata": {},
   "outputs": [],
   "source": [
    "df_prediction_clean['tp2']= df_prediction_clean['tp2'].apply(lambda x: removeUnderscore(x))"
   ]
  },
  {
   "cell_type": "code",
   "execution_count": 42,
   "id": "c026118e",
   "metadata": {},
   "outputs": [],
   "source": [
    "df_prediction_clean['tp3']= df_prediction_clean['tp3'].apply(lambda x: removeUnderscore(x))"
   ]
  },
  {
   "cell_type": "markdown",
   "id": "2f8b0ed7",
   "metadata": {},
   "source": [
    "#### Testing"
   ]
  },
  {
   "cell_type": "code",
   "execution_count": 43,
   "id": "d5df01ef",
   "metadata": {},
   "outputs": [
    {
     "data": {
      "text/html": [
       "<div>\n",
       "<style scoped>\n",
       "    .dataframe tbody tr th:only-of-type {\n",
       "        vertical-align: middle;\n",
       "    }\n",
       "\n",
       "    .dataframe tbody tr th {\n",
       "        vertical-align: top;\n",
       "    }\n",
       "\n",
       "    .dataframe thead th {\n",
       "        text-align: right;\n",
       "    }\n",
       "</style>\n",
       "<table border=\"1\" class=\"dataframe\">\n",
       "  <thead>\n",
       "    <tr style=\"text-align: right;\">\n",
       "      <th></th>\n",
       "      <th>Unnamed: 0</th>\n",
       "      <th>tweet_id</th>\n",
       "      <th>jpg_url</th>\n",
       "      <th>img_num</th>\n",
       "      <th>tp1</th>\n",
       "      <th>tp1_confidence</th>\n",
       "      <th>tp1_dog</th>\n",
       "      <th>tp2</th>\n",
       "      <th>tp2_confidence</th>\n",
       "      <th>tp2_dog</th>\n",
       "      <th>tp3</th>\n",
       "      <th>tp3_confidence</th>\n",
       "      <th>tp3_dog</th>\n",
       "    </tr>\n",
       "  </thead>\n",
       "  <tbody>\n",
       "    <tr>\n",
       "      <th>0</th>\n",
       "      <td>0</td>\n",
       "      <td>666020888022790149</td>\n",
       "      <td>https://pbs.twimg.com/media/CT4udn0WwAA0aMy.jpg</td>\n",
       "      <td>1</td>\n",
       "      <td>Welsh springer spaniel</td>\n",
       "      <td>0.465074</td>\n",
       "      <td>True</td>\n",
       "      <td>collie</td>\n",
       "      <td>0.156665</td>\n",
       "      <td>True</td>\n",
       "      <td>Shetland sheepdog</td>\n",
       "      <td>0.061428</td>\n",
       "      <td>True</td>\n",
       "    </tr>\n",
       "    <tr>\n",
       "      <th>1</th>\n",
       "      <td>1</td>\n",
       "      <td>666029285002620928</td>\n",
       "      <td>https://pbs.twimg.com/media/CT42GRgUYAA5iDo.jpg</td>\n",
       "      <td>1</td>\n",
       "      <td>redbone</td>\n",
       "      <td>0.506826</td>\n",
       "      <td>True</td>\n",
       "      <td>miniature pinscher</td>\n",
       "      <td>0.074192</td>\n",
       "      <td>True</td>\n",
       "      <td>Rhodesian ridgeback</td>\n",
       "      <td>0.072010</td>\n",
       "      <td>True</td>\n",
       "    </tr>\n",
       "    <tr>\n",
       "      <th>2</th>\n",
       "      <td>2</td>\n",
       "      <td>666033412701032449</td>\n",
       "      <td>https://pbs.twimg.com/media/CT4521TWwAEvMyu.jpg</td>\n",
       "      <td>1</td>\n",
       "      <td>German shepherd</td>\n",
       "      <td>0.596461</td>\n",
       "      <td>True</td>\n",
       "      <td>malinois</td>\n",
       "      <td>0.138584</td>\n",
       "      <td>True</td>\n",
       "      <td>bloodhound</td>\n",
       "      <td>0.116197</td>\n",
       "      <td>True</td>\n",
       "    </tr>\n",
       "  </tbody>\n",
       "</table>\n",
       "</div>"
      ],
      "text/plain": [
       "   Unnamed: 0            tweet_id  \\\n",
       "0           0  666020888022790149   \n",
       "1           1  666029285002620928   \n",
       "2           2  666033412701032449   \n",
       "\n",
       "                                           jpg_url  img_num  \\\n",
       "0  https://pbs.twimg.com/media/CT4udn0WwAA0aMy.jpg        1   \n",
       "1  https://pbs.twimg.com/media/CT42GRgUYAA5iDo.jpg        1   \n",
       "2  https://pbs.twimg.com/media/CT4521TWwAEvMyu.jpg        1   \n",
       "\n",
       "                      tp1  tp1_confidence  tp1_dog                 tp2  \\\n",
       "0  Welsh springer spaniel        0.465074     True              collie   \n",
       "1                 redbone        0.506826     True  miniature pinscher   \n",
       "2         German shepherd        0.596461     True            malinois   \n",
       "\n",
       "   tp2_confidence  tp2_dog                  tp3  tp3_confidence  tp3_dog  \n",
       "0        0.156665     True    Shetland sheepdog        0.061428     True  \n",
       "1        0.074192     True  Rhodesian ridgeback        0.072010     True  \n",
       "2        0.138584     True           bloodhound        0.116197     True  "
      ]
     },
     "execution_count": 43,
     "metadata": {},
     "output_type": "execute_result"
    }
   ],
   "source": [
    "df_prediction_clean.head(3)"
   ]
  },
  {
   "cell_type": "markdown",
   "id": "c434686b",
   "metadata": {},
   "source": [
    "**Make all rating_numerator not greater than 10 to become the mode of the rating numerator field**"
   ]
  },
  {
   "cell_type": "code",
   "execution_count": 44,
   "id": "89305d82",
   "metadata": {},
   "outputs": [],
   "source": [
    "mode = df_twitter_archive_clean['rating_numerator'].mode().values[0]\n",
    "def makeMode(number, mode):\n",
    "    numerator = 0\n",
    "    if number < 10:\n",
    "        numerator = mode\n",
    "    else:\n",
    "        numerator = number\n",
    "    return numerator\n",
    "df_twitter_archive_clean['rating_numerator'] = df_twitter_archive_clean['rating_numerator'].apply(lambda x:makeMode(x,mode))"
   ]
  },
  {
   "cell_type": "markdown",
   "id": "d1534da4",
   "metadata": {},
   "source": [
    "#### Testing"
   ]
  },
  {
   "cell_type": "code",
   "execution_count": 45,
   "id": "3e17a81f",
   "metadata": {},
   "outputs": [
    {
     "data": {
      "text/html": [
       "<div>\n",
       "<style scoped>\n",
       "    .dataframe tbody tr th:only-of-type {\n",
       "        vertical-align: middle;\n",
       "    }\n",
       "\n",
       "    .dataframe tbody tr th {\n",
       "        vertical-align: top;\n",
       "    }\n",
       "\n",
       "    .dataframe thead th {\n",
       "        text-align: right;\n",
       "    }\n",
       "</style>\n",
       "<table border=\"1\" class=\"dataframe\">\n",
       "  <thead>\n",
       "    <tr style=\"text-align: right;\">\n",
       "      <th></th>\n",
       "      <th>tweet_id</th>\n",
       "      <th>tweet_timestamp</th>\n",
       "      <th>source</th>\n",
       "      <th>text</th>\n",
       "      <th>expanded_urls</th>\n",
       "      <th>rating_numerator</th>\n",
       "      <th>rating_denominator</th>\n",
       "      <th>name</th>\n",
       "      <th>doggo</th>\n",
       "      <th>floofer</th>\n",
       "      <th>pupper</th>\n",
       "      <th>puppo</th>\n",
       "    </tr>\n",
       "  </thead>\n",
       "  <tbody>\n",
       "  </tbody>\n",
       "</table>\n",
       "</div>"
      ],
      "text/plain": [
       "Empty DataFrame\n",
       "Columns: [tweet_id, tweet_timestamp, source, text, expanded_urls, rating_numerator, rating_denominator, name, doggo, floofer, pupper, puppo]\n",
       "Index: []"
      ]
     },
     "execution_count": 45,
     "metadata": {},
     "output_type": "execute_result"
    }
   ],
   "source": [
    "df_twitter_archive_clean.query('rating_numerator < 10')"
   ]
  },
  {
   "cell_type": "code",
   "execution_count": 46,
   "id": "7bf071ad",
   "metadata": {},
   "outputs": [
    {
     "data": {
      "text/html": [
       "<div>\n",
       "<style scoped>\n",
       "    .dataframe tbody tr th:only-of-type {\n",
       "        vertical-align: middle;\n",
       "    }\n",
       "\n",
       "    .dataframe tbody tr th {\n",
       "        vertical-align: top;\n",
       "    }\n",
       "\n",
       "    .dataframe thead th {\n",
       "        text-align: right;\n",
       "    }\n",
       "</style>\n",
       "<table border=\"1\" class=\"dataframe\">\n",
       "  <thead>\n",
       "    <tr style=\"text-align: right;\">\n",
       "      <th></th>\n",
       "      <th>tweet_id</th>\n",
       "      <th>tweet_timestamp</th>\n",
       "      <th>source</th>\n",
       "      <th>text</th>\n",
       "      <th>expanded_urls</th>\n",
       "      <th>rating_numerator</th>\n",
       "      <th>rating_denominator</th>\n",
       "      <th>name</th>\n",
       "      <th>doggo</th>\n",
       "      <th>floofer</th>\n",
       "      <th>pupper</th>\n",
       "      <th>puppo</th>\n",
       "    </tr>\n",
       "  </thead>\n",
       "  <tbody>\n",
       "    <tr>\n",
       "      <th>1279</th>\n",
       "      <td>708845821941387268</td>\n",
       "      <td>2016-03-13 02:43:08+00:00</td>\n",
       "      <td>&lt;a href=\"http://twitter.com/download/iphone\" r...</td>\n",
       "      <td>Here's a pupper with magic eyes. Not wearing a...</td>\n",
       "      <td>https://twitter.com/dog_rates/status/708845821...</td>\n",
       "      <td>12</td>\n",
       "      <td>10</td>\n",
       "      <td>None</td>\n",
       "      <td>None</td>\n",
       "      <td>None</td>\n",
       "      <td>pupper</td>\n",
       "      <td>None</td>\n",
       "    </tr>\n",
       "    <tr>\n",
       "      <th>1386</th>\n",
       "      <td>700518061187723268</td>\n",
       "      <td>2016-02-19 03:11:35+00:00</td>\n",
       "      <td>&lt;a href=\"http://twitter.com/download/iphone\" r...</td>\n",
       "      <td>This is Vincent. He's the man your girl is wit...</td>\n",
       "      <td>https://twitter.com/dog_rates/status/700518061...</td>\n",
       "      <td>10</td>\n",
       "      <td>10</td>\n",
       "      <td>Vincent</td>\n",
       "      <td>None</td>\n",
       "      <td>None</td>\n",
       "      <td>None</td>\n",
       "      <td>None</td>\n",
       "    </tr>\n",
       "    <tr>\n",
       "      <th>1978</th>\n",
       "      <td>672984142909456390</td>\n",
       "      <td>2015-12-05 03:41:37+00:00</td>\n",
       "      <td>&lt;a href=\"http://twitter.com/download/iphone\" r...</td>\n",
       "      <td>Very happy pup here. Always smiling. Loves his...</td>\n",
       "      <td>https://twitter.com/dog_rates/status/672984142...</td>\n",
       "      <td>12</td>\n",
       "      <td>10</td>\n",
       "      <td>None</td>\n",
       "      <td>None</td>\n",
       "      <td>None</td>\n",
       "      <td>None</td>\n",
       "      <td>None</td>\n",
       "    </tr>\n",
       "    <tr>\n",
       "      <th>1397</th>\n",
       "      <td>699779630832685056</td>\n",
       "      <td>2016-02-17 02:17:19+00:00</td>\n",
       "      <td>&lt;a href=\"http://twitter.com/download/iphone\" r...</td>\n",
       "      <td>Take all my money. 10/10 https://t.co/B28ebc5LzQ</td>\n",
       "      <td>https://twitter.com/dog_rates/status/699779630...</td>\n",
       "      <td>10</td>\n",
       "      <td>10</td>\n",
       "      <td>None</td>\n",
       "      <td>None</td>\n",
       "      <td>None</td>\n",
       "      <td>None</td>\n",
       "      <td>None</td>\n",
       "    </tr>\n",
       "    <tr>\n",
       "      <th>1431</th>\n",
       "      <td>697516214579523584</td>\n",
       "      <td>2016-02-10 20:23:19+00:00</td>\n",
       "      <td>&lt;a href=\"http://vine.co\" rel=\"nofollow\"&gt;Vine -...</td>\n",
       "      <td>Say hello to Pherb. He does parkour. 9/10 http...</td>\n",
       "      <td>https://vine.co/v/i1LriMBmX6W</td>\n",
       "      <td>12</td>\n",
       "      <td>10</td>\n",
       "      <td>Pherb</td>\n",
       "      <td>None</td>\n",
       "      <td>None</td>\n",
       "      <td>None</td>\n",
       "      <td>None</td>\n",
       "    </tr>\n",
       "  </tbody>\n",
       "</table>\n",
       "</div>"
      ],
      "text/plain": [
       "                tweet_id           tweet_timestamp  \\\n",
       "1279  708845821941387268 2016-03-13 02:43:08+00:00   \n",
       "1386  700518061187723268 2016-02-19 03:11:35+00:00   \n",
       "1978  672984142909456390 2015-12-05 03:41:37+00:00   \n",
       "1397  699779630832685056 2016-02-17 02:17:19+00:00   \n",
       "1431  697516214579523584 2016-02-10 20:23:19+00:00   \n",
       "\n",
       "                                                 source  \\\n",
       "1279  <a href=\"http://twitter.com/download/iphone\" r...   \n",
       "1386  <a href=\"http://twitter.com/download/iphone\" r...   \n",
       "1978  <a href=\"http://twitter.com/download/iphone\" r...   \n",
       "1397  <a href=\"http://twitter.com/download/iphone\" r...   \n",
       "1431  <a href=\"http://vine.co\" rel=\"nofollow\">Vine -...   \n",
       "\n",
       "                                                   text  \\\n",
       "1279  Here's a pupper with magic eyes. Not wearing a...   \n",
       "1386  This is Vincent. He's the man your girl is wit...   \n",
       "1978  Very happy pup here. Always smiling. Loves his...   \n",
       "1397   Take all my money. 10/10 https://t.co/B28ebc5LzQ   \n",
       "1431  Say hello to Pherb. He does parkour. 9/10 http...   \n",
       "\n",
       "                                          expanded_urls  rating_numerator  \\\n",
       "1279  https://twitter.com/dog_rates/status/708845821...                12   \n",
       "1386  https://twitter.com/dog_rates/status/700518061...                10   \n",
       "1978  https://twitter.com/dog_rates/status/672984142...                12   \n",
       "1397  https://twitter.com/dog_rates/status/699779630...                10   \n",
       "1431                      https://vine.co/v/i1LriMBmX6W                12   \n",
       "\n",
       "      rating_denominator     name doggo floofer  pupper puppo  \n",
       "1279                  10     None  None    None  pupper  None  \n",
       "1386                  10  Vincent  None    None    None  None  \n",
       "1978                  10     None  None    None    None  None  \n",
       "1397                  10     None  None    None    None  None  \n",
       "1431                  10    Pherb  None    None    None  None  "
      ]
     },
     "execution_count": 46,
     "metadata": {},
     "output_type": "execute_result"
    }
   ],
   "source": [
    "df_twitter_archive_clean.sample(5)"
   ]
  },
  {
   "cell_type": "markdown",
   "id": "d7aa965d",
   "metadata": {},
   "source": [
    "**Make all rating_denominator to become exactly 10**"
   ]
  },
  {
   "cell_type": "code",
   "execution_count": 47,
   "id": "300ecc26",
   "metadata": {},
   "outputs": [],
   "source": [
    "df_twitter_archive_clean['rating_denominator'] = df_twitter_archive_clean['rating_denominator'].apply(lambda x: 10)"
   ]
  },
  {
   "cell_type": "markdown",
   "id": "7516cab7",
   "metadata": {},
   "source": [
    "#### Testing"
   ]
  },
  {
   "cell_type": "code",
   "execution_count": 48,
   "id": "5809582c",
   "metadata": {},
   "outputs": [
    {
     "data": {
      "text/html": [
       "<div>\n",
       "<style scoped>\n",
       "    .dataframe tbody tr th:only-of-type {\n",
       "        vertical-align: middle;\n",
       "    }\n",
       "\n",
       "    .dataframe tbody tr th {\n",
       "        vertical-align: top;\n",
       "    }\n",
       "\n",
       "    .dataframe thead th {\n",
       "        text-align: right;\n",
       "    }\n",
       "</style>\n",
       "<table border=\"1\" class=\"dataframe\">\n",
       "  <thead>\n",
       "    <tr style=\"text-align: right;\">\n",
       "      <th></th>\n",
       "      <th>tweet_id</th>\n",
       "      <th>tweet_timestamp</th>\n",
       "      <th>source</th>\n",
       "      <th>text</th>\n",
       "      <th>expanded_urls</th>\n",
       "      <th>rating_numerator</th>\n",
       "      <th>rating_denominator</th>\n",
       "      <th>name</th>\n",
       "      <th>doggo</th>\n",
       "      <th>floofer</th>\n",
       "      <th>pupper</th>\n",
       "      <th>puppo</th>\n",
       "    </tr>\n",
       "  </thead>\n",
       "  <tbody>\n",
       "  </tbody>\n",
       "</table>\n",
       "</div>"
      ],
      "text/plain": [
       "Empty DataFrame\n",
       "Columns: [tweet_id, tweet_timestamp, source, text, expanded_urls, rating_numerator, rating_denominator, name, doggo, floofer, pupper, puppo]\n",
       "Index: []"
      ]
     },
     "execution_count": 48,
     "metadata": {},
     "output_type": "execute_result"
    }
   ],
   "source": [
    "df = df_twitter_archive_clean.query(\"rating_denominator > 10\")\n",
    "df"
   ]
  },
  {
   "cell_type": "code",
   "execution_count": 49,
   "id": "27de8514",
   "metadata": {},
   "outputs": [
    {
     "data": {
      "text/html": [
       "<div>\n",
       "<style scoped>\n",
       "    .dataframe tbody tr th:only-of-type {\n",
       "        vertical-align: middle;\n",
       "    }\n",
       "\n",
       "    .dataframe tbody tr th {\n",
       "        vertical-align: top;\n",
       "    }\n",
       "\n",
       "    .dataframe thead th {\n",
       "        text-align: right;\n",
       "    }\n",
       "</style>\n",
       "<table border=\"1\" class=\"dataframe\">\n",
       "  <thead>\n",
       "    <tr style=\"text-align: right;\">\n",
       "      <th></th>\n",
       "      <th>tweet_id</th>\n",
       "      <th>tweet_timestamp</th>\n",
       "      <th>source</th>\n",
       "      <th>text</th>\n",
       "      <th>expanded_urls</th>\n",
       "      <th>rating_numerator</th>\n",
       "      <th>rating_denominator</th>\n",
       "      <th>name</th>\n",
       "      <th>doggo</th>\n",
       "      <th>floofer</th>\n",
       "      <th>pupper</th>\n",
       "      <th>puppo</th>\n",
       "    </tr>\n",
       "  </thead>\n",
       "  <tbody>\n",
       "  </tbody>\n",
       "</table>\n",
       "</div>"
      ],
      "text/plain": [
       "Empty DataFrame\n",
       "Columns: [tweet_id, tweet_timestamp, source, text, expanded_urls, rating_numerator, rating_denominator, name, doggo, floofer, pupper, puppo]\n",
       "Index: []"
      ]
     },
     "execution_count": 49,
     "metadata": {},
     "output_type": "execute_result"
    }
   ],
   "source": [
    "df = df_twitter_archive_clean.query(\"rating_denominator < 10\")\n",
    "df"
   ]
  },
  {
   "cell_type": "code",
   "execution_count": 50,
   "id": "6eb346e9",
   "metadata": {},
   "outputs": [
    {
     "data": {
      "text/html": [
       "<div>\n",
       "<style scoped>\n",
       "    .dataframe tbody tr th:only-of-type {\n",
       "        vertical-align: middle;\n",
       "    }\n",
       "\n",
       "    .dataframe tbody tr th {\n",
       "        vertical-align: top;\n",
       "    }\n",
       "\n",
       "    .dataframe thead th {\n",
       "        text-align: right;\n",
       "    }\n",
       "</style>\n",
       "<table border=\"1\" class=\"dataframe\">\n",
       "  <thead>\n",
       "    <tr style=\"text-align: right;\">\n",
       "      <th></th>\n",
       "      <th>tweet_id</th>\n",
       "      <th>tweet_timestamp</th>\n",
       "      <th>source</th>\n",
       "      <th>text</th>\n",
       "      <th>expanded_urls</th>\n",
       "      <th>rating_numerator</th>\n",
       "      <th>rating_denominator</th>\n",
       "      <th>name</th>\n",
       "      <th>doggo</th>\n",
       "      <th>floofer</th>\n",
       "      <th>pupper</th>\n",
       "      <th>puppo</th>\n",
       "    </tr>\n",
       "  </thead>\n",
       "  <tbody>\n",
       "    <tr>\n",
       "      <th>0</th>\n",
       "      <td>892420643555336193</td>\n",
       "      <td>2017-08-01 16:23:56+00:00</td>\n",
       "      <td>&lt;a href=\"http://twitter.com/download/iphone\" r...</td>\n",
       "      <td>This is Phineas. He's a mystical boy. Only eve...</td>\n",
       "      <td>https://twitter.com/dog_rates/status/892420643...</td>\n",
       "      <td>13</td>\n",
       "      <td>10</td>\n",
       "      <td>Phineas</td>\n",
       "      <td>None</td>\n",
       "      <td>None</td>\n",
       "      <td>None</td>\n",
       "      <td>None</td>\n",
       "    </tr>\n",
       "    <tr>\n",
       "      <th>1</th>\n",
       "      <td>892177421306343426</td>\n",
       "      <td>2017-08-01 00:17:27+00:00</td>\n",
       "      <td>&lt;a href=\"http://twitter.com/download/iphone\" r...</td>\n",
       "      <td>This is Tilly. She's just checking pup on you....</td>\n",
       "      <td>https://twitter.com/dog_rates/status/892177421...</td>\n",
       "      <td>13</td>\n",
       "      <td>10</td>\n",
       "      <td>Tilly</td>\n",
       "      <td>None</td>\n",
       "      <td>None</td>\n",
       "      <td>None</td>\n",
       "      <td>None</td>\n",
       "    </tr>\n",
       "  </tbody>\n",
       "</table>\n",
       "</div>"
      ],
      "text/plain": [
       "             tweet_id           tweet_timestamp  \\\n",
       "0  892420643555336193 2017-08-01 16:23:56+00:00   \n",
       "1  892177421306343426 2017-08-01 00:17:27+00:00   \n",
       "\n",
       "                                              source  \\\n",
       "0  <a href=\"http://twitter.com/download/iphone\" r...   \n",
       "1  <a href=\"http://twitter.com/download/iphone\" r...   \n",
       "\n",
       "                                                text  \\\n",
       "0  This is Phineas. He's a mystical boy. Only eve...   \n",
       "1  This is Tilly. She's just checking pup on you....   \n",
       "\n",
       "                                       expanded_urls  rating_numerator  \\\n",
       "0  https://twitter.com/dog_rates/status/892420643...                13   \n",
       "1  https://twitter.com/dog_rates/status/892177421...                13   \n",
       "\n",
       "   rating_denominator     name doggo floofer pupper puppo  \n",
       "0                  10  Phineas  None    None   None  None  \n",
       "1                  10    Tilly  None    None   None  None  "
      ]
     },
     "execution_count": 50,
     "metadata": {},
     "output_type": "execute_result"
    }
   ],
   "source": [
    "df = df_twitter_archive_clean.query(\"rating_denominator == 10\")\n",
    "df.head(2)"
   ]
  },
  {
   "cell_type": "markdown",
   "id": "496cad8c",
   "metadata": {},
   "source": [
    "**Change all names of dogs bearing 'a' or 'an' or 'the' or more generally starting with lower case letter to be np.nan**"
   ]
  },
  {
   "cell_type": "code",
   "execution_count": 51,
   "id": "8100ebab",
   "metadata": {},
   "outputs": [],
   "source": [
    "def makeNameNaN():\n",
    "    mask = df_twitter_archive_clean['name'].str.islower() \n",
    "    column_name = 'name' \n",
    "    df_twitter_archive_clean.loc[mask, column_name] = np.nan\n",
    "makeNameNaN()"
   ]
  },
  {
   "cell_type": "markdown",
   "id": "664a42f1",
   "metadata": {},
   "source": [
    "#### Testing"
   ]
  },
  {
   "cell_type": "code",
   "execution_count": 52,
   "id": "2c430543",
   "metadata": {},
   "outputs": [
    {
     "name": "stdout",
     "output_type": "stream",
     "text": [
      "0\n"
     ]
    }
   ],
   "source": [
    "islower = df_twitter_archive_clean['name'].str.islower()\n",
    "false = 0\n",
    "true = 0\n",
    "for islow in islower:\n",
    "    if(islow == True):\n",
    "        true = true+1\n",
    "    else:\n",
    "        false = false+1\n",
    "print(true)"
   ]
  },
  {
   "cell_type": "markdown",
   "id": "554c9f99",
   "metadata": {},
   "source": [
    "We now have zero dog names which are invalid dog names."
   ]
  },
  {
   "cell_type": "markdown",
   "id": "e815c558",
   "metadata": {},
   "source": [
    "**Merging df_new_clean and df_twitter_archive_clean and df_prediction**"
   ]
  },
  {
   "cell_type": "code",
   "execution_count": 53,
   "id": "3acf023e",
   "metadata": {},
   "outputs": [
    {
     "data": {
      "text/plain": [
       "2164"
      ]
     },
     "execution_count": 53,
     "metadata": {},
     "output_type": "execute_result"
    }
   ],
   "source": [
    "#check to see that they are of equal number of rows\n",
    "df_new_clean.shape[0]"
   ]
  },
  {
   "cell_type": "code",
   "execution_count": 54,
   "id": "b70e72a4",
   "metadata": {},
   "outputs": [
    {
     "data": {
      "text/plain": [
       "2164"
      ]
     },
     "execution_count": 54,
     "metadata": {},
     "output_type": "execute_result"
    }
   ],
   "source": [
    "df_twitter_archive_clean.shape[0]"
   ]
  },
  {
   "cell_type": "code",
   "execution_count": 114,
   "id": "0536b653",
   "metadata": {},
   "outputs": [],
   "source": [
    "df_master = df_twitter_archive_clean.merge(df_new_clean, how='outer', on='tweet_id')"
   ]
  },
  {
   "cell_type": "code",
   "execution_count": 115,
   "id": "2e006cfc",
   "metadata": {},
   "outputs": [],
   "source": [
    "#merging df_master and df_prediction\n",
    "df_master = df_master.merge(df_prediction, how='outer', on='tweet_id')"
   ]
  },
  {
   "cell_type": "markdown",
   "id": "9ca8aa72",
   "metadata": {},
   "source": [
    "#### Testing"
   ]
  },
  {
   "cell_type": "code",
   "execution_count": 116,
   "id": "90fbca8c",
   "metadata": {},
   "outputs": [
    {
     "data": {
      "text/html": [
       "<div>\n",
       "<style scoped>\n",
       "    .dataframe tbody tr th:only-of-type {\n",
       "        vertical-align: middle;\n",
       "    }\n",
       "\n",
       "    .dataframe tbody tr th {\n",
       "        vertical-align: top;\n",
       "    }\n",
       "\n",
       "    .dataframe thead th {\n",
       "        text-align: right;\n",
       "    }\n",
       "</style>\n",
       "<table border=\"1\" class=\"dataframe\">\n",
       "  <thead>\n",
       "    <tr style=\"text-align: right;\">\n",
       "      <th></th>\n",
       "      <th>tweet_id</th>\n",
       "      <th>tweet_timestamp</th>\n",
       "      <th>source</th>\n",
       "      <th>text</th>\n",
       "      <th>expanded_urls</th>\n",
       "      <th>rating_numerator</th>\n",
       "      <th>rating_denominator</th>\n",
       "      <th>name</th>\n",
       "      <th>doggo</th>\n",
       "      <th>floofer</th>\n",
       "      <th>...</th>\n",
       "      <th>img_num</th>\n",
       "      <th>tp1</th>\n",
       "      <th>tp1_confidence</th>\n",
       "      <th>tp1_dog</th>\n",
       "      <th>tp2</th>\n",
       "      <th>tp2_confidence</th>\n",
       "      <th>tp2_dog</th>\n",
       "      <th>tp3</th>\n",
       "      <th>tp3_confidence</th>\n",
       "      <th>tp3_dog</th>\n",
       "    </tr>\n",
       "  </thead>\n",
       "  <tbody>\n",
       "    <tr>\n",
       "      <th>1748</th>\n",
       "      <td>673956914389192708</td>\n",
       "      <td>2015-12-07 20:07:04+00:00</td>\n",
       "      <td>&lt;a href=\"http://twitter.com/download/iphone\" r...</td>\n",
       "      <td>This is one esteemed pupper. Just graduated co...</td>\n",
       "      <td>https://twitter.com/dog_rates/status/673956914...</td>\n",
       "      <td>10.0</td>\n",
       "      <td>10.0</td>\n",
       "      <td>NaN</td>\n",
       "      <td>None</td>\n",
       "      <td>None</td>\n",
       "      <td>...</td>\n",
       "      <td>1.0</td>\n",
       "      <td>pug</td>\n",
       "      <td>0.586161</td>\n",
       "      <td>True</td>\n",
       "      <td>Brabancon_griffon</td>\n",
       "      <td>0.082744</td>\n",
       "      <td>True</td>\n",
       "      <td>Chihuahua</td>\n",
       "      <td>0.045878</td>\n",
       "      <td>True</td>\n",
       "    </tr>\n",
       "    <tr>\n",
       "      <th>353</th>\n",
       "      <td>821407182352777218</td>\n",
       "      <td>2017-01-17 17:21:47+00:00</td>\n",
       "      <td>&lt;a href=\"http://twitter.com/download/iphone\" r...</td>\n",
       "      <td>This is Sundance. He's a doggo drummer. Even s...</td>\n",
       "      <td>https://twitter.com/dog_rates/status/821407182...</td>\n",
       "      <td>14.0</td>\n",
       "      <td>10.0</td>\n",
       "      <td>Sundance</td>\n",
       "      <td>doggo</td>\n",
       "      <td>None</td>\n",
       "      <td>...</td>\n",
       "      <td>1.0</td>\n",
       "      <td>Irish_setter</td>\n",
       "      <td>0.505496</td>\n",
       "      <td>True</td>\n",
       "      <td>vizsla</td>\n",
       "      <td>0.168747</td>\n",
       "      <td>True</td>\n",
       "      <td>Chesapeake_Bay_retriever</td>\n",
       "      <td>0.111311</td>\n",
       "      <td>True</td>\n",
       "    </tr>\n",
       "  </tbody>\n",
       "</table>\n",
       "<p>2 rows × 26 columns</p>\n",
       "</div>"
      ],
      "text/plain": [
       "                tweet_id           tweet_timestamp  \\\n",
       "1748  673956914389192708 2015-12-07 20:07:04+00:00   \n",
       "353   821407182352777218 2017-01-17 17:21:47+00:00   \n",
       "\n",
       "                                                 source  \\\n",
       "1748  <a href=\"http://twitter.com/download/iphone\" r...   \n",
       "353   <a href=\"http://twitter.com/download/iphone\" r...   \n",
       "\n",
       "                                                   text  \\\n",
       "1748  This is one esteemed pupper. Just graduated co...   \n",
       "353   This is Sundance. He's a doggo drummer. Even s...   \n",
       "\n",
       "                                          expanded_urls  rating_numerator  \\\n",
       "1748  https://twitter.com/dog_rates/status/673956914...              10.0   \n",
       "353   https://twitter.com/dog_rates/status/821407182...              14.0   \n",
       "\n",
       "      rating_denominator      name  doggo floofer  ... img_num           tp1  \\\n",
       "1748                10.0       NaN   None    None  ...     1.0           pug   \n",
       "353                 10.0  Sundance  doggo    None  ...     1.0  Irish_setter   \n",
       "\n",
       "      tp1_confidence  tp1_dog                tp2 tp2_confidence  tp2_dog  \\\n",
       "1748        0.586161     True  Brabancon_griffon       0.082744     True   \n",
       "353         0.505496     True             vizsla       0.168747     True   \n",
       "\n",
       "                           tp3  tp3_confidence tp3_dog  \n",
       "1748                 Chihuahua        0.045878    True  \n",
       "353   Chesapeake_Bay_retriever        0.111311    True  \n",
       "\n",
       "[2 rows x 26 columns]"
      ]
     },
     "execution_count": 116,
     "metadata": {},
     "output_type": "execute_result"
    }
   ],
   "source": [
    "df_master.sample(2)"
   ]
  },
  {
   "cell_type": "code",
   "execution_count": 117,
   "id": "fe659b19",
   "metadata": {},
   "outputs": [
    {
     "data": {
      "text/plain": [
       "tweet_id                            int64\n",
       "tweet_timestamp       datetime64[ns, UTC]\n",
       "source                             object\n",
       "text                               object\n",
       "expanded_urls                      object\n",
       "rating_numerator                    int64\n",
       "rating_denominator                  int64\n",
       "name                               object\n",
       "doggo                              object\n",
       "floofer                            object\n",
       "pupper                             object\n",
       "puppo                              object\n",
       "dtype: object"
      ]
     },
     "execution_count": 117,
     "metadata": {},
     "output_type": "execute_result"
    }
   ],
   "source": [
    "df_twitter_archive_clean.dtypes"
   ]
  },
  {
   "cell_type": "code",
   "execution_count": 119,
   "id": "86f6b0b0",
   "metadata": {},
   "outputs": [
    {
     "data": {
      "text/html": [
       "<div>\n",
       "<style scoped>\n",
       "    .dataframe tbody tr th:only-of-type {\n",
       "        vertical-align: middle;\n",
       "    }\n",
       "\n",
       "    .dataframe tbody tr th {\n",
       "        vertical-align: top;\n",
       "    }\n",
       "\n",
       "    .dataframe thead th {\n",
       "        text-align: right;\n",
       "    }\n",
       "</style>\n",
       "<table border=\"1\" class=\"dataframe\">\n",
       "  <thead>\n",
       "    <tr style=\"text-align: right;\">\n",
       "      <th></th>\n",
       "      <th>Unnamed: 0</th>\n",
       "      <th>tweet_id</th>\n",
       "      <th>jpg_url</th>\n",
       "      <th>img_num</th>\n",
       "      <th>tp1</th>\n",
       "      <th>tp1_confidence</th>\n",
       "      <th>tp1_dog</th>\n",
       "      <th>tp2</th>\n",
       "      <th>tp2_confidence</th>\n",
       "      <th>tp2_dog</th>\n",
       "      <th>tp3</th>\n",
       "      <th>tp3_confidence</th>\n",
       "      <th>tp3_dog</th>\n",
       "    </tr>\n",
       "  </thead>\n",
       "  <tbody>\n",
       "    <tr>\n",
       "      <th>413</th>\n",
       "      <td>413</td>\n",
       "      <td>673956914389192708</td>\n",
       "      <td>https://pbs.twimg.com/media/CVpgPGwWoAEV7gG.jpg</td>\n",
       "      <td>1</td>\n",
       "      <td>pug</td>\n",
       "      <td>0.586161</td>\n",
       "      <td>True</td>\n",
       "      <td>Brabancon_griffon</td>\n",
       "      <td>0.082744</td>\n",
       "      <td>True</td>\n",
       "      <td>Chihuahua</td>\n",
       "      <td>0.045878</td>\n",
       "      <td>True</td>\n",
       "    </tr>\n",
       "  </tbody>\n",
       "</table>\n",
       "</div>"
      ],
      "text/plain": [
       "     Unnamed: 0            tweet_id  \\\n",
       "413         413  673956914389192708   \n",
       "\n",
       "                                             jpg_url  img_num  tp1  \\\n",
       "413  https://pbs.twimg.com/media/CVpgPGwWoAEV7gG.jpg        1  pug   \n",
       "\n",
       "     tp1_confidence  tp1_dog                tp2  tp2_confidence  tp2_dog  \\\n",
       "413        0.586161     True  Brabancon_griffon        0.082744     True   \n",
       "\n",
       "           tp3  tp3_confidence  tp3_dog  \n",
       "413  Chihuahua        0.045878     True  "
      ]
     },
     "execution_count": 119,
     "metadata": {},
     "output_type": "execute_result"
    }
   ],
   "source": [
    "df_prediction.query('tweet_id == 673956914389192708')"
   ]
  },
  {
   "cell_type": "markdown",
   "id": "5084924c",
   "metadata": {},
   "source": [
    "**Correct Datatypes in df_master**"
   ]
  },
  {
   "cell_type": "code",
   "execution_count": 120,
   "id": "d2cc290d",
   "metadata": {},
   "outputs": [],
   "source": [
    "df_master['rating_numerator'] = df_master['rating_numerator'].fillna(0)"
   ]
  },
  {
   "cell_type": "code",
   "execution_count": 121,
   "id": "c9f22fb2",
   "metadata": {},
   "outputs": [],
   "source": [
    "df_master['rating_denominator'] = df_master['rating_denominator'].fillna(0)"
   ]
  },
  {
   "cell_type": "code",
   "execution_count": 122,
   "id": "c2d87a56",
   "metadata": {},
   "outputs": [],
   "source": [
    "df_master['favorite_count'] = df_master['favorite_count'].fillna(0)"
   ]
  },
  {
   "cell_type": "code",
   "execution_count": 123,
   "id": "f4d3dd7f",
   "metadata": {},
   "outputs": [],
   "source": [
    "df_master['retweet_count'] = df_master['retweet_count'].fillna(0)"
   ]
  },
  {
   "cell_type": "code",
   "execution_count": 124,
   "id": "eb8802ff",
   "metadata": {},
   "outputs": [
    {
     "data": {
      "text/html": [
       "<div>\n",
       "<style scoped>\n",
       "    .dataframe tbody tr th:only-of-type {\n",
       "        vertical-align: middle;\n",
       "    }\n",
       "\n",
       "    .dataframe tbody tr th {\n",
       "        vertical-align: top;\n",
       "    }\n",
       "\n",
       "    .dataframe thead th {\n",
       "        text-align: right;\n",
       "    }\n",
       "</style>\n",
       "<table border=\"1\" class=\"dataframe\">\n",
       "  <thead>\n",
       "    <tr style=\"text-align: right;\">\n",
       "      <th></th>\n",
       "      <th>tweet_id</th>\n",
       "      <th>tweet_timestamp</th>\n",
       "      <th>source</th>\n",
       "      <th>text</th>\n",
       "      <th>expanded_urls</th>\n",
       "      <th>rating_numerator</th>\n",
       "      <th>rating_denominator</th>\n",
       "      <th>name</th>\n",
       "      <th>doggo</th>\n",
       "      <th>floofer</th>\n",
       "      <th>...</th>\n",
       "      <th>img_num</th>\n",
       "      <th>tp1</th>\n",
       "      <th>tp1_confidence</th>\n",
       "      <th>tp1_dog</th>\n",
       "      <th>tp2</th>\n",
       "      <th>tp2_confidence</th>\n",
       "      <th>tp2_dog</th>\n",
       "      <th>tp3</th>\n",
       "      <th>tp3_confidence</th>\n",
       "      <th>tp3_dog</th>\n",
       "    </tr>\n",
       "  </thead>\n",
       "  <tbody>\n",
       "    <tr>\n",
       "      <th>2252</th>\n",
       "      <td>873697596434513921</td>\n",
       "      <td>NaT</td>\n",
       "      <td>NaN</td>\n",
       "      <td>NaN</td>\n",
       "      <td>NaN</td>\n",
       "      <td>0.0</td>\n",
       "      <td>0.0</td>\n",
       "      <td>NaN</td>\n",
       "      <td>NaN</td>\n",
       "      <td>NaN</td>\n",
       "      <td>...</td>\n",
       "      <td>1.0</td>\n",
       "      <td>laptop</td>\n",
       "      <td>0.153718</td>\n",
       "      <td>False</td>\n",
       "      <td>French_bulldog</td>\n",
       "      <td>0.099984</td>\n",
       "      <td>True</td>\n",
       "      <td>printer</td>\n",
       "      <td>0.077130</td>\n",
       "      <td>False</td>\n",
       "    </tr>\n",
       "    <tr>\n",
       "      <th>2253</th>\n",
       "      <td>877611172832227328</td>\n",
       "      <td>NaT</td>\n",
       "      <td>NaN</td>\n",
       "      <td>NaN</td>\n",
       "      <td>NaN</td>\n",
       "      <td>0.0</td>\n",
       "      <td>0.0</td>\n",
       "      <td>NaN</td>\n",
       "      <td>NaN</td>\n",
       "      <td>NaN</td>\n",
       "      <td>...</td>\n",
       "      <td>1.0</td>\n",
       "      <td>Irish_setter</td>\n",
       "      <td>0.364729</td>\n",
       "      <td>True</td>\n",
       "      <td>golden_retriever</td>\n",
       "      <td>0.202907</td>\n",
       "      <td>True</td>\n",
       "      <td>Irish_terrier</td>\n",
       "      <td>0.107473</td>\n",
       "      <td>True</td>\n",
       "    </tr>\n",
       "    <tr>\n",
       "      <th>2254</th>\n",
       "      <td>885311592912609280</td>\n",
       "      <td>NaT</td>\n",
       "      <td>NaN</td>\n",
       "      <td>NaN</td>\n",
       "      <td>NaN</td>\n",
       "      <td>0.0</td>\n",
       "      <td>0.0</td>\n",
       "      <td>NaN</td>\n",
       "      <td>NaN</td>\n",
       "      <td>NaN</td>\n",
       "      <td>...</td>\n",
       "      <td>1.0</td>\n",
       "      <td>Labrador_retriever</td>\n",
       "      <td>0.908703</td>\n",
       "      <td>True</td>\n",
       "      <td>seat_belt</td>\n",
       "      <td>0.057091</td>\n",
       "      <td>False</td>\n",
       "      <td>pug</td>\n",
       "      <td>0.011933</td>\n",
       "      <td>True</td>\n",
       "    </tr>\n",
       "    <tr>\n",
       "      <th>2255</th>\n",
       "      <td>888202515573088257</td>\n",
       "      <td>NaT</td>\n",
       "      <td>NaN</td>\n",
       "      <td>NaN</td>\n",
       "      <td>NaN</td>\n",
       "      <td>0.0</td>\n",
       "      <td>0.0</td>\n",
       "      <td>NaN</td>\n",
       "      <td>NaN</td>\n",
       "      <td>NaN</td>\n",
       "      <td>...</td>\n",
       "      <td>2.0</td>\n",
       "      <td>Pembroke</td>\n",
       "      <td>0.809197</td>\n",
       "      <td>True</td>\n",
       "      <td>Rhodesian_ridgeback</td>\n",
       "      <td>0.054950</td>\n",
       "      <td>True</td>\n",
       "      <td>beagle</td>\n",
       "      <td>0.038915</td>\n",
       "      <td>True</td>\n",
       "    </tr>\n",
       "  </tbody>\n",
       "</table>\n",
       "<p>4 rows × 26 columns</p>\n",
       "</div>"
      ],
      "text/plain": [
       "                tweet_id tweet_timestamp source text expanded_urls  \\\n",
       "2252  873697596434513921             NaT    NaN  NaN           NaN   \n",
       "2253  877611172832227328             NaT    NaN  NaN           NaN   \n",
       "2254  885311592912609280             NaT    NaN  NaN           NaN   \n",
       "2255  888202515573088257             NaT    NaN  NaN           NaN   \n",
       "\n",
       "      rating_numerator  rating_denominator name doggo floofer  ... img_num  \\\n",
       "2252               0.0                 0.0  NaN   NaN     NaN  ...     1.0   \n",
       "2253               0.0                 0.0  NaN   NaN     NaN  ...     1.0   \n",
       "2254               0.0                 0.0  NaN   NaN     NaN  ...     1.0   \n",
       "2255               0.0                 0.0  NaN   NaN     NaN  ...     2.0   \n",
       "\n",
       "                     tp1  tp1_confidence  tp1_dog                  tp2  \\\n",
       "2252              laptop        0.153718    False       French_bulldog   \n",
       "2253        Irish_setter        0.364729     True     golden_retriever   \n",
       "2254  Labrador_retriever        0.908703     True            seat_belt   \n",
       "2255            Pembroke        0.809197     True  Rhodesian_ridgeback   \n",
       "\n",
       "     tp2_confidence  tp2_dog            tp3  tp3_confidence tp3_dog  \n",
       "2252       0.099984     True        printer        0.077130   False  \n",
       "2253       0.202907     True  Irish_terrier        0.107473    True  \n",
       "2254       0.057091    False            pug        0.011933    True  \n",
       "2255       0.054950     True         beagle        0.038915    True  \n",
       "\n",
       "[4 rows x 26 columns]"
      ]
     },
     "execution_count": 124,
     "metadata": {},
     "output_type": "execute_result"
    }
   ],
   "source": [
    "df_master.tail(4)"
   ]
  },
  {
   "cell_type": "code",
   "execution_count": 125,
   "id": "e032291a",
   "metadata": {},
   "outputs": [],
   "source": [
    "df_master = df_master.astype({'rating_numerator':'int','rating_denominator':'int','favorite_count':'int','retweet_count':'int','tp1_dog':'bool','tp2_dog':'bool','tp3_dog':'bool'})"
   ]
  },
  {
   "cell_type": "markdown",
   "id": "137217f7",
   "metadata": {},
   "source": [
    "### Testing"
   ]
  },
  {
   "cell_type": "code",
   "execution_count": 126,
   "id": "0709b00d",
   "metadata": {},
   "outputs": [
    {
     "data": {
      "text/plain": [
       "tweet_id                            int64\n",
       "tweet_timestamp       datetime64[ns, UTC]\n",
       "source                             object\n",
       "text                               object\n",
       "expanded_urls                      object\n",
       "rating_numerator                    int32\n",
       "rating_denominator                  int32\n",
       "name                               object\n",
       "doggo                              object\n",
       "floofer                            object\n",
       "pupper                             object\n",
       "puppo                              object\n",
       "favorite_count                      int32\n",
       "retweet_count                       int32\n",
       "Unnamed: 0                        float64\n",
       "jpg_url                            object\n",
       "img_num                           float64\n",
       "tp1                                object\n",
       "tp1_confidence                    float64\n",
       "tp1_dog                              bool\n",
       "tp2                                object\n",
       "tp2_confidence                    float64\n",
       "tp2_dog                              bool\n",
       "tp3                                object\n",
       "tp3_confidence                    float64\n",
       "tp3_dog                              bool\n",
       "dtype: object"
      ]
     },
     "execution_count": 126,
     "metadata": {},
     "output_type": "execute_result"
    }
   ],
   "source": [
    "df_master.dtypes"
   ]
  },
  {
   "cell_type": "code",
   "execution_count": 127,
   "id": "62dbeb92",
   "metadata": {},
   "outputs": [
    {
     "data": {
      "text/html": [
       "<div>\n",
       "<style scoped>\n",
       "    .dataframe tbody tr th:only-of-type {\n",
       "        vertical-align: middle;\n",
       "    }\n",
       "\n",
       "    .dataframe tbody tr th {\n",
       "        vertical-align: top;\n",
       "    }\n",
       "\n",
       "    .dataframe thead th {\n",
       "        text-align: right;\n",
       "    }\n",
       "</style>\n",
       "<table border=\"1\" class=\"dataframe\">\n",
       "  <thead>\n",
       "    <tr style=\"text-align: right;\">\n",
       "      <th></th>\n",
       "      <th>tweet_id</th>\n",
       "      <th>tweet_timestamp</th>\n",
       "      <th>source</th>\n",
       "      <th>text</th>\n",
       "      <th>expanded_urls</th>\n",
       "      <th>rating_numerator</th>\n",
       "      <th>rating_denominator</th>\n",
       "      <th>name</th>\n",
       "      <th>doggo</th>\n",
       "      <th>floofer</th>\n",
       "      <th>...</th>\n",
       "      <th>img_num</th>\n",
       "      <th>tp1</th>\n",
       "      <th>tp1_confidence</th>\n",
       "      <th>tp1_dog</th>\n",
       "      <th>tp2</th>\n",
       "      <th>tp2_confidence</th>\n",
       "      <th>tp2_dog</th>\n",
       "      <th>tp3</th>\n",
       "      <th>tp3_confidence</th>\n",
       "      <th>tp3_dog</th>\n",
       "    </tr>\n",
       "  </thead>\n",
       "  <tbody>\n",
       "    <tr>\n",
       "      <th>2251</th>\n",
       "      <td>872261713294495745</td>\n",
       "      <td>NaT</td>\n",
       "      <td>NaN</td>\n",
       "      <td>NaN</td>\n",
       "      <td>NaN</td>\n",
       "      <td>0</td>\n",
       "      <td>0</td>\n",
       "      <td>NaN</td>\n",
       "      <td>NaN</td>\n",
       "      <td>NaN</td>\n",
       "      <td>...</td>\n",
       "      <td>2.0</td>\n",
       "      <td>Labrador_retriever</td>\n",
       "      <td>0.972019</td>\n",
       "      <td>True</td>\n",
       "      <td>flat-coated_retriever</td>\n",
       "      <td>0.008178</td>\n",
       "      <td>True</td>\n",
       "      <td>Chesapeake_Bay_retriever</td>\n",
       "      <td>0.007359</td>\n",
       "      <td>True</td>\n",
       "    </tr>\n",
       "    <tr>\n",
       "      <th>2252</th>\n",
       "      <td>873697596434513921</td>\n",
       "      <td>NaT</td>\n",
       "      <td>NaN</td>\n",
       "      <td>NaN</td>\n",
       "      <td>NaN</td>\n",
       "      <td>0</td>\n",
       "      <td>0</td>\n",
       "      <td>NaN</td>\n",
       "      <td>NaN</td>\n",
       "      <td>NaN</td>\n",
       "      <td>...</td>\n",
       "      <td>1.0</td>\n",
       "      <td>laptop</td>\n",
       "      <td>0.153718</td>\n",
       "      <td>False</td>\n",
       "      <td>French_bulldog</td>\n",
       "      <td>0.099984</td>\n",
       "      <td>True</td>\n",
       "      <td>printer</td>\n",
       "      <td>0.077130</td>\n",
       "      <td>False</td>\n",
       "    </tr>\n",
       "    <tr>\n",
       "      <th>2253</th>\n",
       "      <td>877611172832227328</td>\n",
       "      <td>NaT</td>\n",
       "      <td>NaN</td>\n",
       "      <td>NaN</td>\n",
       "      <td>NaN</td>\n",
       "      <td>0</td>\n",
       "      <td>0</td>\n",
       "      <td>NaN</td>\n",
       "      <td>NaN</td>\n",
       "      <td>NaN</td>\n",
       "      <td>...</td>\n",
       "      <td>1.0</td>\n",
       "      <td>Irish_setter</td>\n",
       "      <td>0.364729</td>\n",
       "      <td>True</td>\n",
       "      <td>golden_retriever</td>\n",
       "      <td>0.202907</td>\n",
       "      <td>True</td>\n",
       "      <td>Irish_terrier</td>\n",
       "      <td>0.107473</td>\n",
       "      <td>True</td>\n",
       "    </tr>\n",
       "    <tr>\n",
       "      <th>2254</th>\n",
       "      <td>885311592912609280</td>\n",
       "      <td>NaT</td>\n",
       "      <td>NaN</td>\n",
       "      <td>NaN</td>\n",
       "      <td>NaN</td>\n",
       "      <td>0</td>\n",
       "      <td>0</td>\n",
       "      <td>NaN</td>\n",
       "      <td>NaN</td>\n",
       "      <td>NaN</td>\n",
       "      <td>...</td>\n",
       "      <td>1.0</td>\n",
       "      <td>Labrador_retriever</td>\n",
       "      <td>0.908703</td>\n",
       "      <td>True</td>\n",
       "      <td>seat_belt</td>\n",
       "      <td>0.057091</td>\n",
       "      <td>False</td>\n",
       "      <td>pug</td>\n",
       "      <td>0.011933</td>\n",
       "      <td>True</td>\n",
       "    </tr>\n",
       "    <tr>\n",
       "      <th>2255</th>\n",
       "      <td>888202515573088257</td>\n",
       "      <td>NaT</td>\n",
       "      <td>NaN</td>\n",
       "      <td>NaN</td>\n",
       "      <td>NaN</td>\n",
       "      <td>0</td>\n",
       "      <td>0</td>\n",
       "      <td>NaN</td>\n",
       "      <td>NaN</td>\n",
       "      <td>NaN</td>\n",
       "      <td>...</td>\n",
       "      <td>2.0</td>\n",
       "      <td>Pembroke</td>\n",
       "      <td>0.809197</td>\n",
       "      <td>True</td>\n",
       "      <td>Rhodesian_ridgeback</td>\n",
       "      <td>0.054950</td>\n",
       "      <td>True</td>\n",
       "      <td>beagle</td>\n",
       "      <td>0.038915</td>\n",
       "      <td>True</td>\n",
       "    </tr>\n",
       "  </tbody>\n",
       "</table>\n",
       "<p>5 rows × 26 columns</p>\n",
       "</div>"
      ],
      "text/plain": [
       "                tweet_id tweet_timestamp source text expanded_urls  \\\n",
       "2251  872261713294495745             NaT    NaN  NaN           NaN   \n",
       "2252  873697596434513921             NaT    NaN  NaN           NaN   \n",
       "2253  877611172832227328             NaT    NaN  NaN           NaN   \n",
       "2254  885311592912609280             NaT    NaN  NaN           NaN   \n",
       "2255  888202515573088257             NaT    NaN  NaN           NaN   \n",
       "\n",
       "      rating_numerator  rating_denominator name doggo floofer  ... img_num  \\\n",
       "2251                 0                   0  NaN   NaN     NaN  ...     2.0   \n",
       "2252                 0                   0  NaN   NaN     NaN  ...     1.0   \n",
       "2253                 0                   0  NaN   NaN     NaN  ...     1.0   \n",
       "2254                 0                   0  NaN   NaN     NaN  ...     1.0   \n",
       "2255                 0                   0  NaN   NaN     NaN  ...     2.0   \n",
       "\n",
       "                     tp1  tp1_confidence  tp1_dog                    tp2  \\\n",
       "2251  Labrador_retriever        0.972019     True  flat-coated_retriever   \n",
       "2252              laptop        0.153718    False         French_bulldog   \n",
       "2253        Irish_setter        0.364729     True       golden_retriever   \n",
       "2254  Labrador_retriever        0.908703     True              seat_belt   \n",
       "2255            Pembroke        0.809197     True    Rhodesian_ridgeback   \n",
       "\n",
       "     tp2_confidence  tp2_dog                       tp3  tp3_confidence  \\\n",
       "2251       0.008178     True  Chesapeake_Bay_retriever        0.007359   \n",
       "2252       0.099984     True                   printer        0.077130   \n",
       "2253       0.202907     True             Irish_terrier        0.107473   \n",
       "2254       0.057091    False                       pug        0.011933   \n",
       "2255       0.054950     True                    beagle        0.038915   \n",
       "\n",
       "      tp3_dog  \n",
       "2251     True  \n",
       "2252    False  \n",
       "2253     True  \n",
       "2254     True  \n",
       "2255     True  \n",
       "\n",
       "[5 rows x 26 columns]"
      ]
     },
     "execution_count": 127,
     "metadata": {},
     "output_type": "execute_result"
    }
   ],
   "source": [
    "df_master.tail(5)"
   ]
  },
  {
   "cell_type": "code",
   "execution_count": 128,
   "id": "bdc18926",
   "metadata": {},
   "outputs": [
    {
     "data": {
      "text/html": [
       "<div>\n",
       "<style scoped>\n",
       "    .dataframe tbody tr th:only-of-type {\n",
       "        vertical-align: middle;\n",
       "    }\n",
       "\n",
       "    .dataframe tbody tr th {\n",
       "        vertical-align: top;\n",
       "    }\n",
       "\n",
       "    .dataframe thead th {\n",
       "        text-align: right;\n",
       "    }\n",
       "</style>\n",
       "<table border=\"1\" class=\"dataframe\">\n",
       "  <thead>\n",
       "    <tr style=\"text-align: right;\">\n",
       "      <th></th>\n",
       "      <th>tweet_id</th>\n",
       "      <th>tweet_timestamp</th>\n",
       "      <th>source</th>\n",
       "      <th>text</th>\n",
       "      <th>expanded_urls</th>\n",
       "      <th>rating_numerator</th>\n",
       "      <th>rating_denominator</th>\n",
       "      <th>name</th>\n",
       "      <th>doggo</th>\n",
       "      <th>floofer</th>\n",
       "      <th>...</th>\n",
       "      <th>img_num</th>\n",
       "      <th>tp1</th>\n",
       "      <th>tp1_confidence</th>\n",
       "      <th>tp1_dog</th>\n",
       "      <th>tp2</th>\n",
       "      <th>tp2_confidence</th>\n",
       "      <th>tp2_dog</th>\n",
       "      <th>tp3</th>\n",
       "      <th>tp3_confidence</th>\n",
       "      <th>tp3_dog</th>\n",
       "    </tr>\n",
       "  </thead>\n",
       "  <tbody>\n",
       "    <tr>\n",
       "      <th>0</th>\n",
       "      <td>892420643555336193</td>\n",
       "      <td>2017-08-01 16:23:56+00:00</td>\n",
       "      <td>&lt;a href=\"http://twitter.com/download/iphone\" r...</td>\n",
       "      <td>This is Phineas. He's a mystical boy. Only eve...</td>\n",
       "      <td>https://twitter.com/dog_rates/status/892420643...</td>\n",
       "      <td>13</td>\n",
       "      <td>10</td>\n",
       "      <td>Phineas</td>\n",
       "      <td>None</td>\n",
       "      <td>None</td>\n",
       "      <td>...</td>\n",
       "      <td>1.0</td>\n",
       "      <td>orange</td>\n",
       "      <td>0.097049</td>\n",
       "      <td>False</td>\n",
       "      <td>bagel</td>\n",
       "      <td>0.085851</td>\n",
       "      <td>False</td>\n",
       "      <td>banana</td>\n",
       "      <td>0.076110</td>\n",
       "      <td>False</td>\n",
       "    </tr>\n",
       "    <tr>\n",
       "      <th>1</th>\n",
       "      <td>892177421306343426</td>\n",
       "      <td>2017-08-01 00:17:27+00:00</td>\n",
       "      <td>&lt;a href=\"http://twitter.com/download/iphone\" r...</td>\n",
       "      <td>This is Tilly. She's just checking pup on you....</td>\n",
       "      <td>https://twitter.com/dog_rates/status/892177421...</td>\n",
       "      <td>13</td>\n",
       "      <td>10</td>\n",
       "      <td>Tilly</td>\n",
       "      <td>None</td>\n",
       "      <td>None</td>\n",
       "      <td>...</td>\n",
       "      <td>1.0</td>\n",
       "      <td>Chihuahua</td>\n",
       "      <td>0.323581</td>\n",
       "      <td>True</td>\n",
       "      <td>Pekinese</td>\n",
       "      <td>0.090647</td>\n",
       "      <td>True</td>\n",
       "      <td>papillon</td>\n",
       "      <td>0.068957</td>\n",
       "      <td>True</td>\n",
       "    </tr>\n",
       "    <tr>\n",
       "      <th>2</th>\n",
       "      <td>891815181378084864</td>\n",
       "      <td>2017-07-31 00:18:03+00:00</td>\n",
       "      <td>&lt;a href=\"http://twitter.com/download/iphone\" r...</td>\n",
       "      <td>This is Archie. He is a rare Norwegian Pouncin...</td>\n",
       "      <td>https://twitter.com/dog_rates/status/891815181...</td>\n",
       "      <td>12</td>\n",
       "      <td>10</td>\n",
       "      <td>Archie</td>\n",
       "      <td>None</td>\n",
       "      <td>None</td>\n",
       "      <td>...</td>\n",
       "      <td>1.0</td>\n",
       "      <td>Chihuahua</td>\n",
       "      <td>0.716012</td>\n",
       "      <td>True</td>\n",
       "      <td>malamute</td>\n",
       "      <td>0.078253</td>\n",
       "      <td>True</td>\n",
       "      <td>kelpie</td>\n",
       "      <td>0.031379</td>\n",
       "      <td>True</td>\n",
       "    </tr>\n",
       "    <tr>\n",
       "      <th>3</th>\n",
       "      <td>891689557279858688</td>\n",
       "      <td>2017-07-30 15:58:51+00:00</td>\n",
       "      <td>&lt;a href=\"http://twitter.com/download/iphone\" r...</td>\n",
       "      <td>This is Darla. She commenced a snooze mid meal...</td>\n",
       "      <td>https://twitter.com/dog_rates/status/891689557...</td>\n",
       "      <td>13</td>\n",
       "      <td>10</td>\n",
       "      <td>Darla</td>\n",
       "      <td>None</td>\n",
       "      <td>None</td>\n",
       "      <td>...</td>\n",
       "      <td>1.0</td>\n",
       "      <td>paper_towel</td>\n",
       "      <td>0.170278</td>\n",
       "      <td>False</td>\n",
       "      <td>Labrador_retriever</td>\n",
       "      <td>0.168086</td>\n",
       "      <td>True</td>\n",
       "      <td>spatula</td>\n",
       "      <td>0.040836</td>\n",
       "      <td>False</td>\n",
       "    </tr>\n",
       "    <tr>\n",
       "      <th>4</th>\n",
       "      <td>891327558926688256</td>\n",
       "      <td>2017-07-29 16:00:24+00:00</td>\n",
       "      <td>&lt;a href=\"http://twitter.com/download/iphone\" r...</td>\n",
       "      <td>This is Franklin. He would like you to stop ca...</td>\n",
       "      <td>https://twitter.com/dog_rates/status/891327558...</td>\n",
       "      <td>12</td>\n",
       "      <td>10</td>\n",
       "      <td>Franklin</td>\n",
       "      <td>None</td>\n",
       "      <td>None</td>\n",
       "      <td>...</td>\n",
       "      <td>2.0</td>\n",
       "      <td>basset</td>\n",
       "      <td>0.555712</td>\n",
       "      <td>True</td>\n",
       "      <td>English_springer</td>\n",
       "      <td>0.225770</td>\n",
       "      <td>True</td>\n",
       "      <td>German_short-haired_pointer</td>\n",
       "      <td>0.175219</td>\n",
       "      <td>True</td>\n",
       "    </tr>\n",
       "  </tbody>\n",
       "</table>\n",
       "<p>5 rows × 26 columns</p>\n",
       "</div>"
      ],
      "text/plain": [
       "             tweet_id           tweet_timestamp  \\\n",
       "0  892420643555336193 2017-08-01 16:23:56+00:00   \n",
       "1  892177421306343426 2017-08-01 00:17:27+00:00   \n",
       "2  891815181378084864 2017-07-31 00:18:03+00:00   \n",
       "3  891689557279858688 2017-07-30 15:58:51+00:00   \n",
       "4  891327558926688256 2017-07-29 16:00:24+00:00   \n",
       "\n",
       "                                              source  \\\n",
       "0  <a href=\"http://twitter.com/download/iphone\" r...   \n",
       "1  <a href=\"http://twitter.com/download/iphone\" r...   \n",
       "2  <a href=\"http://twitter.com/download/iphone\" r...   \n",
       "3  <a href=\"http://twitter.com/download/iphone\" r...   \n",
       "4  <a href=\"http://twitter.com/download/iphone\" r...   \n",
       "\n",
       "                                                text  \\\n",
       "0  This is Phineas. He's a mystical boy. Only eve...   \n",
       "1  This is Tilly. She's just checking pup on you....   \n",
       "2  This is Archie. He is a rare Norwegian Pouncin...   \n",
       "3  This is Darla. She commenced a snooze mid meal...   \n",
       "4  This is Franklin. He would like you to stop ca...   \n",
       "\n",
       "                                       expanded_urls  rating_numerator  \\\n",
       "0  https://twitter.com/dog_rates/status/892420643...                13   \n",
       "1  https://twitter.com/dog_rates/status/892177421...                13   \n",
       "2  https://twitter.com/dog_rates/status/891815181...                12   \n",
       "3  https://twitter.com/dog_rates/status/891689557...                13   \n",
       "4  https://twitter.com/dog_rates/status/891327558...                12   \n",
       "\n",
       "   rating_denominator      name doggo floofer  ... img_num          tp1  \\\n",
       "0                  10   Phineas  None    None  ...     1.0       orange   \n",
       "1                  10     Tilly  None    None  ...     1.0    Chihuahua   \n",
       "2                  10    Archie  None    None  ...     1.0    Chihuahua   \n",
       "3                  10     Darla  None    None  ...     1.0  paper_towel   \n",
       "4                  10  Franklin  None    None  ...     2.0       basset   \n",
       "\n",
       "   tp1_confidence  tp1_dog                 tp2 tp2_confidence  tp2_dog  \\\n",
       "0        0.097049    False               bagel       0.085851    False   \n",
       "1        0.323581     True            Pekinese       0.090647     True   \n",
       "2        0.716012     True            malamute       0.078253     True   \n",
       "3        0.170278    False  Labrador_retriever       0.168086     True   \n",
       "4        0.555712     True    English_springer       0.225770     True   \n",
       "\n",
       "                           tp3  tp3_confidence  tp3_dog  \n",
       "0                       banana        0.076110    False  \n",
       "1                     papillon        0.068957     True  \n",
       "2                       kelpie        0.031379     True  \n",
       "3                      spatula        0.040836    False  \n",
       "4  German_short-haired_pointer        0.175219     True  \n",
       "\n",
       "[5 rows x 26 columns]"
      ]
     },
     "execution_count": 128,
     "metadata": {},
     "output_type": "execute_result"
    }
   ],
   "source": [
    "df_master.head(5)"
   ]
  },
  {
   "cell_type": "markdown",
   "id": "baa246f4",
   "metadata": {},
   "source": [
    "**Remove all underscores in `tp1, tp2, tp3` entry.**"
   ]
  },
  {
   "cell_type": "code",
   "execution_count": 131,
   "id": "7eeef148",
   "metadata": {},
   "outputs": [],
   "source": [
    "def handleFloatObject(text):\n",
    "    tex = str(text).split(\"_\")\n",
    "    final = tex[0]\n",
    "    for t in tex[1:]:\n",
    "        final = final+\" \"+t\n",
    "    return final"
   ]
  },
  {
   "cell_type": "code",
   "execution_count": 132,
   "id": "ef1ec4ee",
   "metadata": {},
   "outputs": [],
   "source": [
    "df_master['tp1']= df_master['tp1'].apply(lambda x: handleFloatObject(x))"
   ]
  },
  {
   "cell_type": "code",
   "execution_count": 133,
   "id": "67b97685",
   "metadata": {},
   "outputs": [],
   "source": [
    "df_master['tp2']= df_master['tp2'].apply(lambda x: handleFloatObject(x))"
   ]
  },
  {
   "cell_type": "code",
   "execution_count": 134,
   "id": "3d78ecd3",
   "metadata": {},
   "outputs": [],
   "source": [
    "df_master['tp3']= df_master['tp3'].apply(lambda x: handleFloatObject(x))"
   ]
  },
  {
   "cell_type": "markdown",
   "id": "139e3953",
   "metadata": {},
   "source": [
    "### Testing"
   ]
  },
  {
   "cell_type": "code",
   "execution_count": 136,
   "id": "c2080022",
   "metadata": {},
   "outputs": [
    {
     "data": {
      "text/html": [
       "<div>\n",
       "<style scoped>\n",
       "    .dataframe tbody tr th:only-of-type {\n",
       "        vertical-align: middle;\n",
       "    }\n",
       "\n",
       "    .dataframe tbody tr th {\n",
       "        vertical-align: top;\n",
       "    }\n",
       "\n",
       "    .dataframe thead th {\n",
       "        text-align: right;\n",
       "    }\n",
       "</style>\n",
       "<table border=\"1\" class=\"dataframe\">\n",
       "  <thead>\n",
       "    <tr style=\"text-align: right;\">\n",
       "      <th></th>\n",
       "      <th>tweet_id</th>\n",
       "      <th>tweet_timestamp</th>\n",
       "      <th>source</th>\n",
       "      <th>text</th>\n",
       "      <th>expanded_urls</th>\n",
       "      <th>rating_numerator</th>\n",
       "      <th>rating_denominator</th>\n",
       "      <th>name</th>\n",
       "      <th>doggo</th>\n",
       "      <th>floofer</th>\n",
       "      <th>...</th>\n",
       "      <th>img_num</th>\n",
       "      <th>tp1</th>\n",
       "      <th>tp1_confidence</th>\n",
       "      <th>tp1_dog</th>\n",
       "      <th>tp2</th>\n",
       "      <th>tp2_confidence</th>\n",
       "      <th>tp2_dog</th>\n",
       "      <th>tp3</th>\n",
       "      <th>tp3_confidence</th>\n",
       "      <th>tp3_dog</th>\n",
       "    </tr>\n",
       "  </thead>\n",
       "  <tbody>\n",
       "    <tr>\n",
       "      <th>0</th>\n",
       "      <td>892420643555336193</td>\n",
       "      <td>2017-08-01 16:23:56+00:00</td>\n",
       "      <td>&lt;a href=\"http://twitter.com/download/iphone\" r...</td>\n",
       "      <td>This is Phineas. He's a mystical boy. Only eve...</td>\n",
       "      <td>https://twitter.com/dog_rates/status/892420643...</td>\n",
       "      <td>13</td>\n",
       "      <td>10</td>\n",
       "      <td>Phineas</td>\n",
       "      <td>None</td>\n",
       "      <td>None</td>\n",
       "      <td>...</td>\n",
       "      <td>1.0</td>\n",
       "      <td>orange</td>\n",
       "      <td>0.097049</td>\n",
       "      <td>False</td>\n",
       "      <td>bagel</td>\n",
       "      <td>0.085851</td>\n",
       "      <td>False</td>\n",
       "      <td>banana</td>\n",
       "      <td>0.076110</td>\n",
       "      <td>False</td>\n",
       "    </tr>\n",
       "    <tr>\n",
       "      <th>1</th>\n",
       "      <td>892177421306343426</td>\n",
       "      <td>2017-08-01 00:17:27+00:00</td>\n",
       "      <td>&lt;a href=\"http://twitter.com/download/iphone\" r...</td>\n",
       "      <td>This is Tilly. She's just checking pup on you....</td>\n",
       "      <td>https://twitter.com/dog_rates/status/892177421...</td>\n",
       "      <td>13</td>\n",
       "      <td>10</td>\n",
       "      <td>Tilly</td>\n",
       "      <td>None</td>\n",
       "      <td>None</td>\n",
       "      <td>...</td>\n",
       "      <td>1.0</td>\n",
       "      <td>Chihuahua</td>\n",
       "      <td>0.323581</td>\n",
       "      <td>True</td>\n",
       "      <td>Pekinese</td>\n",
       "      <td>0.090647</td>\n",
       "      <td>True</td>\n",
       "      <td>papillon</td>\n",
       "      <td>0.068957</td>\n",
       "      <td>True</td>\n",
       "    </tr>\n",
       "    <tr>\n",
       "      <th>2</th>\n",
       "      <td>891815181378084864</td>\n",
       "      <td>2017-07-31 00:18:03+00:00</td>\n",
       "      <td>&lt;a href=\"http://twitter.com/download/iphone\" r...</td>\n",
       "      <td>This is Archie. He is a rare Norwegian Pouncin...</td>\n",
       "      <td>https://twitter.com/dog_rates/status/891815181...</td>\n",
       "      <td>12</td>\n",
       "      <td>10</td>\n",
       "      <td>Archie</td>\n",
       "      <td>None</td>\n",
       "      <td>None</td>\n",
       "      <td>...</td>\n",
       "      <td>1.0</td>\n",
       "      <td>Chihuahua</td>\n",
       "      <td>0.716012</td>\n",
       "      <td>True</td>\n",
       "      <td>malamute</td>\n",
       "      <td>0.078253</td>\n",
       "      <td>True</td>\n",
       "      <td>kelpie</td>\n",
       "      <td>0.031379</td>\n",
       "      <td>True</td>\n",
       "    </tr>\n",
       "    <tr>\n",
       "      <th>3</th>\n",
       "      <td>891689557279858688</td>\n",
       "      <td>2017-07-30 15:58:51+00:00</td>\n",
       "      <td>&lt;a href=\"http://twitter.com/download/iphone\" r...</td>\n",
       "      <td>This is Darla. She commenced a snooze mid meal...</td>\n",
       "      <td>https://twitter.com/dog_rates/status/891689557...</td>\n",
       "      <td>13</td>\n",
       "      <td>10</td>\n",
       "      <td>Darla</td>\n",
       "      <td>None</td>\n",
       "      <td>None</td>\n",
       "      <td>...</td>\n",
       "      <td>1.0</td>\n",
       "      <td>paper towel</td>\n",
       "      <td>0.170278</td>\n",
       "      <td>False</td>\n",
       "      <td>Labrador retriever</td>\n",
       "      <td>0.168086</td>\n",
       "      <td>True</td>\n",
       "      <td>spatula</td>\n",
       "      <td>0.040836</td>\n",
       "      <td>False</td>\n",
       "    </tr>\n",
       "    <tr>\n",
       "      <th>4</th>\n",
       "      <td>891327558926688256</td>\n",
       "      <td>2017-07-29 16:00:24+00:00</td>\n",
       "      <td>&lt;a href=\"http://twitter.com/download/iphone\" r...</td>\n",
       "      <td>This is Franklin. He would like you to stop ca...</td>\n",
       "      <td>https://twitter.com/dog_rates/status/891327558...</td>\n",
       "      <td>12</td>\n",
       "      <td>10</td>\n",
       "      <td>Franklin</td>\n",
       "      <td>None</td>\n",
       "      <td>None</td>\n",
       "      <td>...</td>\n",
       "      <td>2.0</td>\n",
       "      <td>basset</td>\n",
       "      <td>0.555712</td>\n",
       "      <td>True</td>\n",
       "      <td>English springer</td>\n",
       "      <td>0.225770</td>\n",
       "      <td>True</td>\n",
       "      <td>German short-haired pointer</td>\n",
       "      <td>0.175219</td>\n",
       "      <td>True</td>\n",
       "    </tr>\n",
       "  </tbody>\n",
       "</table>\n",
       "<p>5 rows × 26 columns</p>\n",
       "</div>"
      ],
      "text/plain": [
       "             tweet_id           tweet_timestamp  \\\n",
       "0  892420643555336193 2017-08-01 16:23:56+00:00   \n",
       "1  892177421306343426 2017-08-01 00:17:27+00:00   \n",
       "2  891815181378084864 2017-07-31 00:18:03+00:00   \n",
       "3  891689557279858688 2017-07-30 15:58:51+00:00   \n",
       "4  891327558926688256 2017-07-29 16:00:24+00:00   \n",
       "\n",
       "                                              source  \\\n",
       "0  <a href=\"http://twitter.com/download/iphone\" r...   \n",
       "1  <a href=\"http://twitter.com/download/iphone\" r...   \n",
       "2  <a href=\"http://twitter.com/download/iphone\" r...   \n",
       "3  <a href=\"http://twitter.com/download/iphone\" r...   \n",
       "4  <a href=\"http://twitter.com/download/iphone\" r...   \n",
       "\n",
       "                                                text  \\\n",
       "0  This is Phineas. He's a mystical boy. Only eve...   \n",
       "1  This is Tilly. She's just checking pup on you....   \n",
       "2  This is Archie. He is a rare Norwegian Pouncin...   \n",
       "3  This is Darla. She commenced a snooze mid meal...   \n",
       "4  This is Franklin. He would like you to stop ca...   \n",
       "\n",
       "                                       expanded_urls  rating_numerator  \\\n",
       "0  https://twitter.com/dog_rates/status/892420643...                13   \n",
       "1  https://twitter.com/dog_rates/status/892177421...                13   \n",
       "2  https://twitter.com/dog_rates/status/891815181...                12   \n",
       "3  https://twitter.com/dog_rates/status/891689557...                13   \n",
       "4  https://twitter.com/dog_rates/status/891327558...                12   \n",
       "\n",
       "   rating_denominator      name doggo floofer  ... img_num          tp1  \\\n",
       "0                  10   Phineas  None    None  ...     1.0       orange   \n",
       "1                  10     Tilly  None    None  ...     1.0    Chihuahua   \n",
       "2                  10    Archie  None    None  ...     1.0    Chihuahua   \n",
       "3                  10     Darla  None    None  ...     1.0  paper towel   \n",
       "4                  10  Franklin  None    None  ...     2.0       basset   \n",
       "\n",
       "   tp1_confidence  tp1_dog                 tp2 tp2_confidence  tp2_dog  \\\n",
       "0        0.097049    False               bagel       0.085851    False   \n",
       "1        0.323581     True            Pekinese       0.090647     True   \n",
       "2        0.716012     True            malamute       0.078253     True   \n",
       "3        0.170278    False  Labrador retriever       0.168086     True   \n",
       "4        0.555712     True    English springer       0.225770     True   \n",
       "\n",
       "                           tp3  tp3_confidence  tp3_dog  \n",
       "0                       banana        0.076110    False  \n",
       "1                     papillon        0.068957     True  \n",
       "2                       kelpie        0.031379     True  \n",
       "3                      spatula        0.040836    False  \n",
       "4  German short-haired pointer        0.175219     True  \n",
       "\n",
       "[5 rows x 26 columns]"
      ]
     },
     "execution_count": 136,
     "metadata": {},
     "output_type": "execute_result"
    }
   ],
   "source": [
    "df_master.head(5)"
   ]
  },
  {
   "cell_type": "markdown",
   "id": "09c139af",
   "metadata": {},
   "source": []
  },
  {
   "cell_type": "markdown",
   "id": "86b73017",
   "metadata": {},
   "source": [
    "## Cleaning Retweets Dataframe"
   ]
  },
  {
   "cell_type": "code",
   "execution_count": 137,
   "id": "dc2c7f88",
   "metadata": {},
   "outputs": [
    {
     "data": {
      "text/html": [
       "<div>\n",
       "<style scoped>\n",
       "    .dataframe tbody tr th:only-of-type {\n",
       "        vertical-align: middle;\n",
       "    }\n",
       "\n",
       "    .dataframe tbody tr th {\n",
       "        vertical-align: top;\n",
       "    }\n",
       "\n",
       "    .dataframe thead th {\n",
       "        text-align: right;\n",
       "    }\n",
       "</style>\n",
       "<table border=\"1\" class=\"dataframe\">\n",
       "  <thead>\n",
       "    <tr style=\"text-align: right;\">\n",
       "      <th></th>\n",
       "      <th>tweet_id</th>\n",
       "      <th>timestamp</th>\n",
       "      <th>source</th>\n",
       "      <th>text</th>\n",
       "      <th>retweeted_status_id</th>\n",
       "      <th>retweeted_status_user_id</th>\n",
       "      <th>retweeted_status_timestamp</th>\n",
       "      <th>expanded_urls</th>\n",
       "      <th>rating_numerator</th>\n",
       "      <th>rating_denominator</th>\n",
       "      <th>name</th>\n",
       "      <th>doggo</th>\n",
       "      <th>floofer</th>\n",
       "      <th>pupper</th>\n",
       "      <th>puppo</th>\n",
       "      <th>favorite_count</th>\n",
       "      <th>retweet_count</th>\n",
       "    </tr>\n",
       "  </thead>\n",
       "  <tbody>\n",
       "    <tr>\n",
       "      <th>601</th>\n",
       "      <td>798665375516884993</td>\n",
       "      <td>2016-11-15 23:13:58 +0000</td>\n",
       "      <td>&lt;a href=\"http://twitter.com/download/iphone\" r...</td>\n",
       "      <td>RT @dog_rates: This is Lola. She fell asleep o...</td>\n",
       "      <td>6.718968e+17</td>\n",
       "      <td>4.196984e+09</td>\n",
       "      <td>2015-12-02 03:40:57+00:00</td>\n",
       "      <td>https://twitter.com/dog_rates/status/671896809...</td>\n",
       "      <td>10</td>\n",
       "      <td>10</td>\n",
       "      <td>Lola</td>\n",
       "      <td>None</td>\n",
       "      <td>None</td>\n",
       "      <td>None</td>\n",
       "      <td>None</td>\n",
       "      <td>0</td>\n",
       "      <td>3689</td>\n",
       "    </tr>\n",
       "    <tr>\n",
       "      <th>574</th>\n",
       "      <td>801127390143516673</td>\n",
       "      <td>2016-11-22 18:17:08 +0000</td>\n",
       "      <td>&lt;a href=\"http://twitter.com/download/iphone\" r...</td>\n",
       "      <td>RT @dog_rates: This is Anakin. He strives to r...</td>\n",
       "      <td>7.757333e+17</td>\n",
       "      <td>4.196984e+09</td>\n",
       "      <td>2016-09-13 16:30:07+00:00</td>\n",
       "      <td>https://twitter.com/dog_rates/status/775733305...</td>\n",
       "      <td>11</td>\n",
       "      <td>10</td>\n",
       "      <td>Anakin</td>\n",
       "      <td>doggo</td>\n",
       "      <td>None</td>\n",
       "      <td>None</td>\n",
       "      <td>None</td>\n",
       "      <td>0</td>\n",
       "      <td>3712</td>\n",
       "    </tr>\n",
       "  </tbody>\n",
       "</table>\n",
       "</div>"
      ],
      "text/plain": [
       "               tweet_id                  timestamp  \\\n",
       "601  798665375516884993  2016-11-15 23:13:58 +0000   \n",
       "574  801127390143516673  2016-11-22 18:17:08 +0000   \n",
       "\n",
       "                                                source  \\\n",
       "601  <a href=\"http://twitter.com/download/iphone\" r...   \n",
       "574  <a href=\"http://twitter.com/download/iphone\" r...   \n",
       "\n",
       "                                                  text  retweeted_status_id  \\\n",
       "601  RT @dog_rates: This is Lola. She fell asleep o...         6.718968e+17   \n",
       "574  RT @dog_rates: This is Anakin. He strives to r...         7.757333e+17   \n",
       "\n",
       "     retweeted_status_user_id retweeted_status_timestamp  \\\n",
       "601              4.196984e+09  2015-12-02 03:40:57+00:00   \n",
       "574              4.196984e+09  2016-09-13 16:30:07+00:00   \n",
       "\n",
       "                                         expanded_urls  rating_numerator  \\\n",
       "601  https://twitter.com/dog_rates/status/671896809...                10   \n",
       "574  https://twitter.com/dog_rates/status/775733305...                11   \n",
       "\n",
       "     rating_denominator    name  doggo floofer pupper puppo  favorite_count  \\\n",
       "601                  10    Lola   None    None   None  None               0   \n",
       "574                  10  Anakin  doggo    None   None  None               0   \n",
       "\n",
       "     retweet_count  \n",
       "601           3689  \n",
       "574           3712  "
      ]
     },
     "execution_count": 137,
     "metadata": {},
     "output_type": "execute_result"
    }
   ],
   "source": [
    "retweets.sample(2)"
   ]
  },
  {
   "cell_type": "markdown",
   "id": "a482fb79",
   "metadata": {},
   "source": [
    "**Make `retweeted_status_id, retweeted_status_user_id` to become human readable floats**"
   ]
  },
  {
   "cell_type": "code",
   "execution_count": 138,
   "id": "731bb1a4",
   "metadata": {},
   "outputs": [],
   "source": [
    "retweets = retweets.astype({'retweeted_status_id':'float','retweeted_status_user_id':'float'})"
   ]
  },
  {
   "cell_type": "markdown",
   "id": "01b6d2d9",
   "metadata": {},
   "source": [
    "#### Testing"
   ]
  },
  {
   "cell_type": "code",
   "execution_count": 139,
   "id": "4a58b8a2",
   "metadata": {},
   "outputs": [
    {
     "data": {
      "text/plain": [
       "tweet_id                                    int64\n",
       "timestamp                                  object\n",
       "source                                     object\n",
       "text                                       object\n",
       "retweeted_status_id                       float64\n",
       "retweeted_status_user_id                  float64\n",
       "retweeted_status_timestamp    datetime64[ns, UTC]\n",
       "expanded_urls                              object\n",
       "rating_numerator                            int64\n",
       "rating_denominator                          int64\n",
       "name                                       object\n",
       "doggo                                      object\n",
       "floofer                                    object\n",
       "pupper                                     object\n",
       "puppo                                      object\n",
       "favorite_count                              int64\n",
       "retweet_count                               int64\n",
       "dtype: object"
      ]
     },
     "execution_count": 139,
     "metadata": {},
     "output_type": "execute_result"
    }
   ],
   "source": [
    "retweets.dtypes"
   ]
  },
  {
   "cell_type": "code",
   "execution_count": 140,
   "id": "b1c0772c",
   "metadata": {},
   "outputs": [],
   "source": [
    "retweets['retweeted_status_id'] = retweets['retweeted_status_id'].apply(lambda x: '%.0f' % x)\n",
    "retweets['retweeted_status_user_id'] = retweets['retweeted_status_user_id'].apply(lambda x: '%.f' % x)"
   ]
  },
  {
   "cell_type": "markdown",
   "id": "aed89246",
   "metadata": {},
   "source": [
    "#### Testing"
   ]
  },
  {
   "cell_type": "code",
   "execution_count": 141,
   "id": "d00f2c3b",
   "metadata": {},
   "outputs": [
    {
     "data": {
      "text/plain": [
       "tweet_id                                    int64\n",
       "timestamp                                  object\n",
       "source                                     object\n",
       "text                                       object\n",
       "retweeted_status_id                        object\n",
       "retweeted_status_user_id                   object\n",
       "retweeted_status_timestamp    datetime64[ns, UTC]\n",
       "expanded_urls                              object\n",
       "rating_numerator                            int64\n",
       "rating_denominator                          int64\n",
       "name                                       object\n",
       "doggo                                      object\n",
       "floofer                                    object\n",
       "pupper                                     object\n",
       "puppo                                      object\n",
       "favorite_count                              int64\n",
       "retweet_count                               int64\n",
       "dtype: object"
      ]
     },
     "execution_count": 141,
     "metadata": {},
     "output_type": "execute_result"
    }
   ],
   "source": [
    "retweets.dtypes"
   ]
  },
  {
   "cell_type": "code",
   "execution_count": 142,
   "id": "3aadd539",
   "metadata": {},
   "outputs": [
    {
     "data": {
      "text/html": [
       "<div>\n",
       "<style scoped>\n",
       "    .dataframe tbody tr th:only-of-type {\n",
       "        vertical-align: middle;\n",
       "    }\n",
       "\n",
       "    .dataframe tbody tr th {\n",
       "        vertical-align: top;\n",
       "    }\n",
       "\n",
       "    .dataframe thead th {\n",
       "        text-align: right;\n",
       "    }\n",
       "</style>\n",
       "<table border=\"1\" class=\"dataframe\">\n",
       "  <thead>\n",
       "    <tr style=\"text-align: right;\">\n",
       "      <th></th>\n",
       "      <th>tweet_id</th>\n",
       "      <th>timestamp</th>\n",
       "      <th>source</th>\n",
       "      <th>text</th>\n",
       "      <th>retweeted_status_id</th>\n",
       "      <th>retweeted_status_user_id</th>\n",
       "      <th>retweeted_status_timestamp</th>\n",
       "      <th>expanded_urls</th>\n",
       "      <th>rating_numerator</th>\n",
       "      <th>rating_denominator</th>\n",
       "      <th>name</th>\n",
       "      <th>doggo</th>\n",
       "      <th>floofer</th>\n",
       "      <th>pupper</th>\n",
       "      <th>puppo</th>\n",
       "      <th>favorite_count</th>\n",
       "      <th>retweet_count</th>\n",
       "    </tr>\n",
       "  </thead>\n",
       "  <tbody>\n",
       "    <tr>\n",
       "      <th>36</th>\n",
       "      <td>885311592912609280</td>\n",
       "      <td>2017-07-13 01:35:06 +0000</td>\n",
       "      <td>&lt;a href=\"http://twitter.com/download/iphone\" r...</td>\n",
       "      <td>RT @dog_rates: This is Lilly. She just paralle...</td>\n",
       "      <td>830583320585068544</td>\n",
       "      <td>4196983835</td>\n",
       "      <td>2017-02-12 01:04:29+00:00</td>\n",
       "      <td>https://twitter.com/dog_rates/status/830583320...</td>\n",
       "      <td>13</td>\n",
       "      <td>10</td>\n",
       "      <td>Lilly</td>\n",
       "      <td>None</td>\n",
       "      <td>None</td>\n",
       "      <td>None</td>\n",
       "      <td>None</td>\n",
       "      <td>0</td>\n",
       "      <td>15460</td>\n",
       "    </tr>\n",
       "    <tr>\n",
       "      <th>829</th>\n",
       "      <td>768909767477751808</td>\n",
       "      <td>2016-08-25 20:35:48 +0000</td>\n",
       "      <td>&lt;a href=\"http://twitter.com/download/iphone\" r...</td>\n",
       "      <td>RT @dog_rates: When it's Janet from accounting...</td>\n",
       "      <td>700143752053182464</td>\n",
       "      <td>4196983835</td>\n",
       "      <td>2016-02-18 02:24:13+00:00</td>\n",
       "      <td>https://twitter.com/dog_rates/status/700143752...</td>\n",
       "      <td>10</td>\n",
       "      <td>10</td>\n",
       "      <td>None</td>\n",
       "      <td>None</td>\n",
       "      <td>None</td>\n",
       "      <td>pupper</td>\n",
       "      <td>None</td>\n",
       "      <td>0</td>\n",
       "      <td>2453</td>\n",
       "    </tr>\n",
       "    <tr>\n",
       "      <th>596</th>\n",
       "      <td>798697898615730177</td>\n",
       "      <td>2016-11-16 01:23:12 +0000</td>\n",
       "      <td>&lt;a href=\"http://twitter.com/download/iphone\" r...</td>\n",
       "      <td>RT @dog_rates: This is Stubert. He just arrive...</td>\n",
       "      <td>712809025985978368</td>\n",
       "      <td>4196983835</td>\n",
       "      <td>2016-03-24 01:11:29+00:00</td>\n",
       "      <td>https://twitter.com/dog_rates/status/712809025...</td>\n",
       "      <td>10</td>\n",
       "      <td>10</td>\n",
       "      <td>Stubert</td>\n",
       "      <td>None</td>\n",
       "      <td>None</td>\n",
       "      <td>None</td>\n",
       "      <td>None</td>\n",
       "      <td>0</td>\n",
       "      <td>6114</td>\n",
       "    </tr>\n",
       "    <tr>\n",
       "      <th>91</th>\n",
       "      <td>874434818259525634</td>\n",
       "      <td>2017-06-13 01:14:41 +0000</td>\n",
       "      <td>&lt;a href=\"http://twitter.com/download/iphone\" r...</td>\n",
       "      <td>RT @dog_rates: This is Coco. At first I though...</td>\n",
       "      <td>866334964761202688</td>\n",
       "      <td>4196983835</td>\n",
       "      <td>2017-05-21 16:48:45+00:00</td>\n",
       "      <td>https://twitter.com/dog_rates/status/866334964...</td>\n",
       "      <td>12</td>\n",
       "      <td>10</td>\n",
       "      <td>Coco</td>\n",
       "      <td>None</td>\n",
       "      <td>None</td>\n",
       "      <td>None</td>\n",
       "      <td>None</td>\n",
       "      <td>0</td>\n",
       "      <td>12235</td>\n",
       "    </tr>\n",
       "    <tr>\n",
       "      <th>399</th>\n",
       "      <td>824796380199809024</td>\n",
       "      <td>2017-01-27 01:49:15 +0000</td>\n",
       "      <td>&lt;a href=\"http://twitter.com/download/iphone\" r...</td>\n",
       "      <td>RT @dog_rates: This is Bailey. She loves going...</td>\n",
       "      <td>795076730285391872</td>\n",
       "      <td>4196983835</td>\n",
       "      <td>2016-11-06 01:33:58+00:00</td>\n",
       "      <td>https://twitter.com/dog_rates/status/795076730...</td>\n",
       "      <td>11</td>\n",
       "      <td>10</td>\n",
       "      <td>Bailey</td>\n",
       "      <td>None</td>\n",
       "      <td>None</td>\n",
       "      <td>None</td>\n",
       "      <td>None</td>\n",
       "      <td>0</td>\n",
       "      <td>5111</td>\n",
       "    </tr>\n",
       "  </tbody>\n",
       "</table>\n",
       "</div>"
      ],
      "text/plain": [
       "               tweet_id                  timestamp  \\\n",
       "36   885311592912609280  2017-07-13 01:35:06 +0000   \n",
       "829  768909767477751808  2016-08-25 20:35:48 +0000   \n",
       "596  798697898615730177  2016-11-16 01:23:12 +0000   \n",
       "91   874434818259525634  2017-06-13 01:14:41 +0000   \n",
       "399  824796380199809024  2017-01-27 01:49:15 +0000   \n",
       "\n",
       "                                                source  \\\n",
       "36   <a href=\"http://twitter.com/download/iphone\" r...   \n",
       "829  <a href=\"http://twitter.com/download/iphone\" r...   \n",
       "596  <a href=\"http://twitter.com/download/iphone\" r...   \n",
       "91   <a href=\"http://twitter.com/download/iphone\" r...   \n",
       "399  <a href=\"http://twitter.com/download/iphone\" r...   \n",
       "\n",
       "                                                  text retweeted_status_id  \\\n",
       "36   RT @dog_rates: This is Lilly. She just paralle...  830583320585068544   \n",
       "829  RT @dog_rates: When it's Janet from accounting...  700143752053182464   \n",
       "596  RT @dog_rates: This is Stubert. He just arrive...  712809025985978368   \n",
       "91   RT @dog_rates: This is Coco. At first I though...  866334964761202688   \n",
       "399  RT @dog_rates: This is Bailey. She loves going...  795076730285391872   \n",
       "\n",
       "    retweeted_status_user_id retweeted_status_timestamp  \\\n",
       "36                4196983835  2017-02-12 01:04:29+00:00   \n",
       "829               4196983835  2016-02-18 02:24:13+00:00   \n",
       "596               4196983835  2016-03-24 01:11:29+00:00   \n",
       "91                4196983835  2017-05-21 16:48:45+00:00   \n",
       "399               4196983835  2016-11-06 01:33:58+00:00   \n",
       "\n",
       "                                         expanded_urls  rating_numerator  \\\n",
       "36   https://twitter.com/dog_rates/status/830583320...                13   \n",
       "829  https://twitter.com/dog_rates/status/700143752...                10   \n",
       "596  https://twitter.com/dog_rates/status/712809025...                10   \n",
       "91   https://twitter.com/dog_rates/status/866334964...                12   \n",
       "399  https://twitter.com/dog_rates/status/795076730...                11   \n",
       "\n",
       "     rating_denominator     name doggo floofer  pupper puppo  favorite_count  \\\n",
       "36                   10    Lilly  None    None    None  None               0   \n",
       "829                  10     None  None    None  pupper  None               0   \n",
       "596                  10  Stubert  None    None    None  None               0   \n",
       "91                   10     Coco  None    None    None  None               0   \n",
       "399                  10   Bailey  None    None    None  None               0   \n",
       "\n",
       "     retweet_count  \n",
       "36           15460  \n",
       "829           2453  \n",
       "596           6114  \n",
       "91           12235  \n",
       "399           5111  "
      ]
     },
     "execution_count": 142,
     "metadata": {},
     "output_type": "execute_result"
    }
   ],
   "source": [
    "retweets.sample(5)"
   ]
  },
  {
   "cell_type": "markdown",
   "id": "52cda9c3",
   "metadata": {},
   "source": [
    "**Convert timestamp to datetime and rename it to tweet_timestamp**"
   ]
  },
  {
   "cell_type": "code",
   "execution_count": 143,
   "id": "53d2eccc",
   "metadata": {},
   "outputs": [],
   "source": [
    "retweets = retweets.rename(columns={'timestamp':'tweet_timestamp'})"
   ]
  },
  {
   "cell_type": "code",
   "execution_count": 144,
   "id": "44a6b160",
   "metadata": {},
   "outputs": [],
   "source": [
    "retweets['tweet_timestamp'] = pd.to_datetime(retweets['tweet_timestamp'])"
   ]
  },
  {
   "cell_type": "markdown",
   "id": "82b9feac",
   "metadata": {},
   "source": [
    "#### Testing"
   ]
  },
  {
   "cell_type": "code",
   "execution_count": 145,
   "id": "d0f4c6f4",
   "metadata": {},
   "outputs": [
    {
     "data": {
      "text/plain": [
       "tweet_id                                    int64\n",
       "tweet_timestamp               datetime64[ns, UTC]\n",
       "source                                     object\n",
       "text                                       object\n",
       "retweeted_status_id                        object\n",
       "retweeted_status_user_id                   object\n",
       "retweeted_status_timestamp    datetime64[ns, UTC]\n",
       "expanded_urls                              object\n",
       "rating_numerator                            int64\n",
       "rating_denominator                          int64\n",
       "name                                       object\n",
       "doggo                                      object\n",
       "floofer                                    object\n",
       "pupper                                     object\n",
       "puppo                                      object\n",
       "favorite_count                              int64\n",
       "retweet_count                               int64\n",
       "dtype: object"
      ]
     },
     "execution_count": 145,
     "metadata": {},
     "output_type": "execute_result"
    }
   ],
   "source": [
    "retweets.dtypes"
   ]
  },
  {
   "cell_type": "code",
   "execution_count": 146,
   "id": "fabd916d",
   "metadata": {},
   "outputs": [
    {
     "data": {
      "text/html": [
       "<div>\n",
       "<style scoped>\n",
       "    .dataframe tbody tr th:only-of-type {\n",
       "        vertical-align: middle;\n",
       "    }\n",
       "\n",
       "    .dataframe tbody tr th {\n",
       "        vertical-align: top;\n",
       "    }\n",
       "\n",
       "    .dataframe thead th {\n",
       "        text-align: right;\n",
       "    }\n",
       "</style>\n",
       "<table border=\"1\" class=\"dataframe\">\n",
       "  <thead>\n",
       "    <tr style=\"text-align: right;\">\n",
       "      <th></th>\n",
       "      <th>tweet_id</th>\n",
       "      <th>tweet_timestamp</th>\n",
       "      <th>source</th>\n",
       "      <th>text</th>\n",
       "      <th>retweeted_status_id</th>\n",
       "      <th>retweeted_status_user_id</th>\n",
       "      <th>retweeted_status_timestamp</th>\n",
       "      <th>expanded_urls</th>\n",
       "      <th>rating_numerator</th>\n",
       "      <th>rating_denominator</th>\n",
       "      <th>name</th>\n",
       "      <th>doggo</th>\n",
       "      <th>floofer</th>\n",
       "      <th>pupper</th>\n",
       "      <th>puppo</th>\n",
       "      <th>favorite_count</th>\n",
       "      <th>retweet_count</th>\n",
       "    </tr>\n",
       "  </thead>\n",
       "  <tbody>\n",
       "    <tr>\n",
       "      <th>91</th>\n",
       "      <td>874434818259525634</td>\n",
       "      <td>2017-06-13 01:14:41+00:00</td>\n",
       "      <td>&lt;a href=\"http://twitter.com/download/iphone\" r...</td>\n",
       "      <td>RT @dog_rates: This is Coco. At first I though...</td>\n",
       "      <td>866334964761202688</td>\n",
       "      <td>4196983835</td>\n",
       "      <td>2017-05-21 16:48:45+00:00</td>\n",
       "      <td>https://twitter.com/dog_rates/status/866334964...</td>\n",
       "      <td>12</td>\n",
       "      <td>10</td>\n",
       "      <td>Coco</td>\n",
       "      <td>None</td>\n",
       "      <td>None</td>\n",
       "      <td>None</td>\n",
       "      <td>None</td>\n",
       "      <td>0</td>\n",
       "      <td>12235</td>\n",
       "    </tr>\n",
       "    <tr>\n",
       "      <th>406</th>\n",
       "      <td>823719002937630720</td>\n",
       "      <td>2017-01-24 02:28:08+00:00</td>\n",
       "      <td>&lt;a href=\"http://twitter.com/download/iphone\" r...</td>\n",
       "      <td>RT @dog_rates: This is Balto. He's very conten...</td>\n",
       "      <td>784057939640352768</td>\n",
       "      <td>4196983835</td>\n",
       "      <td>2016-10-06 15:49:14+00:00</td>\n",
       "      <td>https://vine.co/v/5gKxeUpuKEr,https://vine.co/...</td>\n",
       "      <td>12</td>\n",
       "      <td>10</td>\n",
       "      <td>Balto</td>\n",
       "      <td>None</td>\n",
       "      <td>None</td>\n",
       "      <td>None</td>\n",
       "      <td>None</td>\n",
       "      <td>0</td>\n",
       "      <td>10381</td>\n",
       "    </tr>\n",
       "  </tbody>\n",
       "</table>\n",
       "</div>"
      ],
      "text/plain": [
       "               tweet_id           tweet_timestamp  \\\n",
       "91   874434818259525634 2017-06-13 01:14:41+00:00   \n",
       "406  823719002937630720 2017-01-24 02:28:08+00:00   \n",
       "\n",
       "                                                source  \\\n",
       "91   <a href=\"http://twitter.com/download/iphone\" r...   \n",
       "406  <a href=\"http://twitter.com/download/iphone\" r...   \n",
       "\n",
       "                                                  text retweeted_status_id  \\\n",
       "91   RT @dog_rates: This is Coco. At first I though...  866334964761202688   \n",
       "406  RT @dog_rates: This is Balto. He's very conten...  784057939640352768   \n",
       "\n",
       "    retweeted_status_user_id retweeted_status_timestamp  \\\n",
       "91                4196983835  2017-05-21 16:48:45+00:00   \n",
       "406               4196983835  2016-10-06 15:49:14+00:00   \n",
       "\n",
       "                                         expanded_urls  rating_numerator  \\\n",
       "91   https://twitter.com/dog_rates/status/866334964...                12   \n",
       "406  https://vine.co/v/5gKxeUpuKEr,https://vine.co/...                12   \n",
       "\n",
       "     rating_denominator   name doggo floofer pupper puppo  favorite_count  \\\n",
       "91                   10   Coco  None    None   None  None               0   \n",
       "406                  10  Balto  None    None   None  None               0   \n",
       "\n",
       "     retweet_count  \n",
       "91           12235  \n",
       "406          10381  "
      ]
     },
     "execution_count": 146,
     "metadata": {},
     "output_type": "execute_result"
    }
   ],
   "source": [
    "retweets.sample(2)"
   ]
  },
  {
   "cell_type": "markdown",
   "id": "ed6500f5",
   "metadata": {},
   "source": [
    "**Melt df_master and retweet columns to form rows instead.**"
   ]
  },
  {
   "cell_type": "code",
   "execution_count": 147,
   "id": "685a0fbe",
   "metadata": {},
   "outputs": [
    {
     "data": {
      "text/plain": [
       "Index(['tweet_id', 'tweet_timestamp', 'source', 'text', 'expanded_urls',\n",
       "       'rating_numerator', 'rating_denominator', 'name', 'doggo', 'floofer',\n",
       "       'pupper', 'puppo', 'favorite_count', 'retweet_count', 'Unnamed: 0',\n",
       "       'jpg_url', 'img_num', 'tp1', 'tp1_confidence', 'tp1_dog', 'tp2',\n",
       "       'tp2_confidence', 'tp2_dog', 'tp3', 'tp3_confidence', 'tp3_dog'],\n",
       "      dtype='object')"
      ]
     },
     "execution_count": 147,
     "metadata": {},
     "output_type": "execute_result"
    }
   ],
   "source": [
    "df_master.columns"
   ]
  },
  {
   "cell_type": "code",
   "execution_count": 148,
   "id": "deca1e2e",
   "metadata": {},
   "outputs": [],
   "source": [
    "columns_to_keep_in_retweet = ['tweet_id','tweet_timestamp','source','text','retweeted_status_id','retweeted_status_user_id','retweeted_status_timestamp','expanded_urls','rating_numerator','rating_denominator','name']\n",
    "columns_to_keep_in_master = ['tweet_id','tweet_timestamp','source','text','expanded_urls','rating_numerator','rating_denominator','name','img_num','tp1','tp1_confidence','tp1_dog','tp2','tp2_confidence','tp2_dog','tp3','tp3_confidence','tp3_dog']\n",
    "columns_to_melt = ['doggo','floofer','pupper','puppo']\n",
    "df_master_unpivoted = df_master.melt(columns_to_keep_in_master,columns_to_melt,'growth_stage','growth_stage_value')"
   ]
  },
  {
   "cell_type": "code",
   "execution_count": 149,
   "id": "00652061",
   "metadata": {},
   "outputs": [],
   "source": [
    "retweets_unpivoted = retweets.melt(columns_to_keep_in_retweet,columns_to_melt,'growth_stage','growth_stage_value')"
   ]
  },
  {
   "cell_type": "markdown",
   "id": "7c6c67a2",
   "metadata": {},
   "source": [
    "#### Testing"
   ]
  },
  {
   "cell_type": "code",
   "execution_count": 150,
   "id": "bdf3d642",
   "metadata": {},
   "outputs": [
    {
     "data": {
      "text/html": [
       "<div>\n",
       "<style scoped>\n",
       "    .dataframe tbody tr th:only-of-type {\n",
       "        vertical-align: middle;\n",
       "    }\n",
       "\n",
       "    .dataframe tbody tr th {\n",
       "        vertical-align: top;\n",
       "    }\n",
       "\n",
       "    .dataframe thead th {\n",
       "        text-align: right;\n",
       "    }\n",
       "</style>\n",
       "<table border=\"1\" class=\"dataframe\">\n",
       "  <thead>\n",
       "    <tr style=\"text-align: right;\">\n",
       "      <th></th>\n",
       "      <th>tweet_id</th>\n",
       "      <th>tweet_timestamp</th>\n",
       "      <th>source</th>\n",
       "      <th>text</th>\n",
       "      <th>retweeted_status_id</th>\n",
       "      <th>retweeted_status_user_id</th>\n",
       "      <th>retweeted_status_timestamp</th>\n",
       "      <th>expanded_urls</th>\n",
       "      <th>rating_numerator</th>\n",
       "      <th>rating_denominator</th>\n",
       "      <th>name</th>\n",
       "      <th>growth_stage</th>\n",
       "      <th>growth_stage_value</th>\n",
       "    </tr>\n",
       "  </thead>\n",
       "  <tbody>\n",
       "    <tr>\n",
       "      <th>337</th>\n",
       "      <td>857062103051644929</td>\n",
       "      <td>2017-04-26 02:41:43+00:00</td>\n",
       "      <td>&lt;a href=\"http://twitter.com/download/iphone\" r...</td>\n",
       "      <td>RT @AaronChewning: First time wearing my @dog_...</td>\n",
       "      <td>857061112319234048</td>\n",
       "      <td>58709723</td>\n",
       "      <td>2017-04-26 02:37:47+00:00</td>\n",
       "      <td>https://twitter.com/AaronChewning/status/85706...</td>\n",
       "      <td>13</td>\n",
       "      <td>10</td>\n",
       "      <td>None</td>\n",
       "      <td>pupper</td>\n",
       "      <td>None</td>\n",
       "    </tr>\n",
       "    <tr>\n",
       "      <th>376</th>\n",
       "      <td>820494788566847489</td>\n",
       "      <td>2017-01-15 04:56:16+00:00</td>\n",
       "      <td>&lt;a href=\"http://twitter.com/download/iphone\" r...</td>\n",
       "      <td>RT @dog_rates: We are proud to support @LoveYo...</td>\n",
       "      <td>820314633777061888</td>\n",
       "      <td>4196983835</td>\n",
       "      <td>2017-01-14 17:00:24+00:00</td>\n",
       "      <td>https://www.loveyourmelon.com/pages/ourstory,h...</td>\n",
       "      <td>14</td>\n",
       "      <td>10</td>\n",
       "      <td>None</td>\n",
       "      <td>pupper</td>\n",
       "      <td>None</td>\n",
       "    </tr>\n",
       "    <tr>\n",
       "      <th>102</th>\n",
       "      <td>798340744599797760</td>\n",
       "      <td>2016-11-15 01:44:00+00:00</td>\n",
       "      <td>&lt;a href=\"http://twitter.com/download/iphone\" r...</td>\n",
       "      <td>RT @dog_rates: This is Davey. He'll have your ...</td>\n",
       "      <td>771770456517009408</td>\n",
       "      <td>4196983835</td>\n",
       "      <td>2016-09-02 18:03:10+00:00</td>\n",
       "      <td>https://twitter.com/dog_rates/status/771770456...</td>\n",
       "      <td>11</td>\n",
       "      <td>10</td>\n",
       "      <td>Davey</td>\n",
       "      <td>doggo</td>\n",
       "      <td>None</td>\n",
       "    </tr>\n",
       "    <tr>\n",
       "      <th>208</th>\n",
       "      <td>824796380199809024</td>\n",
       "      <td>2017-01-27 01:49:15+00:00</td>\n",
       "      <td>&lt;a href=\"http://twitter.com/download/iphone\" r...</td>\n",
       "      <td>RT @dog_rates: This is Bailey. She loves going...</td>\n",
       "      <td>795076730285391872</td>\n",
       "      <td>4196983835</td>\n",
       "      <td>2016-11-06 01:33:58+00:00</td>\n",
       "      <td>https://twitter.com/dog_rates/status/795076730...</td>\n",
       "      <td>11</td>\n",
       "      <td>10</td>\n",
       "      <td>Bailey</td>\n",
       "      <td>floofer</td>\n",
       "      <td>None</td>\n",
       "    </tr>\n",
       "    <tr>\n",
       "      <th>230</th>\n",
       "      <td>814578408554463233</td>\n",
       "      <td>2016-12-29 21:06:41+00:00</td>\n",
       "      <td>&lt;a href=\"http://twitter.com/download/iphone\" r...</td>\n",
       "      <td>RT @dog_rates: Meet Beau &amp;amp; Wilbur. Wilbur ...</td>\n",
       "      <td>698195409219559424</td>\n",
       "      <td>4196983835</td>\n",
       "      <td>2016-02-12 17:22:12+00:00</td>\n",
       "      <td>https://twitter.com/dog_rates/status/698195409...</td>\n",
       "      <td>9</td>\n",
       "      <td>10</td>\n",
       "      <td>Beau</td>\n",
       "      <td>floofer</td>\n",
       "      <td>None</td>\n",
       "    </tr>\n",
       "  </tbody>\n",
       "</table>\n",
       "</div>"
      ],
      "text/plain": [
       "               tweet_id           tweet_timestamp  \\\n",
       "337  857062103051644929 2017-04-26 02:41:43+00:00   \n",
       "376  820494788566847489 2017-01-15 04:56:16+00:00   \n",
       "102  798340744599797760 2016-11-15 01:44:00+00:00   \n",
       "208  824796380199809024 2017-01-27 01:49:15+00:00   \n",
       "230  814578408554463233 2016-12-29 21:06:41+00:00   \n",
       "\n",
       "                                                source  \\\n",
       "337  <a href=\"http://twitter.com/download/iphone\" r...   \n",
       "376  <a href=\"http://twitter.com/download/iphone\" r...   \n",
       "102  <a href=\"http://twitter.com/download/iphone\" r...   \n",
       "208  <a href=\"http://twitter.com/download/iphone\" r...   \n",
       "230  <a href=\"http://twitter.com/download/iphone\" r...   \n",
       "\n",
       "                                                  text retweeted_status_id  \\\n",
       "337  RT @AaronChewning: First time wearing my @dog_...  857061112319234048   \n",
       "376  RT @dog_rates: We are proud to support @LoveYo...  820314633777061888   \n",
       "102  RT @dog_rates: This is Davey. He'll have your ...  771770456517009408   \n",
       "208  RT @dog_rates: This is Bailey. She loves going...  795076730285391872   \n",
       "230  RT @dog_rates: Meet Beau &amp; Wilbur. Wilbur ...  698195409219559424   \n",
       "\n",
       "    retweeted_status_user_id retweeted_status_timestamp  \\\n",
       "337                 58709723  2017-04-26 02:37:47+00:00   \n",
       "376               4196983835  2017-01-14 17:00:24+00:00   \n",
       "102               4196983835  2016-09-02 18:03:10+00:00   \n",
       "208               4196983835  2016-11-06 01:33:58+00:00   \n",
       "230               4196983835  2016-02-12 17:22:12+00:00   \n",
       "\n",
       "                                         expanded_urls  rating_numerator  \\\n",
       "337  https://twitter.com/AaronChewning/status/85706...                13   \n",
       "376  https://www.loveyourmelon.com/pages/ourstory,h...                14   \n",
       "102  https://twitter.com/dog_rates/status/771770456...                11   \n",
       "208  https://twitter.com/dog_rates/status/795076730...                11   \n",
       "230  https://twitter.com/dog_rates/status/698195409...                 9   \n",
       "\n",
       "     rating_denominator    name growth_stage growth_stage_value  \n",
       "337                  10    None       pupper               None  \n",
       "376                  10    None       pupper               None  \n",
       "102                  10   Davey        doggo               None  \n",
       "208                  10  Bailey      floofer               None  \n",
       "230                  10    Beau      floofer               None  "
      ]
     },
     "execution_count": 150,
     "metadata": {},
     "output_type": "execute_result"
    }
   ],
   "source": [
    "retweets_unpivoted.sample(5)"
   ]
  },
  {
   "cell_type": "code",
   "execution_count": 151,
   "id": "4b49363b",
   "metadata": {},
   "outputs": [
    {
     "data": {
      "text/html": [
       "<div>\n",
       "<style scoped>\n",
       "    .dataframe tbody tr th:only-of-type {\n",
       "        vertical-align: middle;\n",
       "    }\n",
       "\n",
       "    .dataframe tbody tr th {\n",
       "        vertical-align: top;\n",
       "    }\n",
       "\n",
       "    .dataframe thead th {\n",
       "        text-align: right;\n",
       "    }\n",
       "</style>\n",
       "<table border=\"1\" class=\"dataframe\">\n",
       "  <thead>\n",
       "    <tr style=\"text-align: right;\">\n",
       "      <th></th>\n",
       "      <th>tweet_id</th>\n",
       "      <th>tweet_timestamp</th>\n",
       "      <th>source</th>\n",
       "      <th>text</th>\n",
       "      <th>expanded_urls</th>\n",
       "      <th>rating_numerator</th>\n",
       "      <th>rating_denominator</th>\n",
       "      <th>name</th>\n",
       "      <th>img_num</th>\n",
       "      <th>tp1</th>\n",
       "      <th>tp1_confidence</th>\n",
       "      <th>tp1_dog</th>\n",
       "      <th>tp2</th>\n",
       "      <th>tp2_confidence</th>\n",
       "      <th>tp2_dog</th>\n",
       "      <th>tp3</th>\n",
       "      <th>tp3_confidence</th>\n",
       "      <th>tp3_dog</th>\n",
       "      <th>growth_stage</th>\n",
       "      <th>growth_stage_value</th>\n",
       "    </tr>\n",
       "  </thead>\n",
       "  <tbody>\n",
       "    <tr>\n",
       "      <th>6804</th>\n",
       "      <td>884876753390489601</td>\n",
       "      <td>2017-07-11 20:47:12+00:00</td>\n",
       "      <td>&lt;a href=\"http://twitter.com/download/iphone\" r...</td>\n",
       "      <td>This is Lola. It's her first time outside. Mus...</td>\n",
       "      <td>https://twitter.com/dog_rates/status/884876753...</td>\n",
       "      <td>13</td>\n",
       "      <td>10</td>\n",
       "      <td>Lola</td>\n",
       "      <td>1.0</td>\n",
       "      <td>chow</td>\n",
       "      <td>0.822103</td>\n",
       "      <td>True</td>\n",
       "      <td>Norwich terrier</td>\n",
       "      <td>0.106075</td>\n",
       "      <td>True</td>\n",
       "      <td>Norfolk terrier</td>\n",
       "      <td>0.037348</td>\n",
       "      <td>True</td>\n",
       "      <td>puppo</td>\n",
       "      <td>None</td>\n",
       "    </tr>\n",
       "    <tr>\n",
       "      <th>5339</th>\n",
       "      <td>747461612269887489</td>\n",
       "      <td>2016-06-27 16:08:30+00:00</td>\n",
       "      <td>&lt;a href=\"http://twitter.com/download/iphone\" r...</td>\n",
       "      <td>Never seen a shark hold another shark like thi...</td>\n",
       "      <td>https://twitter.com/dog_rates/status/747461612...</td>\n",
       "      <td>10</td>\n",
       "      <td>10</td>\n",
       "      <td>None</td>\n",
       "      <td>1.0</td>\n",
       "      <td>binoculars</td>\n",
       "      <td>0.192717</td>\n",
       "      <td>False</td>\n",
       "      <td>barbershop</td>\n",
       "      <td>0.085838</td>\n",
       "      <td>False</td>\n",
       "      <td>ballplayer</td>\n",
       "      <td>0.084672</td>\n",
       "      <td>False</td>\n",
       "      <td>pupper</td>\n",
       "      <td>None</td>\n",
       "    </tr>\n",
       "    <tr>\n",
       "      <th>2659</th>\n",
       "      <td>813202720496779264</td>\n",
       "      <td>2016-12-26 02:00:11+00:00</td>\n",
       "      <td>&lt;a href=\"http://twitter.com/download/iphone\" r...</td>\n",
       "      <td>Here's a doggo who has concluded that Christma...</td>\n",
       "      <td>https://twitter.com/dog_rates/status/813202720...</td>\n",
       "      <td>11</td>\n",
       "      <td>10</td>\n",
       "      <td>None</td>\n",
       "      <td>1.0</td>\n",
       "      <td>cocker spaniel</td>\n",
       "      <td>0.701852</td>\n",
       "      <td>True</td>\n",
       "      <td>golden retriever</td>\n",
       "      <td>0.120345</td>\n",
       "      <td>True</td>\n",
       "      <td>Labrador retriever</td>\n",
       "      <td>0.036320</td>\n",
       "      <td>True</td>\n",
       "      <td>floofer</td>\n",
       "      <td>None</td>\n",
       "    </tr>\n",
       "    <tr>\n",
       "      <th>1993</th>\n",
       "      <td>668989615043424256</td>\n",
       "      <td>2015-11-24 03:08:48+00:00</td>\n",
       "      <td>&lt;a href=\"http://twitter.com/download/iphone\" r...</td>\n",
       "      <td>This is Bernie. He's taking his Halloween cost...</td>\n",
       "      <td>https://twitter.com/dog_rates/status/668989615...</td>\n",
       "      <td>12</td>\n",
       "      <td>10</td>\n",
       "      <td>Bernie</td>\n",
       "      <td>1.0</td>\n",
       "      <td>pug</td>\n",
       "      <td>0.917326</td>\n",
       "      <td>True</td>\n",
       "      <td>waffle iron</td>\n",
       "      <td>0.014918</td>\n",
       "      <td>False</td>\n",
       "      <td>Chihuahua</td>\n",
       "      <td>0.013524</td>\n",
       "      <td>True</td>\n",
       "      <td>doggo</td>\n",
       "      <td>None</td>\n",
       "    </tr>\n",
       "    <tr>\n",
       "      <th>7008</th>\n",
       "      <td>838952994649550848</td>\n",
       "      <td>2017-03-07 03:22:35+00:00</td>\n",
       "      <td>&lt;a href=\"http://twitter.com/download/iphone\" r...</td>\n",
       "      <td>SHE MISPLACED HER HOOMAN 13/10 MISTAKES HAPPEN...</td>\n",
       "      <td>https://twitter.com/ktla/status/83894871422799...</td>\n",
       "      <td>13</td>\n",
       "      <td>10</td>\n",
       "      <td>None</td>\n",
       "      <td>NaN</td>\n",
       "      <td>nan</td>\n",
       "      <td>NaN</td>\n",
       "      <td>True</td>\n",
       "      <td>nan</td>\n",
       "      <td>NaN</td>\n",
       "      <td>True</td>\n",
       "      <td>nan</td>\n",
       "      <td>NaN</td>\n",
       "      <td>True</td>\n",
       "      <td>puppo</td>\n",
       "      <td>None</td>\n",
       "    </tr>\n",
       "  </tbody>\n",
       "</table>\n",
       "</div>"
      ],
      "text/plain": [
       "                tweet_id           tweet_timestamp  \\\n",
       "6804  884876753390489601 2017-07-11 20:47:12+00:00   \n",
       "5339  747461612269887489 2016-06-27 16:08:30+00:00   \n",
       "2659  813202720496779264 2016-12-26 02:00:11+00:00   \n",
       "1993  668989615043424256 2015-11-24 03:08:48+00:00   \n",
       "7008  838952994649550848 2017-03-07 03:22:35+00:00   \n",
       "\n",
       "                                                 source  \\\n",
       "6804  <a href=\"http://twitter.com/download/iphone\" r...   \n",
       "5339  <a href=\"http://twitter.com/download/iphone\" r...   \n",
       "2659  <a href=\"http://twitter.com/download/iphone\" r...   \n",
       "1993  <a href=\"http://twitter.com/download/iphone\" r...   \n",
       "7008  <a href=\"http://twitter.com/download/iphone\" r...   \n",
       "\n",
       "                                                   text  \\\n",
       "6804  This is Lola. It's her first time outside. Mus...   \n",
       "5339  Never seen a shark hold another shark like thi...   \n",
       "2659  Here's a doggo who has concluded that Christma...   \n",
       "1993  This is Bernie. He's taking his Halloween cost...   \n",
       "7008  SHE MISPLACED HER HOOMAN 13/10 MISTAKES HAPPEN...   \n",
       "\n",
       "                                          expanded_urls  rating_numerator  \\\n",
       "6804  https://twitter.com/dog_rates/status/884876753...                13   \n",
       "5339  https://twitter.com/dog_rates/status/747461612...                10   \n",
       "2659  https://twitter.com/dog_rates/status/813202720...                11   \n",
       "1993  https://twitter.com/dog_rates/status/668989615...                12   \n",
       "7008  https://twitter.com/ktla/status/83894871422799...                13   \n",
       "\n",
       "      rating_denominator    name  img_num             tp1  tp1_confidence  \\\n",
       "6804                  10    Lola      1.0            chow        0.822103   \n",
       "5339                  10    None      1.0      binoculars        0.192717   \n",
       "2659                  10    None      1.0  cocker spaniel        0.701852   \n",
       "1993                  10  Bernie      1.0             pug        0.917326   \n",
       "7008                  10    None      NaN             nan             NaN   \n",
       "\n",
       "      tp1_dog               tp2  tp2_confidence  tp2_dog                 tp3  \\\n",
       "6804     True   Norwich terrier        0.106075     True     Norfolk terrier   \n",
       "5339    False        barbershop        0.085838    False          ballplayer   \n",
       "2659     True  golden retriever        0.120345     True  Labrador retriever   \n",
       "1993     True       waffle iron        0.014918    False           Chihuahua   \n",
       "7008     True               nan             NaN     True                 nan   \n",
       "\n",
       "      tp3_confidence  tp3_dog growth_stage growth_stage_value  \n",
       "6804        0.037348     True        puppo               None  \n",
       "5339        0.084672    False       pupper               None  \n",
       "2659        0.036320     True      floofer               None  \n",
       "1993        0.013524     True        doggo               None  \n",
       "7008             NaN     True        puppo               None  "
      ]
     },
     "execution_count": 151,
     "metadata": {},
     "output_type": "execute_result"
    }
   ],
   "source": [
    "df_master_unpivoted.sample(5)"
   ]
  },
  {
   "cell_type": "markdown",
   "id": "47605867",
   "metadata": {},
   "source": [
    "**Check for duplicates in df_master and retweets and remove them if any**"
   ]
  },
  {
   "cell_type": "code",
   "execution_count": 152,
   "id": "7ed13875",
   "metadata": {},
   "outputs": [
    {
     "data": {
      "text/plain": [
       "0"
      ]
     },
     "execution_count": 152,
     "metadata": {},
     "output_type": "execute_result"
    }
   ],
   "source": [
    "sum(df_master_unpivoted.duplicated())"
   ]
  },
  {
   "cell_type": "code",
   "execution_count": 153,
   "id": "ab821adb",
   "metadata": {},
   "outputs": [
    {
     "data": {
      "text/plain": [
       "0"
      ]
     },
     "execution_count": 153,
     "metadata": {},
     "output_type": "execute_result"
    }
   ],
   "source": [
    "sum(retweets_unpivoted.duplicated())"
   ]
  },
  {
   "cell_type": "code",
   "execution_count": 154,
   "id": "5edabdd0",
   "metadata": {},
   "outputs": [
    {
     "data": {
      "text/html": [
       "<div>\n",
       "<style scoped>\n",
       "    .dataframe tbody tr th:only-of-type {\n",
       "        vertical-align: middle;\n",
       "    }\n",
       "\n",
       "    .dataframe tbody tr th {\n",
       "        vertical-align: top;\n",
       "    }\n",
       "\n",
       "    .dataframe thead th {\n",
       "        text-align: right;\n",
       "    }\n",
       "</style>\n",
       "<table border=\"1\" class=\"dataframe\">\n",
       "  <thead>\n",
       "    <tr style=\"text-align: right;\">\n",
       "      <th></th>\n",
       "      <th>tweet_id</th>\n",
       "      <th>tweet_timestamp</th>\n",
       "      <th>source</th>\n",
       "      <th>text</th>\n",
       "      <th>expanded_urls</th>\n",
       "      <th>rating_numerator</th>\n",
       "      <th>rating_denominator</th>\n",
       "      <th>name</th>\n",
       "      <th>img_num</th>\n",
       "      <th>tp1</th>\n",
       "      <th>tp1_confidence</th>\n",
       "      <th>tp1_dog</th>\n",
       "      <th>tp2</th>\n",
       "      <th>tp2_confidence</th>\n",
       "      <th>tp2_dog</th>\n",
       "      <th>tp3</th>\n",
       "      <th>tp3_confidence</th>\n",
       "      <th>tp3_dog</th>\n",
       "      <th>growth_stage</th>\n",
       "      <th>growth_stage_value</th>\n",
       "    </tr>\n",
       "  </thead>\n",
       "  <tbody>\n",
       "    <tr>\n",
       "      <th>1675</th>\n",
       "      <td>675372240448454658</td>\n",
       "      <td>2015-12-11 17:51:04+00:00</td>\n",
       "      <td>&lt;a href=\"http://twitter.com/download/iphone\" r...</td>\n",
       "      <td>The tail alone is 13/10. Great dog, better own...</td>\n",
       "      <td>https://twitter.com/dog_rates/status/675372240...</td>\n",
       "      <td>13</td>\n",
       "      <td>10</td>\n",
       "      <td>None</td>\n",
       "      <td>1.0</td>\n",
       "      <td>Chihuahua</td>\n",
       "      <td>0.416385</td>\n",
       "      <td>True</td>\n",
       "      <td>West Highland white terrier</td>\n",
       "      <td>0.102933</td>\n",
       "      <td>True</td>\n",
       "      <td>Samoyed</td>\n",
       "      <td>0.0873</td>\n",
       "      <td>True</td>\n",
       "      <td>doggo</td>\n",
       "      <td>None</td>\n",
       "    </tr>\n",
       "    <tr>\n",
       "      <th>3931</th>\n",
       "      <td>675372240448454658</td>\n",
       "      <td>2015-12-11 17:51:04+00:00</td>\n",
       "      <td>&lt;a href=\"http://twitter.com/download/iphone\" r...</td>\n",
       "      <td>The tail alone is 13/10. Great dog, better own...</td>\n",
       "      <td>https://twitter.com/dog_rates/status/675372240...</td>\n",
       "      <td>13</td>\n",
       "      <td>10</td>\n",
       "      <td>None</td>\n",
       "      <td>1.0</td>\n",
       "      <td>Chihuahua</td>\n",
       "      <td>0.416385</td>\n",
       "      <td>True</td>\n",
       "      <td>West Highland white terrier</td>\n",
       "      <td>0.102933</td>\n",
       "      <td>True</td>\n",
       "      <td>Samoyed</td>\n",
       "      <td>0.0873</td>\n",
       "      <td>True</td>\n",
       "      <td>floofer</td>\n",
       "      <td>None</td>\n",
       "    </tr>\n",
       "    <tr>\n",
       "      <th>6187</th>\n",
       "      <td>675372240448454658</td>\n",
       "      <td>2015-12-11 17:51:04+00:00</td>\n",
       "      <td>&lt;a href=\"http://twitter.com/download/iphone\" r...</td>\n",
       "      <td>The tail alone is 13/10. Great dog, better own...</td>\n",
       "      <td>https://twitter.com/dog_rates/status/675372240...</td>\n",
       "      <td>13</td>\n",
       "      <td>10</td>\n",
       "      <td>None</td>\n",
       "      <td>1.0</td>\n",
       "      <td>Chihuahua</td>\n",
       "      <td>0.416385</td>\n",
       "      <td>True</td>\n",
       "      <td>West Highland white terrier</td>\n",
       "      <td>0.102933</td>\n",
       "      <td>True</td>\n",
       "      <td>Samoyed</td>\n",
       "      <td>0.0873</td>\n",
       "      <td>True</td>\n",
       "      <td>pupper</td>\n",
       "      <td>None</td>\n",
       "    </tr>\n",
       "    <tr>\n",
       "      <th>8443</th>\n",
       "      <td>675372240448454658</td>\n",
       "      <td>2015-12-11 17:51:04+00:00</td>\n",
       "      <td>&lt;a href=\"http://twitter.com/download/iphone\" r...</td>\n",
       "      <td>The tail alone is 13/10. Great dog, better own...</td>\n",
       "      <td>https://twitter.com/dog_rates/status/675372240...</td>\n",
       "      <td>13</td>\n",
       "      <td>10</td>\n",
       "      <td>None</td>\n",
       "      <td>1.0</td>\n",
       "      <td>Chihuahua</td>\n",
       "      <td>0.416385</td>\n",
       "      <td>True</td>\n",
       "      <td>West Highland white terrier</td>\n",
       "      <td>0.102933</td>\n",
       "      <td>True</td>\n",
       "      <td>Samoyed</td>\n",
       "      <td>0.0873</td>\n",
       "      <td>True</td>\n",
       "      <td>puppo</td>\n",
       "      <td>None</td>\n",
       "    </tr>\n",
       "  </tbody>\n",
       "</table>\n",
       "</div>"
      ],
      "text/plain": [
       "                tweet_id           tweet_timestamp  \\\n",
       "1675  675372240448454658 2015-12-11 17:51:04+00:00   \n",
       "3931  675372240448454658 2015-12-11 17:51:04+00:00   \n",
       "6187  675372240448454658 2015-12-11 17:51:04+00:00   \n",
       "8443  675372240448454658 2015-12-11 17:51:04+00:00   \n",
       "\n",
       "                                                 source  \\\n",
       "1675  <a href=\"http://twitter.com/download/iphone\" r...   \n",
       "3931  <a href=\"http://twitter.com/download/iphone\" r...   \n",
       "6187  <a href=\"http://twitter.com/download/iphone\" r...   \n",
       "8443  <a href=\"http://twitter.com/download/iphone\" r...   \n",
       "\n",
       "                                                   text  \\\n",
       "1675  The tail alone is 13/10. Great dog, better own...   \n",
       "3931  The tail alone is 13/10. Great dog, better own...   \n",
       "6187  The tail alone is 13/10. Great dog, better own...   \n",
       "8443  The tail alone is 13/10. Great dog, better own...   \n",
       "\n",
       "                                          expanded_urls  rating_numerator  \\\n",
       "1675  https://twitter.com/dog_rates/status/675372240...                13   \n",
       "3931  https://twitter.com/dog_rates/status/675372240...                13   \n",
       "6187  https://twitter.com/dog_rates/status/675372240...                13   \n",
       "8443  https://twitter.com/dog_rates/status/675372240...                13   \n",
       "\n",
       "      rating_denominator  name  img_num        tp1  tp1_confidence  tp1_dog  \\\n",
       "1675                  10  None      1.0  Chihuahua        0.416385     True   \n",
       "3931                  10  None      1.0  Chihuahua        0.416385     True   \n",
       "6187                  10  None      1.0  Chihuahua        0.416385     True   \n",
       "8443                  10  None      1.0  Chihuahua        0.416385     True   \n",
       "\n",
       "                              tp2  tp2_confidence  tp2_dog      tp3  \\\n",
       "1675  West Highland white terrier        0.102933     True  Samoyed   \n",
       "3931  West Highland white terrier        0.102933     True  Samoyed   \n",
       "6187  West Highland white terrier        0.102933     True  Samoyed   \n",
       "8443  West Highland white terrier        0.102933     True  Samoyed   \n",
       "\n",
       "      tp3_confidence  tp3_dog growth_stage growth_stage_value  \n",
       "1675          0.0873     True        doggo               None  \n",
       "3931          0.0873     True      floofer               None  \n",
       "6187          0.0873     True       pupper               None  \n",
       "8443          0.0873     True        puppo               None  "
      ]
     },
     "execution_count": 154,
     "metadata": {},
     "output_type": "execute_result"
    }
   ],
   "source": [
    "df_master_unpivoted.query('tweet_id == 675372240448454658')"
   ]
  },
  {
   "cell_type": "markdown",
   "id": "ce7d93c3",
   "metadata": {},
   "source": [
    "*In order to find out the duplicates, we need to drop the field growth_stage and keep growth_stage_value, why? Since the growth_stage_value still bears the growth stage*"
   ]
  },
  {
   "cell_type": "code",
   "execution_count": 155,
   "id": "6a5b235c",
   "metadata": {},
   "outputs": [],
   "source": [
    "df_master_unpivoted.drop(['growth_stage'], axis=1, inplace=True)"
   ]
  },
  {
   "cell_type": "code",
   "execution_count": 156,
   "id": "cd5ec979",
   "metadata": {},
   "outputs": [],
   "source": [
    "retweets_unpivoted.drop(['growth_stage'], axis=1, inplace=True)"
   ]
  },
  {
   "cell_type": "code",
   "execution_count": 157,
   "id": "65c59914",
   "metadata": {},
   "outputs": [
    {
     "data": {
      "text/plain": [
       "446"
      ]
     },
     "execution_count": 157,
     "metadata": {},
     "output_type": "execute_result"
    }
   ],
   "source": [
    "sum(retweets_unpivoted.duplicated())"
   ]
  },
  {
   "cell_type": "code",
   "execution_count": 158,
   "id": "cfdbc9c2",
   "metadata": {},
   "outputs": [
    {
     "data": {
      "text/plain": [
       "6413"
      ]
     },
     "execution_count": 158,
     "metadata": {},
     "output_type": "execute_result"
    }
   ],
   "source": [
    "sum(df_master_unpivoted.duplicated())"
   ]
  },
  {
   "cell_type": "code",
   "execution_count": 159,
   "id": "f4ff6757",
   "metadata": {},
   "outputs": [],
   "source": [
    "#drop duplicates now\n",
    "df_master_unpivoted.drop_duplicates(inplace=True)\n",
    "retweets_unpivoted.drop_duplicates(inplace=True)"
   ]
  },
  {
   "cell_type": "markdown",
   "id": "8c23f1e4",
   "metadata": {},
   "source": [
    "### Testing"
   ]
  },
  {
   "cell_type": "code",
   "execution_count": 160,
   "id": "4fb21c15",
   "metadata": {},
   "outputs": [
    {
     "data": {
      "text/html": [
       "<div>\n",
       "<style scoped>\n",
       "    .dataframe tbody tr th:only-of-type {\n",
       "        vertical-align: middle;\n",
       "    }\n",
       "\n",
       "    .dataframe tbody tr th {\n",
       "        vertical-align: top;\n",
       "    }\n",
       "\n",
       "    .dataframe thead th {\n",
       "        text-align: right;\n",
       "    }\n",
       "</style>\n",
       "<table border=\"1\" class=\"dataframe\">\n",
       "  <thead>\n",
       "    <tr style=\"text-align: right;\">\n",
       "      <th></th>\n",
       "      <th>tweet_id</th>\n",
       "      <th>tweet_timestamp</th>\n",
       "      <th>source</th>\n",
       "      <th>text</th>\n",
       "      <th>expanded_urls</th>\n",
       "      <th>rating_numerator</th>\n",
       "      <th>rating_denominator</th>\n",
       "      <th>name</th>\n",
       "      <th>img_num</th>\n",
       "      <th>tp1</th>\n",
       "      <th>tp1_confidence</th>\n",
       "      <th>tp1_dog</th>\n",
       "      <th>tp2</th>\n",
       "      <th>tp2_confidence</th>\n",
       "      <th>tp2_dog</th>\n",
       "      <th>tp3</th>\n",
       "      <th>tp3_confidence</th>\n",
       "      <th>tp3_dog</th>\n",
       "      <th>growth_stage_value</th>\n",
       "    </tr>\n",
       "  </thead>\n",
       "  <tbody>\n",
       "    <tr>\n",
       "      <th>1675</th>\n",
       "      <td>675372240448454658</td>\n",
       "      <td>2015-12-11 17:51:04+00:00</td>\n",
       "      <td>&lt;a href=\"http://twitter.com/download/iphone\" r...</td>\n",
       "      <td>The tail alone is 13/10. Great dog, better own...</td>\n",
       "      <td>https://twitter.com/dog_rates/status/675372240...</td>\n",
       "      <td>13</td>\n",
       "      <td>10</td>\n",
       "      <td>None</td>\n",
       "      <td>1.0</td>\n",
       "      <td>Chihuahua</td>\n",
       "      <td>0.416385</td>\n",
       "      <td>True</td>\n",
       "      <td>West Highland white terrier</td>\n",
       "      <td>0.102933</td>\n",
       "      <td>True</td>\n",
       "      <td>Samoyed</td>\n",
       "      <td>0.0873</td>\n",
       "      <td>True</td>\n",
       "      <td>None</td>\n",
       "    </tr>\n",
       "  </tbody>\n",
       "</table>\n",
       "</div>"
      ],
      "text/plain": [
       "                tweet_id           tweet_timestamp  \\\n",
       "1675  675372240448454658 2015-12-11 17:51:04+00:00   \n",
       "\n",
       "                                                 source  \\\n",
       "1675  <a href=\"http://twitter.com/download/iphone\" r...   \n",
       "\n",
       "                                                   text  \\\n",
       "1675  The tail alone is 13/10. Great dog, better own...   \n",
       "\n",
       "                                          expanded_urls  rating_numerator  \\\n",
       "1675  https://twitter.com/dog_rates/status/675372240...                13   \n",
       "\n",
       "      rating_denominator  name  img_num        tp1  tp1_confidence  tp1_dog  \\\n",
       "1675                  10  None      1.0  Chihuahua        0.416385     True   \n",
       "\n",
       "                              tp2  tp2_confidence  tp2_dog      tp3  \\\n",
       "1675  West Highland white terrier        0.102933     True  Samoyed   \n",
       "\n",
       "      tp3_confidence  tp3_dog growth_stage_value  \n",
       "1675          0.0873     True               None  "
      ]
     },
     "execution_count": 160,
     "metadata": {},
     "output_type": "execute_result"
    }
   ],
   "source": [
    "df_master_unpivoted.query('tweet_id == 675372240448454658')"
   ]
  },
  {
   "cell_type": "code",
   "execution_count": 161,
   "id": "6bfa2eec",
   "metadata": {},
   "outputs": [
    {
     "data": {
      "text/html": [
       "<div>\n",
       "<style scoped>\n",
       "    .dataframe tbody tr th:only-of-type {\n",
       "        vertical-align: middle;\n",
       "    }\n",
       "\n",
       "    .dataframe tbody tr th {\n",
       "        vertical-align: top;\n",
       "    }\n",
       "\n",
       "    .dataframe thead th {\n",
       "        text-align: right;\n",
       "    }\n",
       "</style>\n",
       "<table border=\"1\" class=\"dataframe\">\n",
       "  <thead>\n",
       "    <tr style=\"text-align: right;\">\n",
       "      <th></th>\n",
       "      <th>tweet_id</th>\n",
       "      <th>tweet_timestamp</th>\n",
       "      <th>source</th>\n",
       "      <th>text</th>\n",
       "      <th>expanded_urls</th>\n",
       "      <th>rating_numerator</th>\n",
       "      <th>rating_denominator</th>\n",
       "      <th>name</th>\n",
       "      <th>img_num</th>\n",
       "      <th>tp1</th>\n",
       "      <th>tp1_confidence</th>\n",
       "      <th>tp1_dog</th>\n",
       "      <th>tp2</th>\n",
       "      <th>tp2_confidence</th>\n",
       "      <th>tp2_dog</th>\n",
       "      <th>tp3</th>\n",
       "      <th>tp3_confidence</th>\n",
       "      <th>tp3_dog</th>\n",
       "      <th>growth_stage_value</th>\n",
       "    </tr>\n",
       "  </thead>\n",
       "  <tbody>\n",
       "    <tr>\n",
       "      <th>1271</th>\n",
       "      <td>695074328191332352</td>\n",
       "      <td>2016-02-04 02:40:08+00:00</td>\n",
       "      <td>&lt;a href=\"http://twitter.com/download/iphone\" r...</td>\n",
       "      <td>This is Lorenzo. He's educated af. Just gradua...</td>\n",
       "      <td>https://twitter.com/dog_rates/status/695074328...</td>\n",
       "      <td>11</td>\n",
       "      <td>10</td>\n",
       "      <td>Lorenzo</td>\n",
       "      <td>1.0</td>\n",
       "      <td>Shih-Tzu</td>\n",
       "      <td>0.510106</td>\n",
       "      <td>True</td>\n",
       "      <td>Tibetan terrier</td>\n",
       "      <td>0.071981</td>\n",
       "      <td>True</td>\n",
       "      <td>Lhasa</td>\n",
       "      <td>0.069231</td>\n",
       "      <td>True</td>\n",
       "      <td>None</td>\n",
       "    </tr>\n",
       "    <tr>\n",
       "      <th>1048</th>\n",
       "      <td>712717840512598017</td>\n",
       "      <td>2016-03-23 19:09:09+00:00</td>\n",
       "      <td>&lt;a href=\"http://twitter.com/download/iphone\" r...</td>\n",
       "      <td>Please don't send in any more polar bears. We ...</td>\n",
       "      <td>https://twitter.com/dog_rates/status/712717840...</td>\n",
       "      <td>10</td>\n",
       "      <td>10</td>\n",
       "      <td>None</td>\n",
       "      <td>1.0</td>\n",
       "      <td>Great Pyrenees</td>\n",
       "      <td>0.732043</td>\n",
       "      <td>True</td>\n",
       "      <td>kuvasz</td>\n",
       "      <td>0.121375</td>\n",
       "      <td>True</td>\n",
       "      <td>Irish wolfhound</td>\n",
       "      <td>0.049524</td>\n",
       "      <td>True</td>\n",
       "      <td>None</td>\n",
       "    </tr>\n",
       "    <tr>\n",
       "      <th>2165</th>\n",
       "      <td>667550904950915073</td>\n",
       "      <td>NaT</td>\n",
       "      <td>NaN</td>\n",
       "      <td>NaN</td>\n",
       "      <td>NaN</td>\n",
       "      <td>0</td>\n",
       "      <td>0</td>\n",
       "      <td>NaN</td>\n",
       "      <td>1.0</td>\n",
       "      <td>web site</td>\n",
       "      <td>0.999335</td>\n",
       "      <td>False</td>\n",
       "      <td>vizsla</td>\n",
       "      <td>0.000081</td>\n",
       "      <td>True</td>\n",
       "      <td>collie</td>\n",
       "      <td>0.000069</td>\n",
       "      <td>True</td>\n",
       "      <td>NaN</td>\n",
       "    </tr>\n",
       "  </tbody>\n",
       "</table>\n",
       "</div>"
      ],
      "text/plain": [
       "                tweet_id           tweet_timestamp  \\\n",
       "1271  695074328191332352 2016-02-04 02:40:08+00:00   \n",
       "1048  712717840512598017 2016-03-23 19:09:09+00:00   \n",
       "2165  667550904950915073                       NaT   \n",
       "\n",
       "                                                 source  \\\n",
       "1271  <a href=\"http://twitter.com/download/iphone\" r...   \n",
       "1048  <a href=\"http://twitter.com/download/iphone\" r...   \n",
       "2165                                                NaN   \n",
       "\n",
       "                                                   text  \\\n",
       "1271  This is Lorenzo. He's educated af. Just gradua...   \n",
       "1048  Please don't send in any more polar bears. We ...   \n",
       "2165                                                NaN   \n",
       "\n",
       "                                          expanded_urls  rating_numerator  \\\n",
       "1271  https://twitter.com/dog_rates/status/695074328...                11   \n",
       "1048  https://twitter.com/dog_rates/status/712717840...                10   \n",
       "2165                                                NaN                 0   \n",
       "\n",
       "      rating_denominator     name  img_num             tp1  tp1_confidence  \\\n",
       "1271                  10  Lorenzo      1.0        Shih-Tzu        0.510106   \n",
       "1048                  10     None      1.0  Great Pyrenees        0.732043   \n",
       "2165                   0      NaN      1.0        web site        0.999335   \n",
       "\n",
       "      tp1_dog              tp2  tp2_confidence  tp2_dog              tp3  \\\n",
       "1271     True  Tibetan terrier        0.071981     True            Lhasa   \n",
       "1048     True           kuvasz        0.121375     True  Irish wolfhound   \n",
       "2165    False           vizsla        0.000081     True           collie   \n",
       "\n",
       "      tp3_confidence  tp3_dog growth_stage_value  \n",
       "1271        0.069231     True               None  \n",
       "1048        0.049524     True               None  \n",
       "2165        0.000069     True                NaN  "
      ]
     },
     "execution_count": 161,
     "metadata": {},
     "output_type": "execute_result"
    }
   ],
   "source": [
    "df_master_unpivoted.sample(3)"
   ]
  },
  {
   "cell_type": "code",
   "execution_count": 162,
   "id": "c996d969",
   "metadata": {},
   "outputs": [],
   "source": [
    "#write dataframes to a file\n",
    "df_master_unpivoted.to_csv('twitter_archive_master.csv',index=False)"
   ]
  },
  {
   "cell_type": "code",
   "execution_count": 163,
   "id": "fdf661dd",
   "metadata": {},
   "outputs": [],
   "source": [
    "df_prediction_clean.to_csv('image_predictions.tsv',sep='\\t',index=False)"
   ]
  },
  {
   "cell_type": "code",
   "execution_count": 164,
   "id": "3dd4a451",
   "metadata": {},
   "outputs": [],
   "source": [
    "retweets_unpivoted.to_csv('retweets.csv', index=False)"
   ]
  },
  {
   "cell_type": "code",
   "execution_count": 165,
   "id": "b0d11473",
   "metadata": {},
   "outputs": [],
   "source": [
    "#save file to sqlite db\n",
    "from sqlalchemy import create_engine\n",
    "engine = create_engine('sqlite:///twitter_archive_master.db')\n",
    "df_twitter_archive_clean.to_sql('master_twitter_archive',engine,index=False)\n",
    "df_prediction_clean.to_sql('master_prediction',engine,index=False)\n",
    "retweets.to_sql('master_retweets',engine,index=False)"
   ]
  },
  {
   "cell_type": "markdown",
   "id": "518e2126",
   "metadata": {},
   "source": [
    "<a id='da'></a>\n",
    "## Data Analysis\n"
   ]
  },
  {
   "cell_type": "code",
   "execution_count": 166,
   "id": "41696e58",
   "metadata": {},
   "outputs": [],
   "source": [
    "#read retweets and twitter_archive_master dataframe\n",
    "df_retweets = pd.read_csv('retweets.csv')\n",
    "df_twitter_archive_master = pd.read_csv('twitter_archive_master.csv')"
   ]
  },
  {
   "cell_type": "code",
   "execution_count": 167,
   "id": "de5314af",
   "metadata": {},
   "outputs": [
    {
     "data": {
      "text/html": [
       "<div>\n",
       "<style scoped>\n",
       "    .dataframe tbody tr th:only-of-type {\n",
       "        vertical-align: middle;\n",
       "    }\n",
       "\n",
       "    .dataframe tbody tr th {\n",
       "        vertical-align: top;\n",
       "    }\n",
       "\n",
       "    .dataframe thead th {\n",
       "        text-align: right;\n",
       "    }\n",
       "</style>\n",
       "<table border=\"1\" class=\"dataframe\">\n",
       "  <thead>\n",
       "    <tr style=\"text-align: right;\">\n",
       "      <th></th>\n",
       "      <th>tweet_id</th>\n",
       "      <th>tweet_timestamp</th>\n",
       "      <th>source</th>\n",
       "      <th>text</th>\n",
       "      <th>expanded_urls</th>\n",
       "      <th>rating_numerator</th>\n",
       "      <th>rating_denominator</th>\n",
       "      <th>name</th>\n",
       "      <th>img_num</th>\n",
       "      <th>tp1</th>\n",
       "      <th>tp1_confidence</th>\n",
       "      <th>tp1_dog</th>\n",
       "      <th>tp2</th>\n",
       "      <th>tp2_confidence</th>\n",
       "      <th>tp2_dog</th>\n",
       "      <th>tp3</th>\n",
       "      <th>tp3_confidence</th>\n",
       "      <th>tp3_dog</th>\n",
       "      <th>growth_stage_value</th>\n",
       "    </tr>\n",
       "  </thead>\n",
       "  <tbody>\n",
       "    <tr>\n",
       "      <th>1585</th>\n",
       "      <td>678255464182861824</td>\n",
       "      <td>2015-12-19 16:47:58+00:00</td>\n",
       "      <td>&lt;a href=\"http://twitter.com/download/iphone\" r...</td>\n",
       "      <td>This is Jessifer. She is a Bismoth Teriyaki. F...</td>\n",
       "      <td>https://twitter.com/dog_rates/status/678255464...</td>\n",
       "      <td>12</td>\n",
       "      <td>10</td>\n",
       "      <td>Jessifer</td>\n",
       "      <td>1.0</td>\n",
       "      <td>Chihuahua</td>\n",
       "      <td>0.613819</td>\n",
       "      <td>True</td>\n",
       "      <td>Yorkshire terrier</td>\n",
       "      <td>0.127931</td>\n",
       "      <td>True</td>\n",
       "      <td>Pomeranian</td>\n",
       "      <td>0.062124</td>\n",
       "      <td>True</td>\n",
       "      <td>None</td>\n",
       "    </tr>\n",
       "    <tr>\n",
       "      <th>1983</th>\n",
       "      <td>669324657376567296</td>\n",
       "      <td>2015-11-25 01:20:08+00:00</td>\n",
       "      <td>&lt;a href=\"http://twitter.com/download/iphone\" r...</td>\n",
       "      <td>Meet Ralf. He's a miniature Buick DiCaprio. Ca...</td>\n",
       "      <td>https://twitter.com/dog_rates/status/669324657...</td>\n",
       "      <td>11</td>\n",
       "      <td>10</td>\n",
       "      <td>Ralf</td>\n",
       "      <td>1.0</td>\n",
       "      <td>seashore</td>\n",
       "      <td>0.201659</td>\n",
       "      <td>False</td>\n",
       "      <td>Cardigan</td>\n",
       "      <td>0.131544</td>\n",
       "      <td>True</td>\n",
       "      <td>sandbar</td>\n",
       "      <td>0.101430</td>\n",
       "      <td>False</td>\n",
       "      <td>None</td>\n",
       "    </tr>\n",
       "  </tbody>\n",
       "</table>\n",
       "</div>"
      ],
      "text/plain": [
       "                tweet_id            tweet_timestamp  \\\n",
       "1585  678255464182861824  2015-12-19 16:47:58+00:00   \n",
       "1983  669324657376567296  2015-11-25 01:20:08+00:00   \n",
       "\n",
       "                                                 source  \\\n",
       "1585  <a href=\"http://twitter.com/download/iphone\" r...   \n",
       "1983  <a href=\"http://twitter.com/download/iphone\" r...   \n",
       "\n",
       "                                                   text  \\\n",
       "1585  This is Jessifer. She is a Bismoth Teriyaki. F...   \n",
       "1983  Meet Ralf. He's a miniature Buick DiCaprio. Ca...   \n",
       "\n",
       "                                          expanded_urls  rating_numerator  \\\n",
       "1585  https://twitter.com/dog_rates/status/678255464...                12   \n",
       "1983  https://twitter.com/dog_rates/status/669324657...                11   \n",
       "\n",
       "      rating_denominator      name  img_num        tp1  tp1_confidence  \\\n",
       "1585                  10  Jessifer      1.0  Chihuahua        0.613819   \n",
       "1983                  10      Ralf      1.0   seashore        0.201659   \n",
       "\n",
       "      tp1_dog                tp2  tp2_confidence  tp2_dog         tp3  \\\n",
       "1585     True  Yorkshire terrier        0.127931     True  Pomeranian   \n",
       "1983    False           Cardigan        0.131544     True     sandbar   \n",
       "\n",
       "      tp3_confidence  tp3_dog growth_stage_value  \n",
       "1585        0.062124     True               None  \n",
       "1983        0.101430    False               None  "
      ]
     },
     "execution_count": 167,
     "metadata": {},
     "output_type": "execute_result"
    }
   ],
   "source": [
    "df_twitter_archive_master.sample(2)"
   ]
  },
  {
   "cell_type": "code",
   "execution_count": 168,
   "id": "36e2f681",
   "metadata": {},
   "outputs": [
    {
     "data": {
      "text/html": [
       "<div>\n",
       "<style scoped>\n",
       "    .dataframe tbody tr th:only-of-type {\n",
       "        vertical-align: middle;\n",
       "    }\n",
       "\n",
       "    .dataframe tbody tr th {\n",
       "        vertical-align: top;\n",
       "    }\n",
       "\n",
       "    .dataframe thead th {\n",
       "        text-align: right;\n",
       "    }\n",
       "</style>\n",
       "<table border=\"1\" class=\"dataframe\">\n",
       "  <thead>\n",
       "    <tr style=\"text-align: right;\">\n",
       "      <th></th>\n",
       "      <th>tweet_id</th>\n",
       "      <th>rating_numerator</th>\n",
       "      <th>rating_denominator</th>\n",
       "      <th>img_num</th>\n",
       "      <th>tp1_confidence</th>\n",
       "      <th>tp2_confidence</th>\n",
       "      <th>tp3_confidence</th>\n",
       "    </tr>\n",
       "  </thead>\n",
       "  <tbody>\n",
       "    <tr>\n",
       "      <th>count</th>\n",
       "      <td>2.611000e+03</td>\n",
       "      <td>2611.000000</td>\n",
       "      <td>2611.000000</td>\n",
       "      <td>2391.000000</td>\n",
       "      <td>2391.000000</td>\n",
       "      <td>2.391000e+03</td>\n",
       "      <td>2.391000e+03</td>\n",
       "    </tr>\n",
       "    <tr>\n",
       "      <th>mean</th>\n",
       "      <td>7.403727e+17</td>\n",
       "      <td>13.345845</td>\n",
       "      <td>9.647645</td>\n",
       "      <td>1.211209</td>\n",
       "      <td>0.597469</td>\n",
       "      <td>1.345400e-01</td>\n",
       "      <td>5.972538e-02</td>\n",
       "    </tr>\n",
       "    <tr>\n",
       "      <th>std</th>\n",
       "      <td>6.717768e+16</td>\n",
       "      <td>43.559062</td>\n",
       "      <td>1.844099</td>\n",
       "      <td>0.572866</td>\n",
       "      <td>0.270948</td>\n",
       "      <td>1.014144e-01</td>\n",
       "      <td>5.082674e-02</td>\n",
       "    </tr>\n",
       "    <tr>\n",
       "      <th>min</th>\n",
       "      <td>6.660209e+17</td>\n",
       "      <td>0.000000</td>\n",
       "      <td>0.000000</td>\n",
       "      <td>1.000000</td>\n",
       "      <td>0.044333</td>\n",
       "      <td>1.011300e-08</td>\n",
       "      <td>1.740170e-10</td>\n",
       "    </tr>\n",
       "    <tr>\n",
       "      <th>25%</th>\n",
       "      <td>6.788848e+17</td>\n",
       "      <td>11.000000</td>\n",
       "      <td>10.000000</td>\n",
       "      <td>1.000000</td>\n",
       "      <td>0.368362</td>\n",
       "      <td>5.295590e-02</td>\n",
       "      <td>1.595385e-02</td>\n",
       "    </tr>\n",
       "    <tr>\n",
       "      <th>50%</th>\n",
       "      <td>7.164471e+17</td>\n",
       "      <td>12.000000</td>\n",
       "      <td>10.000000</td>\n",
       "      <td>1.000000</td>\n",
       "      <td>0.596882</td>\n",
       "      <td>1.166220e-01</td>\n",
       "      <td>4.881320e-02</td>\n",
       "    </tr>\n",
       "    <tr>\n",
       "      <th>75%</th>\n",
       "      <td>7.940838e+17</td>\n",
       "      <td>12.000000</td>\n",
       "      <td>10.000000</td>\n",
       "      <td>1.000000</td>\n",
       "      <td>0.845942</td>\n",
       "      <td>1.955655e-01</td>\n",
       "      <td>9.109395e-02</td>\n",
       "    </tr>\n",
       "    <tr>\n",
       "      <th>max</th>\n",
       "      <td>8.924206e+17</td>\n",
       "      <td>1776.000000</td>\n",
       "      <td>10.000000</td>\n",
       "      <td>4.000000</td>\n",
       "      <td>1.000000</td>\n",
       "      <td>4.880140e-01</td>\n",
       "      <td>2.734190e-01</td>\n",
       "    </tr>\n",
       "  </tbody>\n",
       "</table>\n",
       "</div>"
      ],
      "text/plain": [
       "           tweet_id  rating_numerator  rating_denominator      img_num  \\\n",
       "count  2.611000e+03       2611.000000         2611.000000  2391.000000   \n",
       "mean   7.403727e+17         13.345845            9.647645     1.211209   \n",
       "std    6.717768e+16         43.559062            1.844099     0.572866   \n",
       "min    6.660209e+17          0.000000            0.000000     1.000000   \n",
       "25%    6.788848e+17         11.000000           10.000000     1.000000   \n",
       "50%    7.164471e+17         12.000000           10.000000     1.000000   \n",
       "75%    7.940838e+17         12.000000           10.000000     1.000000   \n",
       "max    8.924206e+17       1776.000000           10.000000     4.000000   \n",
       "\n",
       "       tp1_confidence  tp2_confidence  tp3_confidence  \n",
       "count     2391.000000    2.391000e+03    2.391000e+03  \n",
       "mean         0.597469    1.345400e-01    5.972538e-02  \n",
       "std          0.270948    1.014144e-01    5.082674e-02  \n",
       "min          0.044333    1.011300e-08    1.740170e-10  \n",
       "25%          0.368362    5.295590e-02    1.595385e-02  \n",
       "50%          0.596882    1.166220e-01    4.881320e-02  \n",
       "75%          0.845942    1.955655e-01    9.109395e-02  \n",
       "max          1.000000    4.880140e-01    2.734190e-01  "
      ]
     },
     "execution_count": 168,
     "metadata": {},
     "output_type": "execute_result"
    }
   ],
   "source": [
    "df_twitter_archive_master.describe()"
   ]
  },
  {
   "cell_type": "code",
   "execution_count": 169,
   "id": "cb93873d",
   "metadata": {},
   "outputs": [
    {
     "data": {
      "text/plain": [
       "12      1064\n",
       "11       506\n",
       "10       505\n",
       "13       358\n",
       "0         92\n",
       "14        59\n",
       "27         2\n",
       "420        2\n",
       "50         1\n",
       "80         1\n",
       "60         1\n",
       "26         1\n",
       "44         1\n",
       "88         1\n",
       "24         1\n",
       "20         1\n",
       "84         1\n",
       "165        1\n",
       "144        1\n",
       "182        1\n",
       "143        1\n",
       "666        1\n",
       "960        1\n",
       "1776       1\n",
       "15         1\n",
       "17         1\n",
       "45         1\n",
       "75         1\n",
       "99         1\n",
       "121        1\n",
       "204        1\n",
       "Name: rating_numerator, dtype: int64"
      ]
     },
     "execution_count": 169,
     "metadata": {},
     "output_type": "execute_result"
    }
   ],
   "source": [
    "df = df_twitter_archive_master['rating_numerator'].value_counts()\n",
    "df"
   ]
  },
  {
   "cell_type": "code",
   "execution_count": 171,
   "id": "46807b22",
   "metadata": {},
   "outputs": [
    {
     "data": {
      "image/png": "[encoded data removed]",
      "text/plain": [
       "<Figure size 864x720 with 1 Axes>"
      ]
     },
     "metadata": {
      "needs_background": "light"
     },
     "output_type": "display_data"
    }
   ],
   "source": [
    "from matplotlib.ticker import ScalarFormatter\n",
    "\n",
    "    \n",
    "from matplotlib import rcParams\n",
    "def drawBarChart(dataframe,title, xlabel,ylabel,xscale):\n",
    "    # get order of bars by frequency\n",
    "    type_values = dataframe.index\n",
    "    # Compute largest proportion\n",
    "    # Returns the sum of frequency of all not-null values in `type` column\n",
    "    sum_of_freq = dataframe.sum()\n",
    "    \n",
    "    \n",
    "    max_numerator_count = dataframe[12]\n",
    "    \n",
    "    max_prop = max_numerator_count / sum_of_freq\n",
    "    # establish tick locations and create plot\n",
    "    base_color = sb.color_palette()[0]\n",
    "    tick_props = np.arange(0, max_prop, 0.1)\n",
    "    tick_names = ['{:0.2f}'.format(v) for v in tick_props]\n",
    "    base_color = sb.color_palette()[0]\n",
    "    sb.countplot(data = df_twitter_archive_master, y = 'rating_numerator', color = base_color, order = type_values)\n",
    "    plt.xticks(tick_props * sum_of_freq, tick_names)\n",
    "    plt.xscale(xscale)\n",
    "    plt.title(title)\n",
    "    plt.xlabel(xlabel)\n",
    "    plt.ylabel(ylabel)\n",
    "\n",
    "    # Specify the figure size in inches, for both X, and Y axes\n",
    "    rcParams['figure.figsize'] = 20,10\n",
    "    # Logic to print the proportion text on the bars\n",
    "    j=0\n",
    "    for i in dataframe.index:\n",
    "        # Remember, type_counts contains the frequency of unique values in the `type` column in decreasing order.\n",
    "        count = dataframe[i]\n",
    "        # Convert count into a percentage, and then into string\n",
    "        pct_string = '{:0.2f}'.format(100*count/sum_of_freq)\n",
    "        # Print the string value on the bar. \n",
    "        # Read more about the arguments of text() function [here](https://matplotlib.org/3.1.1/api/_as_gen/matplotlib.pyplot.text.html)\n",
    "        plt.text(count+1, j, pct_string, va='center')\n",
    "        j = j+1\n",
    "drawBarChart(df,'Rating Distribution', 'Frequency of Occurrence','Rating Numerator','log')"
   ]
  },
  {
   "cell_type": "code",
   "execution_count": 173,
   "id": "4ca5f45e",
   "metadata": {},
   "outputs": [
    {
     "data": {
      "text/html": [
       "<div>\n",
       "<style scoped>\n",
       "    .dataframe tbody tr th:only-of-type {\n",
       "        vertical-align: middle;\n",
       "    }\n",
       "\n",
       "    .dataframe tbody tr th {\n",
       "        vertical-align: top;\n",
       "    }\n",
       "\n",
       "    .dataframe thead th {\n",
       "        text-align: right;\n",
       "    }\n",
       "</style>\n",
       "<table border=\"1\" class=\"dataframe\">\n",
       "  <thead>\n",
       "    <tr style=\"text-align: right;\">\n",
       "      <th></th>\n",
       "      <th>tweet_id</th>\n",
       "      <th>tweet_timestamp</th>\n",
       "      <th>source</th>\n",
       "      <th>text</th>\n",
       "      <th>retweeted_status_id</th>\n",
       "      <th>retweeted_status_user_id</th>\n",
       "      <th>retweeted_status_timestamp</th>\n",
       "      <th>expanded_urls</th>\n",
       "      <th>rating_numerator</th>\n",
       "      <th>rating_denominator</th>\n",
       "      <th>name</th>\n",
       "      <th>growth_stage_value</th>\n",
       "    </tr>\n",
       "  </thead>\n",
       "  <tbody>\n",
       "    <tr>\n",
       "      <th>0</th>\n",
       "      <td>886054160059072513</td>\n",
       "      <td>2017-07-15 02:45:48+00:00</td>\n",
       "      <td>&lt;a href=\"http://twitter.com/download/iphone\" r...</td>\n",
       "      <td>RT @Athletics: 12/10 #BATP https://t.co/WxwJmv...</td>\n",
       "      <td>886053734421102592</td>\n",
       "      <td>19607400</td>\n",
       "      <td>2017-07-15 02:44:07+00:00</td>\n",
       "      <td>https://twitter.com/dog_rates/status/886053434...</td>\n",
       "      <td>12</td>\n",
       "      <td>10</td>\n",
       "      <td>None</td>\n",
       "      <td>None</td>\n",
       "    </tr>\n",
       "    <tr>\n",
       "      <th>1</th>\n",
       "      <td>885311592912609280</td>\n",
       "      <td>2017-07-13 01:35:06+00:00</td>\n",
       "      <td>&lt;a href=\"http://twitter.com/download/iphone\" r...</td>\n",
       "      <td>RT @dog_rates: This is Lilly. She just paralle...</td>\n",
       "      <td>830583320585068544</td>\n",
       "      <td>4196983835</td>\n",
       "      <td>2017-02-12 01:04:29+00:00</td>\n",
       "      <td>https://twitter.com/dog_rates/status/830583320...</td>\n",
       "      <td>13</td>\n",
       "      <td>10</td>\n",
       "      <td>Lilly</td>\n",
       "      <td>None</td>\n",
       "    </tr>\n",
       "    <tr>\n",
       "      <th>2</th>\n",
       "      <td>879130579576475649</td>\n",
       "      <td>2017-06-26 00:13:58+00:00</td>\n",
       "      <td>&lt;a href=\"http://twitter.com/download/iphone\" r...</td>\n",
       "      <td>RT @dog_rates: This is Emmy. She was adopted t...</td>\n",
       "      <td>878057613040115712</td>\n",
       "      <td>4196983835</td>\n",
       "      <td>2017-06-23 01:10:23+00:00</td>\n",
       "      <td>https://twitter.com/dog_rates/status/878057613...</td>\n",
       "      <td>14</td>\n",
       "      <td>10</td>\n",
       "      <td>Emmy</td>\n",
       "      <td>None</td>\n",
       "    </tr>\n",
       "    <tr>\n",
       "      <th>3</th>\n",
       "      <td>878404777348136964</td>\n",
       "      <td>2017-06-24 00:09:53+00:00</td>\n",
       "      <td>&lt;a href=\"http://twitter.com/download/iphone\" r...</td>\n",
       "      <td>RT @dog_rates: Meet Shadow. In an attempt to r...</td>\n",
       "      <td>878281511006478336</td>\n",
       "      <td>4196983835</td>\n",
       "      <td>2017-06-23 16:00:04+00:00</td>\n",
       "      <td>https://www.gofundme.com/3yd6y1c,https://twitt...</td>\n",
       "      <td>13</td>\n",
       "      <td>10</td>\n",
       "      <td>Shadow</td>\n",
       "      <td>None</td>\n",
       "    </tr>\n",
       "    <tr>\n",
       "      <th>4</th>\n",
       "      <td>878316110768087041</td>\n",
       "      <td>2017-06-23 18:17:33+00:00</td>\n",
       "      <td>&lt;a href=\"http://twitter.com/download/iphone\" r...</td>\n",
       "      <td>RT @dog_rates: Meet Terrance. He's being yelle...</td>\n",
       "      <td>669000397445533696</td>\n",
       "      <td>4196983835</td>\n",
       "      <td>2015-11-24 03:51:38+00:00</td>\n",
       "      <td>https://twitter.com/dog_rates/status/669000397...</td>\n",
       "      <td>11</td>\n",
       "      <td>10</td>\n",
       "      <td>Terrance</td>\n",
       "      <td>None</td>\n",
       "    </tr>\n",
       "  </tbody>\n",
       "</table>\n",
       "</div>"
      ],
      "text/plain": [
       "             tweet_id            tweet_timestamp  \\\n",
       "0  886054160059072513  2017-07-15 02:45:48+00:00   \n",
       "1  885311592912609280  2017-07-13 01:35:06+00:00   \n",
       "2  879130579576475649  2017-06-26 00:13:58+00:00   \n",
       "3  878404777348136964  2017-06-24 00:09:53+00:00   \n",
       "4  878316110768087041  2017-06-23 18:17:33+00:00   \n",
       "\n",
       "                                              source  \\\n",
       "0  <a href=\"http://twitter.com/download/iphone\" r...   \n",
       "1  <a href=\"http://twitter.com/download/iphone\" r...   \n",
       "2  <a href=\"http://twitter.com/download/iphone\" r...   \n",
       "3  <a href=\"http://twitter.com/download/iphone\" r...   \n",
       "4  <a href=\"http://twitter.com/download/iphone\" r...   \n",
       "\n",
       "                                                text  retweeted_status_id  \\\n",
       "0  RT @Athletics: 12/10 #BATP https://t.co/WxwJmv...   886053734421102592   \n",
       "1  RT @dog_rates: This is Lilly. She just paralle...   830583320585068544   \n",
       "2  RT @dog_rates: This is Emmy. She was adopted t...   878057613040115712   \n",
       "3  RT @dog_rates: Meet Shadow. In an attempt to r...   878281511006478336   \n",
       "4  RT @dog_rates: Meet Terrance. He's being yelle...   669000397445533696   \n",
       "\n",
       "   retweeted_status_user_id retweeted_status_timestamp  \\\n",
       "0                  19607400  2017-07-15 02:44:07+00:00   \n",
       "1                4196983835  2017-02-12 01:04:29+00:00   \n",
       "2                4196983835  2017-06-23 01:10:23+00:00   \n",
       "3                4196983835  2017-06-23 16:00:04+00:00   \n",
       "4                4196983835  2015-11-24 03:51:38+00:00   \n",
       "\n",
       "                                       expanded_urls  rating_numerator  \\\n",
       "0  https://twitter.com/dog_rates/status/886053434...                12   \n",
       "1  https://twitter.com/dog_rates/status/830583320...                13   \n",
       "2  https://twitter.com/dog_rates/status/878057613...                14   \n",
       "3  https://www.gofundme.com/3yd6y1c,https://twitt...                13   \n",
       "4  https://twitter.com/dog_rates/status/669000397...                11   \n",
       "\n",
       "   rating_denominator      name growth_stage_value  \n",
       "0                  10      None               None  \n",
       "1                  10     Lilly               None  \n",
       "2                  10      Emmy               None  \n",
       "3                  10    Shadow               None  \n",
       "4                  10  Terrance               None  "
      ]
     },
     "execution_count": 173,
     "metadata": {},
     "output_type": "execute_result"
    }
   ],
   "source": [
    "df_retweets.head()"
   ]
  },
  {
   "cell_type": "code",
   "execution_count": 174,
   "id": "cde5fe45",
   "metadata": {},
   "outputs": [
    {
     "data": {
      "image/png": "[encoded data removed]",
      "text/plain": [
       "<Figure size 1440x720 with 1 Axes>"
      ]
     },
     "metadata": {
      "needs_background": "light"
     },
     "output_type": "display_data"
    }
   ],
   "source": [
    "base_color = sb.color_palette()[1]\n",
    "sb.countplot(data=df_retweets, x=\"growth_stage_value\",color=base_color);"
   ]
  },
  {
   "cell_type": "code",
   "execution_count": 175,
   "id": "95931246",
   "metadata": {},
   "outputs": [
    {
     "data": {
      "text/plain": [
       "None      160\n",
       "pupper     21\n",
       "doggo       8\n",
       "puppo       5\n",
       "Name: growth_stage_value, dtype: int64"
      ]
     },
     "execution_count": 175,
     "metadata": {},
     "output_type": "execute_result"
    }
   ],
   "source": [
    "df_retweets['growth_stage_value'].value_counts()"
   ]
  },
  {
   "cell_type": "code",
   "execution_count": 176,
   "id": "c059914b",
   "metadata": {},
   "outputs": [
    {
     "data": {
      "text/plain": [
       "<AxesSubplot:xlabel='growth_stage_value', ylabel='count'>"
      ]
     },
     "execution_count": 176,
     "metadata": {},
     "output_type": "execute_result"
    },
    {
     "data": {
      "image/png": "[encoded data removed]",
      "text/plain": [
       "<Figure size 1440x720 with 1 Axes>"
      ]
     },
     "metadata": {
      "needs_background": "light"
     },
     "output_type": "display_data"
    }
   ],
   "source": [
    "base_color = sb.color_palette()[0]\n",
    "sb.countplot(data=df_twitter_archive_master, x=\"growth_stage_value\",color=base_color)\n",
    "\n"
   ]
  },
  {
   "cell_type": "code",
   "execution_count": 177,
   "id": "f8ef1d02",
   "metadata": {},
   "outputs": [
    {
     "data": {
      "text/plain": [
       "None       2164\n",
       "pupper      234\n",
       "doggo        86\n",
       "puppo        25\n",
       "floofer      10\n",
       "Name: growth_stage_value, dtype: int64"
      ]
     },
     "execution_count": 177,
     "metadata": {},
     "output_type": "execute_result"
    }
   ],
   "source": [
    "df_twitter_archive_master['growth_stage_value'].value_counts()"
   ]
  },
  {
   "cell_type": "code",
   "execution_count": 178,
   "id": "335cdd09",
   "metadata": {},
   "outputs": [
    {
     "data": {
      "text/plain": [
       "Text(0, 0.5, 'Frequency of Certainties')"
      ]
     },
     "execution_count": 178,
     "metadata": {},
     "output_type": "execute_result"
    },
    {
     "data": {
      "image/png": "[encoded data removed]",
      "text/plain": [
       "<Figure size 576x576 with 1 Axes>"
      ]
     },
     "metadata": {
      "needs_background": "light"
     },
     "output_type": "display_data"
    }
   ],
   "source": [
    "df_twitter_archive_master['tp1_confidence'].hist(figsize=(8,8));\n",
    "plt.title(\"First Certainty of Prediction Distribution\")\n",
    "plt.xlabel(\"Certainty of Prediction\")\n",
    "plt.ylabel(\"Frequency of Certainties\")\n",
    "    "
   ]
  },
  {
   "cell_type": "code",
   "execution_count": 184,
   "id": "cc680c93",
   "metadata": {},
   "outputs": [
    {
     "data": {
      "text/plain": [
       "0    0.843799\n",
       "1    0.945523\n",
       "dtype: float64"
      ]
     },
     "execution_count": 184,
     "metadata": {},
     "output_type": "execute_result"
    }
   ],
   "source": [
    "df_twitter_archive_master['tp1_confidence'].mode()"
   ]
  },
  {
   "cell_type": "code",
   "execution_count": 182,
   "id": "cd2c11df",
   "metadata": {},
   "outputs": [
    {
     "data": {
      "text/plain": [
       "Text(0, 0.5, 'Frequency of Certainties')"
      ]
     },
     "execution_count": 182,
     "metadata": {},
     "output_type": "execute_result"
    },
    {
     "data": {
      "image/png": "[encoded data removed]",
      "text/plain": [
       "<Figure size 576x576 with 1 Axes>"
      ]
     },
     "metadata": {
      "needs_background": "light"
     },
     "output_type": "display_data"
    }
   ],
   "source": [
    "df_twitter_archive_master['tp2_confidence'].hist(figsize=(8,8))\n",
    "plt.title(\"Second Certainty of Prediction Distribution\")\n",
    "plt.xlabel(\"Certainty of Prediction\")\n",
    "plt.ylabel(\"Frequency of Certainties\")"
   ]
  },
  {
   "cell_type": "code",
   "execution_count": 183,
   "id": "6f303062",
   "metadata": {},
   "outputs": [
    {
     "data": {
      "text/plain": [
       "Text(0, 0.5, 'Frequency of Certainties')"
      ]
     },
     "execution_count": 183,
     "metadata": {},
     "output_type": "execute_result"
    },
    {
     "data": {
      "image/png": "[encoded data removed]",
      "text/plain": [
       "<Figure size 576x576 with 1 Axes>"
      ]
     },
     "metadata": {
      "needs_background": "light"
     },
     "output_type": "display_data"
    }
   ],
   "source": [
    "df_twitter_archive_master['tp3_confidence'].hist(figsize=(8,8))\n",
    "plt.title(\"Third Certainty of Prediction Distribution\")\n",
    "plt.xlabel(\"Certainty of Prediction\")\n",
    "plt.ylabel(\"Frequency of Certainties\")"
   ]
  },
  {
   "cell_type": "markdown",
   "id": "3569ec5a",
   "metadata": {},
   "source": [
    "<a id='insights'></a>\n",
    "## Insights\n",
    "\n",
    "1. Rating Numerator has 12 as the modal value. \n",
    "2. The values of `tp3_confidence` has an exponential distribution. \n",
    "3. The values of `tp1_confidence` is bimodal.\n",
    "4. The values of tp2_confidence are seeming exponentially distributed as well.\n",
    "5. Floofer is the least classification of dogs at WeRateDogs archive.\n",
    "6. Many dogs were not classified to be under any growth category.\n"
   ]
  }
 ],
 "metadata": {
  "kernelspec": {
   "display_name": "Python [conda env:python3_6] *",
   "language": "python",
   "name": "conda-env-python3_6-py"
  },
  "language_info": {
   "codemirror_mode": {
    "name": "ipython",
    "version": 3
   },
   "file_extension": ".py",
   "mimetype": "text/x-python",
   "name": "python",
   "nbconvert_exporter": "python",
   "pygments_lexer": "ipython3",
   "version": "3.6.13"
  }
 },
 "nbformat": 4,
 "nbformat_minor": 5
}
